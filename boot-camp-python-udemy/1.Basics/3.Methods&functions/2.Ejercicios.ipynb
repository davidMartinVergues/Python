{
 "cells": [
  {
   "cell_type": "code",
   "execution_count": 1,
   "metadata": {},
   "outputs": [],
   "source": [
    "# ejercicio 1\n",
    "def lesser_of_two_evens(a,b):\n",
    "    if a%2 == 0 and b % 2 == 0:\n",
    "        return a if a<b else b\n",
    "    else:\n",
    "        return a if a>b else b"
   ]
  },
  {
   "cell_type": "code",
   "execution_count": 10,
   "metadata": {},
   "outputs": [],
   "source": [
    "# alernativa\n",
    "\n",
    "def lesser_of_two_evens2(a,b):\n",
    "    if a%2 == 0 and b % 2 == 0:\n",
    "        return min(a,b)\n",
    "    else:\n",
    "        return max(a,b)"
   ]
  },
  {
   "cell_type": "code",
   "execution_count": 17,
   "metadata": {},
   "outputs": [],
   "source": [
    "def animal_crackers(text):\n",
    "      return text.split()[0][0].lower() ==  text.split()[1][0].lower()\n",
    "       "
   ]
  },
  {
   "cell_type": "code",
   "execution_count": 23,
   "metadata": {},
   "outputs": [],
   "source": [
    "# más efectivo\n",
    "def animal_crackers2(text):\n",
    "    wordlist = text.lower().split()\n",
    "    return wordlist[0][0] ==  wordlist[1][0]"
   ]
  },
  {
   "cell_type": "code",
   "execution_count": 25,
   "metadata": {},
   "outputs": [
    {
     "data": {
      "text/plain": [
       "True"
      ]
     },
     "execution_count": 25,
     "metadata": {},
     "output_type": "execute_result"
    }
   ],
   "source": [
    "animal_crackers2('Crazy cangaroo')"
   ]
  },
  {
   "cell_type": "code",
   "execution_count": 26,
   "metadata": {},
   "outputs": [],
   "source": [
    "def makes_twenty(n1,n2):\n",
    "    return n1+n2 == 20 or n1 == 20 or n2 == 20"
   ]
  },
  {
   "cell_type": "code",
   "execution_count": 30,
   "metadata": {},
   "outputs": [],
   "source": [
    "def old_macdonald(name):\n",
    "    name = name[0].upper()+name[1:3]+name[3].upper()+name[4:]\n",
    "    return name"
   ]
  },
  {
   "cell_type": "code",
   "execution_count": 35,
   "metadata": {},
   "outputs": [],
   "source": [
    "# alternativa\n",
    "def old_macdonald(name):\n",
    "    first_part = name[:3]\n",
    "    second_part = name[3:]\n",
    "    return first_part.capitalize()+second_part.capitalize()"
   ]
  },
  {
   "cell_type": "code",
   "execution_count": 36,
   "metadata": {},
   "outputs": [
    {
     "data": {
      "text/plain": [
       "'MacDonald'"
      ]
     },
     "execution_count": 36,
     "metadata": {},
     "output_type": "execute_result"
    }
   ],
   "source": [
    "old_macdonald('macdonald')"
   ]
  },
  {
   "cell_type": "code",
   "execution_count": 60,
   "metadata": {},
   "outputs": [],
   "source": [
    "def master_yoda(text):\n",
    "    t = text.split()\n",
    "    t.reverse()\n",
    "    return ' '.join(t)\n",
    "            "
   ]
  },
  {
   "cell_type": "code",
   "execution_count": 97,
   "metadata": {},
   "outputs": [],
   "source": [
    "def master_yoda(text):\n",
    "    t = text.split()\n",
    "    t2= []\n",
    "    for i in range(len(t)-1,-1,-1):\n",
    "        t2.append(t[i])\n",
    "    return ' '.join(t2)\n",
    "    \n"
   ]
  },
  {
   "cell_type": "code",
   "execution_count": 4,
   "metadata": {},
   "outputs": [],
   "source": [
    "# alternativa\n",
    "def master_yoda2(text):\n",
    "    word = text.split()\n",
    "    resvers_word = word[::-1]\n",
    "    return ' '.join(resvers_word)\n"
   ]
  },
  {
   "cell_type": "code",
   "execution_count": 5,
   "metadata": {},
   "outputs": [
    {
     "data": {
      "text/plain": [
       "'home am I'"
      ]
     },
     "execution_count": 5,
     "metadata": {},
     "output_type": "execute_result"
    }
   ],
   "source": [
    "master_yoda2('I am home')"
   ]
  },
  {
   "cell_type": "code",
   "execution_count": 9,
   "metadata": {},
   "outputs": [],
   "source": [
    "def almost_there(n):\n",
    "    return abs(100-n)<=10 or abs(200-n)<=10 "
   ]
  },
  {
   "cell_type": "code",
   "execution_count": 12,
   "metadata": {},
   "outputs": [
    {
     "data": {
      "text/plain": [
       "False"
      ]
     },
     "execution_count": 12,
     "metadata": {},
     "output_type": "execute_result"
    }
   ],
   "source": [
    "almost_there(150)"
   ]
  },
  {
   "cell_type": "code",
   "execution_count": 40,
   "metadata": {},
   "outputs": [],
   "source": [
    "def has_33_(nums):\n",
    "    for i in range(0, len(nums)-1):\n",
    "        if nums[i]== 3 and nums[i+1]==3:\n",
    "            return True\n",
    "    return False"
   ]
  },
  {
   "cell_type": "code",
   "execution_count": 47,
   "metadata": {},
   "outputs": [],
   "source": [
    "def has_33_b(nums):\n",
    "    for i in range(0, len(nums)-1):\n",
    "        if nums[i:i+2]==[3,3]:\n",
    "            return True\n",
    "    return False"
   ]
  },
  {
   "cell_type": "code",
   "execution_count": 48,
   "metadata": {},
   "outputs": [
    {
     "data": {
      "text/plain": [
       "True"
      ]
     },
     "execution_count": 48,
     "metadata": {},
     "output_type": "execute_result"
    }
   ],
   "source": [
    "has_33_b([1, 3, 3])"
   ]
  },
  {
   "cell_type": "code",
   "execution_count": 16,
   "metadata": {},
   "outputs": [],
   "source": [
    "def paper_doll(text):\n",
    "    l = [letter*3 for letter in text]\n",
    "    return ''.join(l)"
   ]
  },
  {
   "cell_type": "code",
   "execution_count": 27,
   "metadata": {},
   "outputs": [],
   "source": [
    "def blackjack(a,b,c):\n",
    "    message=''\n",
    "    result_sum = sum((a,b,c))\n",
    "    \n",
    "    if min([a,b,c])<1 or max([a,b,c])>11:\n",
    "        message= 'ERROR'\n",
    "    else:\n",
    "        if result_sum<=21:\n",
    "            message= result_sum\n",
    "        else:\n",
    "            if 11 in [a,b,c]:\n",
    "                result_sum -=10\n",
    "                message = 'BUST' if result_sum>21 else result_sum\n",
    "            else:\n",
    "                message= 'BUST'\n",
    "    return message\n",
    "            \n",
    "            \n",
    "        \n",
    "    "
   ]
  },
  {
   "cell_type": "code",
   "execution_count": 58,
   "metadata": {},
   "outputs": [],
   "source": [
    "def summer_69(arr):\n",
    "    result = 0\n",
    "    index = 0\n",
    "\n",
    "    if 6 not in arr:\n",
    "        result = sum(arr)\n",
    "    else:\n",
    "        while(True):\n",
    "            index = arr.index(6)\n",
    "\n",
    "            result += sum(arr[:index])\n",
    "            index2 = arr.index(9)\n",
    "            arr = arr[index2+1:]\n",
    "\n",
    "            if 6 not in arr:\n",
    "                result += sum(arr)\n",
    "                break\n",
    "            else:\n",
    "                pass\n",
    "\n",
    "    return result\n",
    "                \n",
    "                "
   ]
  },
  {
   "cell_type": "code",
   "execution_count": null,
   "metadata": {},
   "outputs": [],
   "source": [
    "summer_69([2, 1, 6, 9, 11,1,6,5,5,5,9,1])"
   ]
  },
  {
   "cell_type": "code",
   "execution_count": 50,
   "metadata": {},
   "outputs": [],
   "source": [
    "# Challenging problems\n",
    "def spy_game(nums):\n",
    "    r = False\n",
    "    for i,d in enumerate(nums):\n",
    "        if d == 0:\n",
    "            if (i+1<len(nums) and i+2 < len(nums)) and [0,7] == [nums[i+1], nums[i+2]]:\n",
    "                r= True\n",
    "                break\n",
    "    return r"
   ]
  },
  {
   "cell_type": "code",
   "execution_count": 51,
   "metadata": {},
   "outputs": [
    {
     "data": {
      "text/plain": [
       "False"
      ]
     },
     "execution_count": 51,
     "metadata": {},
     "output_type": "execute_result"
    }
   ],
   "source": [
    "spy_game([1,0,2,4,0,5,7])"
   ]
  },
  {
   "cell_type": "code",
   "execution_count": 52,
   "metadata": {},
   "outputs": [],
   "source": [
    "def count_primes(num):\n",
    "    count = 1\n",
    "    prime = True\n",
    "    for x in range(3, num):\n",
    "        prime = True\n",
    "        if x % 2 == 0:\n",
    "            continue\n",
    "        for y in range(2, x):\n",
    "            if x % y == 0:\n",
    "                prime = False\n",
    "                break\n",
    "        count += 1 if prime else 0\n",
    "    return count"
   ]
  },
  {
   "cell_type": "code",
   "execution_count": 53,
   "metadata": {},
   "outputs": [
    {
     "data": {
      "text/plain": [
       "25"
      ]
     },
     "execution_count": 53,
     "metadata": {},
     "output_type": "execute_result"
    }
   ],
   "source": [
    "count_primes(100)"
   ]
  },
  {
   "cell_type": "code",
   "execution_count": 5,
   "metadata": {},
   "outputs": [],
   "source": [
    "def print_big(letter):\n",
    "    for x in range(0,5):\n",
    "        for y in range(0,5):\n",
    "            if(x == 0):\n",
    "                if(y == 2):\n",
    "                    print('*', end=\"\")\n",
    "                else:\n",
    "                    print(' ', end=\"\")\n",
    "            elif (x==1):\n",
    "                if(y==1 or y==3 ):\n",
    "                    print('*', end=\"\")\n",
    "                else:\n",
    "                    print(' ', end=\"\")\n",
    "            elif(x==2):\n",
    "                print('*', end=\"\")\n",
    "            elif(x== 3 or x== 4):\n",
    "                if(y==0 or y == 4):\n",
    "                    print('*', end=\"\")\n",
    "                else:\n",
    "                    print(' ', end=\"\")\n",
    "        print(' ')\n",
    "                "
   ]
  },
  {
   "cell_type": "code",
   "execution_count": 6,
   "metadata": {},
   "outputs": [
    {
     "name": "stdout",
     "output_type": "stream",
     "text": [
      "  *   \n",
      " * *  \n",
      "***** \n",
      "*   * \n",
      "*   * \n"
     ]
    }
   ],
   "source": [
    "print_big('a')"
   ]
  },
  {
   "cell_type": "code",
   "execution_count": 7,
   "metadata": {},
   "outputs": [],
   "source": [
    "def print_big2(letter):\n",
    "    patterns = {1:'  *  ',2:' * * ',3:'*   *',4:'*****',5:'**** ',6:'   * ',7:' *   ',8:'*   * ',9:'*    '}\n",
    "    alphabet = {'A':[1,2,4,3,3],'B':[5,3,5,3,5],'C':[4,9,9,9,4],'D':[5,3,3,3,5],'E':[4,9,4,9,4]}\n",
    "    for pattern in alphabet[letter.upper()]:\n",
    "        print(patterns[pattern])"
   ]
  },
  {
   "cell_type": "code",
   "execution_count": null,
   "metadata": {},
   "outputs": [],
   "source": []
  },
  {
   "cell_type": "code",
   "execution_count": 9,
   "metadata": {},
   "outputs": [
    {
     "name": "stdout",
     "output_type": "stream",
     "text": [
      "**** \n",
      "*   *\n",
      "**** \n",
      "*   *\n",
      "**** \n"
     ]
    }
   ],
   "source": [
    "print_big2('B')"
   ]
  },
  {
   "cell_type": "code",
   "execution_count": 20,
   "metadata": {},
   "outputs": [],
   "source": [
    "def has_33_b(nums):\n",
    "    for i in range(0, len(nums)-1):\n",
    "    \n",
    "        if nums[i] == 3 and nums[i+1] == 3:\n",
    "            return True \n",
    "\n",
    "        return False"
   ]
  },
  {
   "cell_type": "code",
   "execution_count": 49,
   "metadata": {
    "scrolled": false
   },
   "outputs": [
    {
     "data": {
      "text/plain": [
       "0"
      ]
     },
     "execution_count": 49,
     "metadata": {},
     "output_type": "execute_result"
    }
   ],
   "source": [
    "l2 = [3,1,3]\n",
    "l2.index(3)"
   ]
  },
  {
   "cell_type": "code",
   "execution_count": null,
   "metadata": {},
   "outputs": [],
   "source": [
    "add = True\n",
    "for num in [1,2,3,4]:\n",
    "    while add:\n",
    "        "
   ]
  }
 ],
 "metadata": {
  "kernelspec": {
   "display_name": "Python 3",
   "language": "python",
   "name": "python3"
  },
  "language_info": {
   "codemirror_mode": {
    "name": "ipython",
    "version": 3
   },
   "file_extension": ".py",
   "mimetype": "text/x-python",
   "name": "python",
   "nbconvert_exporter": "python",
   "pygments_lexer": "ipython3",
   "version": "3.7.6"
  }
 },
 "nbformat": 4,
 "nbformat_minor": 4
}
