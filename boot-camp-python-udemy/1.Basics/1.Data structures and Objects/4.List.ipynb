{
 "cells": [
  {
   "cell_type": "code",
   "execution_count": 26,
   "metadata": {},
   "outputs": [
    {
     "data": {
      "text/plain": [
       "['string', 100, 20.3, 1, 2, 3, 'string', 100, 20.3, 1, 2, 3]"
      ]
     },
     "execution_count": 26,
     "metadata": {},
     "output_type": "execute_result"
    }
   ],
   "source": [
    "# LIST\n",
    "\n",
    "my_List = []\n",
    "\n",
    "my_List = ['string', 100, 20.3,1,2,3]\n",
    "\n",
    "# len() \n",
    "len(my_List)\n",
    "\n",
    "#[start:stop:step]\n",
    "my_List[-1]     # 3\n",
    "my_List[4:]     #  [2, 3]\n",
    "my_List[:3]     #  ['string', 100, 20.3]\n",
    "my_List[::2]    #  ['string', 20.3, 2]\n",
    "my_List*2       # ['string', 100, 20.3, 1, 2, 3, 'string', 100, 20.3, 1, 2, 3]\n"
   ]
  },
  {
   "cell_type": "code",
   "execution_count": 34,
   "metadata": {},
   "outputs": [
    {
     "data": {
      "text/plain": [
       "[1, 2, 3, 4, 5, 6, 7, 8, 9, 10]"
      ]
     },
     "execution_count": 34,
     "metadata": {},
     "output_type": "execute_result"
    }
   ],
   "source": [
    "\n",
    "my_list_1 = [1,2,3,4,5]\n",
    "my_list_2 = [6,7,8,9,10]\n",
    "\n",
    "my_list_1+=my_list_2\n",
    "\n",
    "my_list_2 # [6, 7, 8, 9, 10]\n",
    "my_list_1 # [1, 2, 3, 4, 5, 6, 7, 8, 9, 10]"
   ]
  },
  {
   "cell_type": "code",
   "execution_count": 44,
   "metadata": {},
   "outputs": [
    {
     "data": {
      "text/plain": [
       "['two', 'three', 'four', 'five', 'six']"
      ]
     },
     "execution_count": 44,
     "metadata": {},
     "output_type": "execute_result"
    }
   ],
   "source": [
    "my_list = ['one', 'two','three','four','five','six']\n",
    "\n",
    "my_list.append('eight')\n",
    "\n",
    "my_list # ['one', 'two', 'three', 'four', 'five', 'six', 'eight']\n",
    "\n",
    "element_deleted = my_list.pop()\n",
    "\n",
    "element_deleted # 'eight'\n",
    "\n",
    "my_list # ['one', 'two', 'three', 'four', 'five', 'six']\n",
    "\n",
    "my_list.pop(0) # 'one'\n",
    "my_list         # ['two', 'three', 'four', 'five', 'six']\n",
    "\n",
    "\n",
    "\n"
   ]
  },
  {
   "cell_type": "code",
   "execution_count": 50,
   "metadata": {},
   "outputs": [
    {
     "name": "stdout",
     "output_type": "stream",
     "text": [
      "['a', 'b', 'c', 'd', 'e', 'f']\n",
      "[0, 1, 4, 2, 10]\n"
     ]
    }
   ],
   "source": [
    "char_list = ['a','d','c','e','f','b']\n",
    "num_list = [10,2,4,1,0]\n",
    "\n",
    "char_list.sort() \n",
    "num_list.reverse()\n",
    "\n",
    "print(char_list) # ['a', 'b', 'c', 'd', 'e', 'f']\n",
    "print(num_list)  # [0, 1, 4, 2, 10]"
   ]
  },
  {
   "cell_type": "code",
   "execution_count": 4,
   "metadata": {},
   "outputs": [
    {
     "name": "stdout",
     "output_type": "stream",
     "text": [
      "[5, 3, 4, 6, 1]\n",
      "[1, 3, 4, 5, 6]\n"
     ]
    }
   ],
   "source": [
    "list4 = [5,3,4,6,1]\n",
    "\n",
    "listOrdenada = sorted(list4)\n",
    "\n",
    "print(list4)        # [5, 3, 4, 6, 1]\n",
    "print(listOrdenada) # [1, 3, 4, 5, 6]"
   ]
  },
  {
   "cell_type": "code",
   "execution_count": 10,
   "metadata": {},
   "outputs": [
    {
     "name": "stdout",
     "output_type": "stream",
     "text": [
      "['w', 'o', 'r', 'd']\n"
     ]
    }
   ],
   "source": [
    "word = 'word'\n",
    "\n",
    "l = []\n",
    "\n",
    "for letter in word:\n",
    "    l.append(letter)\n",
    "print(l)"
   ]
  },
  {
   "cell_type": "code",
   "execution_count": 11,
   "metadata": {},
   "outputs": [
    {
     "data": {
      "text/plain": [
       "['w', 'o', 'r', 'd']"
      ]
     },
     "execution_count": 11,
     "metadata": {},
     "output_type": "execute_result"
    }
   ],
   "source": [
    "word = 'word'\n",
    "\n",
    "l = [letter for letter in word]\n",
    "\n",
    "l"
   ]
  },
  {
   "cell_type": "code",
   "execution_count": 19,
   "metadata": {},
   "outputs": [
    {
     "data": {
      "text/plain": [
       "[0, 'impar', 2, 'impar', 4, 'impar', 6, 'impar', 8, 'impar']"
      ]
     },
     "execution_count": 19,
     "metadata": {},
     "output_type": "execute_result"
    }
   ],
   "source": [
    "l=  [num if num%2==0 else 'impar' for num in range(0,10)]\n",
    "l\n"
   ]
  },
  {
   "cell_type": "code",
   "execution_count": 21,
   "metadata": {},
   "outputs": [
    {
     "data": {
      "text/plain": [
       "[32.0, 50.0, 68.0, 94.1]"
      ]
     },
     "execution_count": 21,
     "metadata": {},
     "output_type": "execute_result"
    }
   ],
   "source": [
    "celcius = [0,10,20,34.5]\n",
    "\n",
    "fahrenheit = [ ((9/5)*temp+32) for temp in celcius ]\n",
    "\n",
    "fahrenheit\n"
   ]
  },
  {
   "cell_type": "code",
   "execution_count": 22,
   "metadata": {},
   "outputs": [
    {
     "data": {
      "text/plain": [
       "[2, 20, 200, 4, 40, 400, 6, 60, 600]"
      ]
     },
     "execution_count": 22,
     "metadata": {},
     "output_type": "execute_result"
    }
   ],
   "source": [
    "l = []\n",
    "\n",
    "for x in [2,4,6]:\n",
    "    for y in [1,10,100]:\n",
    "        l.append(x*y)\n",
    "l"
   ]
  },
  {
   "cell_type": "code",
   "execution_count": 33,
   "metadata": {},
   "outputs": [
    {
     "data": {
      "text/plain": [
       "2"
      ]
     },
     "execution_count": 33,
     "metadata": {},
     "output_type": "execute_result"
    }
   ],
   "source": [
    "l1 = [1,2,3]\n",
    "l2 = [1,2,3,4,5,6]\n",
    "l3 = [1,2,45,6,8]\n",
    "\n",
    "r = any(element in l3 for element in l1)\n",
    "r #true\n",
    "l1.index(3)"
   ]
  },
  {
   "cell_type": "code",
   "execution_count": 32,
   "metadata": {},
   "outputs": [
    {
     "name": "stdout",
     "output_type": "stream",
     "text": [
      "hola david\n"
     ]
    }
   ],
   "source": [
    "l = ['hola','david']\n",
    "\n",
    "x = ' '.join(l)\n",
    "\n",
    "print(x)"
   ]
  }
 ],
 "metadata": {
  "file_extension": ".py",
  "kernelspec": {
   "display_name": "Python 3.10.6 ('venv_38': venv)",
   "language": "python",
   "name": "python3"
  },
  "language_info": {
   "codemirror_mode": {
    "name": "ipython",
    "version": 3
   },
   "file_extension": ".py",
   "mimetype": "text/x-python",
   "name": "python",
   "nbconvert_exporter": "python",
   "pygments_lexer": "ipython3",
   "version": "3.10.6"
  },
  "mimetype": "text/x-python",
  "name": "python",
  "npconvert_exporter": "python",
  "pygments_lexer": "ipython3",
  "version": 3,
  "vscode": {
   "interpreter": {
    "hash": "61a33ad96a252f11fc43235c56426061a7a3962269201a8540bd3f66dee5e452"
   }
  }
 },
 "nbformat": 4,
 "nbformat_minor": 2
}
