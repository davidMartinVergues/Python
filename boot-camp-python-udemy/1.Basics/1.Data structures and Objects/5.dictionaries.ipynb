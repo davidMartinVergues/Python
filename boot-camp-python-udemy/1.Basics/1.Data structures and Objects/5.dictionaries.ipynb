{
 "nbformat": 4,
 "nbformat_minor": 2,
 "metadata": {
  "language_info": {
   "name": "python",
   "codemirror_mode": {
    "name": "ipython",
    "version": 3
   },
   "version": "3.7.6-final"
  },
  "orig_nbformat": 2,
  "file_extension": ".py",
  "mimetype": "text/x-python",
  "name": "python",
  "npconvert_exporter": "python",
  "pygments_lexer": "ipython3",
  "version": 3,
  "kernelspec": {
   "name": "python3",
   "display_name": "Python 3"
  }
 },
 "cells": [
  {
   "cell_type": "code",
   "execution_count": 14,
   "metadata": {},
   "outputs": [
    {
     "output_type": "stream",
     "name": "stdout",
     "text": "precio de las manzanas 2.88000    €\n"
    },
    {
     "output_type": "execute_result",
     "data": {
      "text/plain": "{'apple': 2.88, 'oranges': 3.56, 'milk': 6.12}"
     },
     "metadata": {},
     "execution_count": 14
    }
   ],
   "source": [
    "\n",
    "prices_lookup = {'apple':2.88, 'oranges':3.56, 'milk':6.12}\n",
    "\n",
    "print('precio de las manzanas {:<10.5f} €'.format(prices_lookup['apple']))\n",
    " # precio de las manzanas 2.88000    €\n",
    "\n",
    "prices_lookup # {'apple': 2.88, 'oranges': 3.56, 'milk': 6.12}\n"
   ]
  },
  {
   "cell_type": "code",
   "execution_count": 19,
   "metadata": {},
   "outputs": [
    {
     "output_type": "stream",
     "name": "stdout",
     "text": "123\n1\nme llamo david martin \n"
    }
   ],
   "source": [
    "d = {'numbers':123,'list':[1,2,3],'dict':{'nombre':'david','apellido':'martin'}}\n",
    "\n",
    "d['numbers'] # 123\n",
    "d['list'][0] #1\n",
    "print('me llamo {} {} '.format(d['dict']['nombre'], d['dict']['apellido'])) # me llamo david martin \n"
   ]
  },
  {
   "cell_type": "code",
   "execution_count": 30,
   "metadata": {},
   "outputs": [
    {
     "output_type": "execute_result",
     "data": {
      "text/plain": "dict_items([('apple', 3.3), ('oranges', 3.56), ('milk', 6.12)])"
     },
     "metadata": {},
     "execution_count": 30
    }
   ],
   "source": [
    "prices_lookup = {'apple':2.88, 'oranges':3.56, 'milk':6.12}\n",
    "\n",
    "prices_lookup['melon'] = 5.86\n",
    "\n",
    "prices_lookup['apple']= 3.30\n",
    "\n",
    "prices_lookup # {'apple': 3.3, 'oranges': 3.56, 'milk': 6.12, 'melon': 5.86}\n",
    "\n",
    "del prices_lookup['melon']\n",
    "\n",
    "prices_lookup # {'apple': 3.3, 'oranges': 3.56, 'milk': 6.12}\n",
    "\n",
    "prices_lookup.keys() # dict_keys(['apple', 'oranges', 'milk'])\n",
    "\n",
    "prices_lookup.values() # dict_values([3.3, 3.56, 6.12])\n",
    "\n",
    "prices_lookup.items() # dict_items([('apple', 3.3), ('oranges', 3.56), ('milk', 6.12)])\n",
    "\n",
    "\n"
   ]
  },
  {
   "cell_type": "code",
   "execution_count": 32,
   "metadata": {},
   "outputs": [
    {
     "output_type": "execute_result",
     "data": {
      "text/plain": "{1: 'david'}"
     },
     "metadata": {},
     "execution_count": 32
    }
   ],
   "source": [
    " d= {1:'david'}\n",
    "\n",
    " d"
   ]
  },
  {
   "cell_type": "code",
   "execution_count": null,
   "metadata": {},
   "outputs": [],
   "source": []
  }
 ]
}