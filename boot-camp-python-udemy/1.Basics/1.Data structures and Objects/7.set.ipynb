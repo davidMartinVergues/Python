{
 "cells": [
  {
   "cell_type": "code",
   "execution_count": 2,
   "metadata": {},
   "outputs": [
    {
     "output_type": "execute_result",
     "data": {
      "text/plain": "{1, 2}"
     },
     "metadata": {},
     "execution_count": 2
    }
   ],
   "source": [
    "# SETS\n",
    "\n",
    "mySet = set()\n",
    "\n",
    "mySet.add(1)\n",
    "mySet.add(2)\n",
    "mySet.add(2)\n",
    "\n",
    "mySet # {1,2}\n"
   ]
  },
  {
   "cell_type": "code",
   "execution_count": 16,
   "metadata": {},
   "outputs": [
    {
     "output_type": "execute_result",
     "data": {
      "text/plain": [
       "True"
      ]
     },
     "metadata": {},
     "execution_count": 16
    }
   ],
   "source": [
    "myList = [1,1,1,1,2,2,2,2,3,3,3,0]\n",
    "\n",
    "mySet2 = set(myList)\n",
    "\n",
    "mySet2 # {1, 2, 3}\n",
    "\n",
    "s = set(\"paralel\")\n",
    "\n",
    "s.add('z')\n",
    "s.add('b')\n",
    "\n",
    "{'a', 'r'}.issubset(s)\n",
    "#s # {'a', 'b', 'e', 'l', 'p', 'r', 'z'}"
   ]
  },
  {
   "cell_type": "code",
   "execution_count": 8,
   "metadata": {},
   "outputs": [
    {
     "output_type": "execute_result",
     "data": {
      "text/plain": [
       "{-1, 0, 1, 2, 3, 1000, 2000000}"
      ]
     },
     "metadata": {},
     "execution_count": 8
    }
   ],
   "source": [
    "myList = [1000,1,1,1,1,2000000,2,2,2,2,3,3,3,0]\n",
    "\n",
    "mySet2 = set(myList)\n",
    "mySet2.add(-1)\n",
    "mySet2"
   ]
  },
  {
   "cell_type": "code",
   "execution_count": 7,
   "metadata": {},
   "outputs": [
    {
     "output_type": "stream",
     "name": "stdout",
     "text": [
      "{'t', 'z', 'w', 'y', 'q', 'r', 'e'}\n"
     ]
    }
   ],
   "source": [
    "A = set('qwerty')\n",
    "A.add('z')\n",
    "print(A)"
   ]
  }
 ],
 "metadata": {
  "language_info": {
   "name": "python",
   "codemirror_mode": {
    "name": "ipython",
    "version": 3
   },
   "version": "3.7.6-final"
  },
  "orig_nbformat": 2,
  "file_extension": ".py",
  "mimetype": "text/x-python",
  "name": "python",
  "npconvert_exporter": "python",
  "pygments_lexer": "ipython3",
  "version": 3,
  "kernelspec": {
   "name": "python3",
   "display_name": "Python 3",
   "language": "python"
  }
 },
 "nbformat": 4,
 "nbformat_minor": 2
}