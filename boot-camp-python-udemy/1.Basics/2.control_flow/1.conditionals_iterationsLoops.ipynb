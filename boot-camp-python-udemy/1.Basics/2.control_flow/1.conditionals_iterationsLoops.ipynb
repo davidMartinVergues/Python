{
 "cells": [
  {
   "cell_type": "code",
   "execution_count": 1,
   "metadata": {},
   "outputs": [
    {
     "name": "stdout",
     "output_type": "stream",
     "text": [
      "result is equal to 5\n"
     ]
    }
   ],
   "source": [
    "# if elif else statements\n",
    "\n",
    "result = 5\n",
    "\n",
    "if result<2 :\n",
    "\n",
    "    print('it < 2')\n",
    "\n",
    "elif result ==5 :\n",
    "\n",
    "    print('result is equal to 5')\n",
    "\n",
    "else :\n",
    "\n",
    "    print('result is bigger than 2')"
   ]
  },
  {
   "cell_type": "code",
   "execution_count": 2,
   "metadata": {},
   "outputs": [
    {
     "name": "stdout",
     "output_type": "stream",
     "text": [
      "indice:0 => valor:1 \n",
      "indice:1 => valor:2 \n",
      "indice:2 => valor:3 \n",
      "indice:3 => valor:4 \n",
      "indice:4 => valor:5 \n",
      "indice:5 => valor:6 \n",
      "indice:6 => valor:7 \n",
      "indice:7 => valor:8 \n",
      "indice:8 => valor:9 \n",
      "indice:9 => valor:10 \n"
     ]
    }
   ],
   "source": [
    "# for loops\n",
    "\n",
    "\n",
    "\n",
    "\n",
    "myList = [1,2,3,4,5,6,7,8,9,10]\n",
    "\n",
    "for (indice,valor) in enumerate(myList):\n",
    "  print(f'indice:{indice} => valor:{valor} ')"
   ]
  },
  {
   "cell_type": "code",
   "execution_count": 35,
   "metadata": {},
   "outputs": [
    {
     "name": "stdout",
     "output_type": "stream",
     "text": [
      "\n",
      "1 - 2\n",
      "3 - 4\n",
      "5 - 6\n",
      "7 - 8\n",
      "9 - 10\n"
     ]
    }
   ],
   "source": [
    "\n",
    "\n",
    "#for item in t:\n",
    " #   print(f'{item} - ', end='')\n",
    "\n",
    "\n",
    "#for index in range(0, len(t)):\n",
    "\n",
    "  #  for index2 in range(0, len(t[index])):\n",
    "\n",
    " #      print(f'{t[index][index2]} - ', end='')\n",
    "\n",
    "#    print('  ')\n",
    "\n",
    "print('')\n",
    "\n",
    "t = [(1,2),(3,4),(5,6),(7,8),(9,10)]\n",
    "\n",
    "for (a,b) in t:\n",
    "    print(f'{a} - {b}')"
   ]
  },
  {
   "cell_type": "code",
   "execution_count": 4,
   "metadata": {},
   "outputs": [
    {
     "output_type": "stream",
     "name": "stdout",
     "text": [
      "0 - D\n1 - a\n2 - v\n3 - i\n4 - d\n"
     ]
    }
   ],
   "source": [
    "myList = [1,2,3]\n",
    "\n",
    "for x,y in enumerate('David'):\n",
    "    print(f'{x} - {y}')"
   ]
  },
  {
   "cell_type": "code",
   "execution_count": 37,
   "metadata": {},
   "outputs": [
    {
     "name": "stdout",
     "output_type": "stream",
     "text": [
      "0 - [1, 2, 3]\n",
      "1 - [4, 5, 6]\n"
     ]
    }
   ],
   "source": [
    "list_of_list = [[1,2,3],[4,5,6]]\n",
    "\n",
    "for a,b in enumerate(list_of_list):\n",
    "    print(f'{a} - {b}')"
   ]
  },
  {
   "cell_type": "code",
   "execution_count": 39,
   "metadata": {},
   "outputs": [
    {
     "name": "stdout",
     "output_type": "stream",
     "text": [
      "k1 - 1  k2 - 2  k3 - 3"
     ]
    }
   ],
   "source": [
    "# ierate a dictionary\n",
    "\n",
    "d = {\"k1\":1, \"k2\":2, \"k3\":3}\n",
    "\n",
    "for key,value in d.items():\n",
    "    print(f' {key} - {value} ', end='') "
   ]
  },
  {
   "cell_type": "code",
   "execution_count": 40,
   "metadata": {},
   "outputs": [
    {
     "name": "stdout",
     "output_type": "stream",
     "text": [
      "1  2  3"
     ]
    }
   ],
   "source": [
    "\n",
    "d = {\"k1\":1, \"k2\":2, \"k3\":3}\n",
    "\n",
    "for value in d.values():\n",
    "    print(f' {value} ', end='') "
   ]
  },
  {
   "cell_type": "code",
   "execution_count": 2,
   "metadata": {},
   "outputs": [
    {
     "name": "stdout",
     "output_type": "stream",
     "text": [
      "0  1  2  3  4  \n",
      "X no es menor q 5\n"
     ]
    }
   ],
   "source": [
    "# while loops\n",
    "x = 0\n",
    "\n",
    "while x<5:\n",
    "    print(f' {x} ', end='')\n",
    "    x+=1\n",
    "else:\n",
    "    print(f' \\nX no es menor q 5')"
   ]
  },
  {
   "cell_type": "code",
   "execution_count": 1,
   "metadata": {},
   "outputs": [
    {
     "name": "stdout",
     "output_type": "stream",
     "text": [
      "ya puede continuar el script\n"
     ]
    }
   ],
   "source": [
    "# important keywords in loops - break - continue - pass\n",
    "\n",
    "x = [1,2,3]\n",
    "\n",
    "for item in x:\n",
    "    # comment\n",
    "    pass\n",
    "print('ya puede continuar el script')"
   ]
  },
  {
   "cell_type": "code",
   "execution_count": 4,
   "metadata": {},
   "outputs": [
    {
     "data": {
      "text/plain": [
       "'david'"
      ]
     },
     "execution_count": 4,
     "metadata": {},
     "output_type": "execute_result"
    }
   ],
   "source": [
    "mystring = \"david\" \n",
    "mystring"
   ]
  },
  {
   "cell_type": "code",
   "execution_count": 8,
   "metadata": {},
   "outputs": [
    {
     "name": "stdout",
     "output_type": "stream",
     "text": [
      "d\n",
      "v\n",
      "i\n",
      "d\n"
     ]
    }
   ],
   "source": [
    "for c in mystring:\n",
    "    if c == 'a':\n",
    "        continue\n",
    "    print(c)"
   ]
  },
  {
   "cell_type": "code",
   "execution_count": 4,
   "metadata": {},
   "outputs": [
    {
     "name": "stdout",
     "output_type": "stream",
     "text": [
      "0\n",
      "1\n"
     ]
    }
   ],
   "source": [
    "x = 0\n",
    "while x<5:\n",
    "    if x==2:\n",
    "        break\n",
    "    print(x)\n",
    "    x+=1"
   ]
  },
  {
   "cell_type": "code",
   "execution_count": 2,
   "metadata": {},
   "outputs": [
    {
     "output_type": "stream",
     "name": "stdout",
     "text": [
      "02468"
     ]
    }
   ],
   "source": [
    "### Operators\n",
    "\n",
    "for num in range(0,10,2):\n",
    "    print(num, end='')\n",
    "# 02468\n",
    "myList = list(range(0,10,2))\n",
    "myList \n",
    "# [0, 2, 4, 6, 8] "
   ]
  },
  {
   "cell_type": "code",
   "execution_count": 13,
   "metadata": {},
   "outputs": [
    {
     "name": "stdout",
     "output_type": "stream",
     "text": [
      "en el índice: 0 => a\n",
      "en el índice: 1 => b\n",
      "en el índice: 2 => c\n",
      "en el índice: 3 => d\n",
      "en el índice: 4 => e\n"
     ]
    }
   ],
   "source": [
    "\n",
    "\n",
    "for index,item in enumerate(\"abcde\"):\n",
    "    print(f\"en el índice: {index} => {item}\")\n",
    "    "
   ]
  },
  {
   "cell_type": "code",
   "execution_count": 17,
   "metadata": {},
   "outputs": [
    {
     "name": "stdout",
     "output_type": "stream",
     "text": [
      "<zip object at 0x7f21721f3d20>\n",
      "(1, 'a', 'alba')\n",
      "(2, 'b', 'Boni')\n",
      "(3, 'c', 'carlos')\n"
     ]
    },
    {
     "data": {
      "text/plain": [
       "[(1, 'a', 'alba'), (2, 'b', 'Boni'), (3, 'c', 'carlos')]"
      ]
     },
     "execution_count": 17,
     "metadata": {},
     "output_type": "execute_result"
    }
   ],
   "source": [
    "list1 = [1,2,3]\n",
    "list2 = ['a','b','c']\n",
    "lista3 = ['alba','Boni','carlos']\n",
    "\n",
    "t = zip(list1,list2, lista3)\n",
    "\n",
    "print(t) # <zip object at 0x7f2172294aa0>\n",
    "\n",
    "for item in t:\n",
    "    print(item)\n",
    "#(1, 'a', 'alba')\n",
    "#(2, 'b', 'Boni')\n",
    "#(3, 'c', 'carlos')\n",
    "\n",
    "list = list(zip(list1,list2, lista3))\n",
    "list # [(1, 'a', 'alba'), (2, 'b', 'Boni'), (3, 'c', 'carlos')]"
   ]
  },
  {
   "cell_type": "code",
   "execution_count": 27,
   "metadata": {},
   "outputs": [
    {
     "data": {
      "text/plain": [
       "True"
      ]
     },
     "execution_count": 27,
     "metadata": {},
     "output_type": "execute_result"
    }
   ],
   "source": [
    "'x' in [1,2,3,4] # False\n",
    "1   in [1,2,3,4] # True\n",
    "'A' in 'David'  # False \n",
    "'a' in 'David'  # True\n",
    "\n",
    "d = {'name':'david', 'edad':36}\n",
    "\n",
    "'david' in d.values() # True\n",
    "'edad'  in d.keys()   # True"
   ]
  },
  {
   "cell_type": "code",
   "execution_count": 3,
   "metadata": {},
   "outputs": [
    {
     "data": {
      "text/plain": [
       "20"
      ]
     },
     "execution_count": 3,
     "metadata": {},
     "output_type": "execute_result"
    }
   ],
   "source": [
    "myList = [1,2,3,20,10,5]\n",
    "min(myList) # 1\n",
    "max(myList) # 20\n",
    "\n"
   ]
  },
  {
   "cell_type": "code",
   "execution_count": 19,
   "metadata": {},
   "outputs": [],
   "source": [
    "from random import shuffle  # de la libreria random importa la función shuffle"
   ]
  },
  {
   "cell_type": "code",
   "execution_count": 44,
   "metadata": {},
   "outputs": [
    {
     "output_type": "execute_result",
     "data": {
      "text/plain": [
       "[9, 8, 3, 10, 2, 4, 6, 5, 7, 1]"
      ]
     },
     "metadata": {},
     "execution_count": 44
    }
   ],
   "source": [
    "myList = [1,2,3,4,5,6,7,8,9,10]\n",
    "\n",
    "shuffle(myList)\n",
    "myList"
   ]
  },
  {
   "cell_type": "code",
   "execution_count": 27,
   "metadata": {},
   "outputs": [
    {
     "output_type": "execute_result",
     "data": {
      "text/plain": [
       "[6, 8, 10, 7, 5, 2, 1, 9, 3, 4]"
      ]
     },
     "metadata": {},
     "execution_count": 27
    }
   ],
   "source": [
    "myList"
   ]
  },
  {
   "cell_type": "code",
   "execution_count": 17,
   "metadata": {},
   "outputs": [
    {
     "output_type": "execute_result",
     "data": {
      "text/plain": [
       "3"
      ]
     },
     "metadata": {},
     "execution_count": 17
    }
   ],
   "source": [
    "from random import randint\n",
    "\n",
    "randint(0,10)\n"
   ]
  },
  {
   "cell_type": "code",
   "execution_count": 47,
   "metadata": {},
   "outputs": [
    {
     "data": {
      "text/plain": [
       "30.0"
      ]
     },
     "execution_count": 47,
     "metadata": {},
     "output_type": "execute_result"
    }
   ],
   "source": [
    "result = input('enter your age: ')\n",
    "\n",
    "int(result) #  30\n",
    "float(result) #  30.0\n",
    "\n"
   ]
  },
  {
   "cell_type": "code",
   "execution_count": 42,
   "metadata": {},
   "outputs": [
    {
     "data": {
      "text/plain": [
       "'David'"
      ]
     },
     "execution_count": 42,
     "metadata": {},
     "output_type": "execute_result"
    }
   ],
   "source": [
    "result"
   ]
  },
  {
   "cell_type": "code",
   "execution_count": 1,
   "metadata": {},
   "outputs": [
    {
     "data": {
      "text/plain": [
       "['d', 'a', 'v', 'i', 'd']"
      ]
     },
     "execution_count": 1,
     "metadata": {},
     "output_type": "execute_result"
    }
   ],
   "source": [
    "word = 'david'\n",
    "\n",
    "l = []\n",
    "\n",
    "for letter in word:\n",
    "    l.append(letter)\n",
    "\n",
    "l # ['d', 'a', 'v', 'i', 'd']\n",
    "\n"
   ]
  },
  {
   "cell_type": "code",
   "execution_count": 5,
   "metadata": {},
   "outputs": [
    {
     "data": {
      "text/plain": [
       "['d', 'a', 'v', 'i', 'd']"
      ]
     },
     "execution_count": 5,
     "metadata": {},
     "output_type": "execute_result"
    }
   ],
   "source": [
    "word = 'david'\n",
    "\n",
    "l = [letter for letter in word] # letra a letra en word\n",
    "l # ['d', 'a', 'v', 'i', 'd']\n"
   ]
  },
  {
   "cell_type": "code",
   "execution_count": 6,
   "metadata": {},
   "outputs": [
    {
     "data": {
      "text/plain": [
       "[0, 1, 2, 3, 4, 5, 6, 7, 8, 9]"
      ]
     },
     "execution_count": 6,
     "metadata": {},
     "output_type": "execute_result"
    }
   ],
   "source": [
    "l = [num for num in range(0,10)]\n",
    "l # [0, 1, 2, 3, 4, 5, 6, 7, 8, 9]"
   ]
  },
  {
   "cell_type": "code",
   "execution_count": 7,
   "metadata": {},
   "outputs": [
    {
     "data": {
      "text/plain": [
       "[0, 1, 4, 9, 16, 25, 36, 49, 64, 81]"
      ]
     },
     "execution_count": 7,
     "metadata": {},
     "output_type": "execute_result"
    }
   ],
   "source": [
    "l = [num**2 for num in range(0,10)]\n",
    "l # [0, 1, 4, 9, 16, 25, 36, 49, 64, 81]"
   ]
  },
  {
   "cell_type": "code",
   "execution_count": 9,
   "metadata": {},
   "outputs": [
    {
     "data": {
      "text/plain": [
       "[0, 4, 16, 36, 64]"
      ]
     },
     "execution_count": 9,
     "metadata": {},
     "output_type": "execute_result"
    }
   ],
   "source": [
    "l = [num**2 for num in range(0,10) if num%2==0]\n",
    "l # [0, 4, 16, 36, 64]"
   ]
  },
  {
   "cell_type": "code",
   "execution_count": 11,
   "metadata": {},
   "outputs": [
    {
     "data": {
      "text/plain": [
       "[0, 'impar', 2, 'impar', 4, 'impar', 6, 'impar', 8, 'impar']"
      ]
     },
     "execution_count": 11,
     "metadata": {},
     "output_type": "execute_result"
    }
   ],
   "source": [
    "l = [num if num%2==0 else 'impar' for num in range(0,10)]\n",
    "l # [0, 'impar', 2, 'impar', 4, 'impar', 6, 'impar', 8, 'impar']"
   ]
  },
  {
   "cell_type": "code",
   "execution_count": 10,
   "metadata": {},
   "outputs": [
    {
     "data": {
      "text/plain": [
       "[32.0, 50.0, 68.0, 94.1]"
      ]
     },
     "execution_count": 10,
     "metadata": {},
     "output_type": "execute_result"
    }
   ],
   "source": [
    "celcius= [0,10,20,34.5]\n",
    "\n",
    "fahrenheit = [ ( (9/5)*temp+32 ) for temp in celcius]\n",
    "\n",
    "fahrenheit # [32.0, 50.0, 68.0, 94.1]"
   ]
  },
  {
   "cell_type": "code",
   "execution_count": 14,
   "metadata": {},
   "outputs": [
    {
     "data": {
      "text/plain": [
       "[2, 20, 200, 4, 40, 400, 6, 60, 600]"
      ]
     },
     "execution_count": 14,
     "metadata": {},
     "output_type": "execute_result"
    }
   ],
   "source": [
    "l = []\n",
    "\n",
    "for x in [2,4,6]:\n",
    "    for y in [1,10,100]:\n",
    "        l.append(x*y)\n",
    "\n",
    "l # [2, 20, 200, 4, 40, 400, 6, 60, 600]"
   ]
  },
  {
   "cell_type": "code",
   "execution_count": 16,
   "metadata": {},
   "outputs": [
    {
     "data": {
      "text/plain": [
       "[2, 20, 200, 4, 40, 400, 6, 60, 600]"
      ]
     },
     "execution_count": 16,
     "metadata": {},
     "output_type": "execute_result"
    }
   ],
   "source": [
    "l = [x*y for x in [2,4,6] for y in [1,10,100]]\n",
    "\n",
    "l # [2, 20, 200, 4, 40, 400, 6, 60, 600]"
   ]
  },
  {
   "cell_type": "code",
   "execution_count": 19,
   "metadata": {},
   "outputs": [
    {
     "name": "stdout",
     "output_type": "stream",
     "text": [
      "iguales\n"
     ]
    }
   ],
   "source": [
    "str1 = 'david'\n",
    "str2 = 'DAVID'\n",
    "\n",
    "if str1== str2.casefold():\n",
    "    print('iguales')\n",
    "else:\n",
    "    print('son diferentes')"
   ]
  },
  {
   "cell_type": "code",
   "execution_count": 33,
   "metadata": {},
   "outputs": [
    {
     "data": {
      "text/plain": [
       "False"
      ]
     },
     "execution_count": 33,
     "metadata": {},
     "output_type": "execute_result"
    }
   ],
   "source": [
    "True and False  # False\n",
    "True or False  # True\n",
    "not True        # False"
   ]
  },
  {
   "cell_type": "code",
   "execution_count": 40,
   "metadata": {},
   "outputs": [
    {
     "data": {
      "text/plain": [
       "False"
      ]
     },
     "execution_count": 40,
     "metadata": {},
     "output_type": "execute_result"
    }
   ],
   "source": [
    "(True!=True)"
   ]
  },
  {
   "cell_type": "code",
   "execution_count": 3,
   "metadata": {},
   "outputs": [],
   "source": [
    "l = [1,2,3,5]"
   ]
  },
  {
   "cell_type": "code",
   "execution_count": 5,
   "metadata": {},
   "outputs": [
    {
     "data": {
      "text/plain": [
       "[1, 2, 3, 5]"
      ]
     },
     "execution_count": 5,
     "metadata": {},
     "output_type": "execute_result"
    }
   ],
   "source": [
    "l"
   ]
  },
  {
   "cell_type": "code",
   "execution_count": 3,
   "metadata": {},
   "outputs": [
    {
     "data": {
      "text/plain": [
       "'hello'"
      ]
     },
     "execution_count": 3,
     "metadata": {},
     "output_type": "execute_result"
    }
   ],
   "source": [
    "# ternary operator\n",
    "b = True\n",
    "r = \"hello\" if b else \"GoodGbye\"\n",
    "r"
   ]
  },
  {
   "cell_type": "code",
   "execution_count": 29,
   "metadata": {},
   "outputs": [
    {
     "data": {
      "text/plain": [
       "True"
      ]
     },
     "execution_count": 29,
     "metadata": {},
     "output_type": "execute_result"
    }
   ],
   "source": [
    "l1 = [1,2,3]\n",
    "l2 = [1,2,3,45,6,8]\n",
    "\n",
    "set(l1).issubset(set(l2))"
   ]
  },
  {
   "cell_type": "code",
   "execution_count": 27,
   "metadata": {},
   "outputs": [
    {
     "data": {
      "text/plain": [
       "-1"
      ]
     },
     "execution_count": 27,
     "metadata": {},
     "output_type": "execute_result"
    }
   ],
   "source": [
    "str = 'david'\n",
    "str2 = \"hello david!\"\n",
    "str2.find(str) #6\n",
    "str2.find('ello') #1\n",
    "str2.find('Hello') # -1"
   ]
  },
  {
   "cell_type": "code",
   "execution_count": 43,
   "metadata": {},
   "outputs": [
    {
     "data": {
      "text/plain": [
       "True"
      ]
     },
     "execution_count": 43,
     "metadata": {},
     "output_type": "execute_result"
    }
   ],
   "source": [
    "l1 = [1,2,3]\n",
    "l2 = [1,2,3,45,6,8]\n",
    "l3 = [1,2,45,6,8]\n",
    "\n",
    "r = all(elem in l2 for elem in l1)\n",
    "r # True\n",
    "r2 = all(elem in l3 for elem in l1)\n",
    "r2 # False\n",
    "r3 = any(elem in l3 for elem in l1)\n",
    "r3 # True\n"
   ]
  },
  {
   "cell_type": "code",
   "execution_count": 34,
   "metadata": {},
   "outputs": [
    {
     "data": {
      "text/plain": [
       "['d', 'a', 'v', 'i', 'd']"
      ]
     },
     "execution_count": 34,
     "metadata": {},
     "output_type": "execute_result"
    }
   ],
   "source": [
    "l1 = [1,2,3]\n",
    "l2 = [1,2,3,45,6,8]\n",
    "\n",
    "r = [l for l in'david']\n",
    "r"
   ]
  },
  {
   "cell_type": "code",
   "execution_count": 52,
   "metadata": {},
   "outputs": [
    {
     "data": {
      "text/plain": [
       "3.6666666666666665"
      ]
     },
     "execution_count": 52,
     "metadata": {},
     "output_type": "execute_result"
    }
   ],
   "source": [
    "11/3"
   ]
  },
  {
   "cell_type": "code",
   "execution_count": 56,
   "metadata": {},
   "outputs": [
    {
     "data": {
      "text/plain": [
       "20"
      ]
     },
     "execution_count": 56,
     "metadata": {},
     "output_type": "execute_result"
    }
   ],
   "source": [
    "r = sum((10,10))\n",
    "r #20"
   ]
  },
  {
   "cell_type": "code",
   "execution_count": 10,
   "metadata": {},
   "outputs": [
    {
     "output_type": "execute_result",
     "data": {
      "text/plain": [
       "['D', 'a', 'v', 'i', 'd']"
      ]
     },
     "metadata": {},
     "execution_count": 10
    }
   ],
   "source": [
    "list2 = []\n",
    "for caracter in 'David':\n",
    "    #print(f'{caracter.upper()}', end='')\n",
    "    list2.append(caracter)\n",
    "    #print(type(caracter))\n",
    "list2"
   ]
  },
  {
   "cell_type": "code",
   "execution_count": 9,
   "metadata": {},
   "outputs": [
    {
     "output_type": "stream",
     "name": "stdout",
     "text": [
      "1 - 2\n3 - 4\n5 - 6\n7 - 8\n9 - 10\n"
     ]
    },
    {
     "output_type": "execute_result",
     "data": {
      "text/plain": [
       "'\\n1 - 2\\n3 - 4\\n5 - 6\\n7 - 8\\n9 - 10\\n'"
      ]
     },
     "metadata": {},
     "execution_count": 9
    }
   ],
   "source": [
    "t = [(1,2),(3,4),(5,6),(7,8),(9,10)]\n",
    "\n",
    "for (a,b) in t:\n",
    "    print(f'{a} - {b}')\n",
    "\n",
    "'''\n",
    "1 - 2\n",
    "3 - 4\n",
    "5 - 6\n",
    "7 - 8\n",
    "9 - 10\n",
    "'''"
   ]
  },
  {
   "cell_type": "code",
   "execution_count": 3,
   "metadata": {},
   "outputs": [
    {
     "output_type": "stream",
     "name": "stdout",
     "text": [
      "1 - 2 - 3 - 4 - 5 - 6 - 7 - 8 - 9 - 10 - "
     ]
    }
   ],
   "source": [
    "myList = [1,2,3,4,5,6,7,8,9,10]\n",
    "\n",
    "for item in myList:\n",
    "  print(f'{item}', end=' - ') # "
   ]
  },
  {
   "cell_type": "code",
   "execution_count": 31,
   "metadata": {},
   "outputs": [
    {
     "output_type": "stream",
     "name": "stdout",
     "text": [
      "divad"
     ]
    }
   ],
   "source": [
    "for i in range(len('david')-1,-1,-1):\n",
    "  print('david'[i], end='')\n",
    "\n",
    "# divad"
   ]
  },
  {
   "cell_type": "code",
   "execution_count": 38,
   "metadata": {},
   "outputs": [
    {
     "output_type": "stream",
     "name": "stdout",
     "text": [
      "(0, 'a')\n(1, 'b')\n(2, 'c')\n(3, 'd')\n(4, 'e')\n"
     ]
    }
   ],
   "source": [
    "for item in enumerate(\"abcde\"):\n",
    "    print(f\"{item}\")"
   ]
  },
  {
   "cell_type": "code",
   "execution_count": 41,
   "metadata": {},
   "outputs": [
    {
     "output_type": "execute_result",
     "data": {
      "text/plain": [
       "\"\\n (0, 'a')\\n (1, 'b')\\n (2, 'c')\\n (3, 'd')\\n (4, 'e')\\n\""
      ]
     },
     "metadata": {},
     "execution_count": 41
    }
   ],
   "source": [
    "'''\n",
    " (0, 'a')\n",
    " (1, 'b')\n",
    " (2, 'c')\n",
    " (3, 'd')\n",
    " (4, 'e')\n",
    "'''"
   ]
  },
  {
   "cell_type": "code",
   "execution_count": null,
   "metadata": {},
   "outputs": [],
   "source": []
  }
 ],
 "metadata": {
  "file_extension": ".py",
  "kernelspec": {
   "display_name": "Python 3",
   "language": "python",
   "name": "python3"
  },
  "language_info": {
   "codemirror_mode": {
    "name": "ipython",
    "version": 3
   },
   "file_extension": ".py",
   "mimetype": "text/x-python",
   "name": "python",
   "nbconvert_exporter": "python",
   "pygments_lexer": "ipython3",
   "version": "3.7.6-final"
  },
  "mimetype": "text/x-python",
  "name": "python",
  "npconvert_exporter": "python",
  "pygments_lexer": "ipython3",
  "version": 3
 },
 "nbformat": 4,
 "nbformat_minor": 2
}