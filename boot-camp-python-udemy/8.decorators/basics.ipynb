{
 "metadata": {
  "language_info": {
   "codemirror_mode": {
    "name": "ipython",
    "version": 3
   },
   "file_extension": ".py",
   "mimetype": "text/x-python",
   "name": "python",
   "nbconvert_exporter": "python",
   "pygments_lexer": "ipython3",
   "version": "3.7.6-final"
  },
  "orig_nbformat": 2,
  "kernelspec": {
   "name": "python3",
   "display_name": "Python 3",
   "language": "python"
  }
 },
 "nbformat": 4,
 "nbformat_minor": 2,
 "cells": [
  {
   "cell_type": "code",
   "execution_count": 3,
   "metadata": {},
   "outputs": [],
   "source": [
    "# Funciones q devuelven otras funciones\n",
    "\n",
    "def hello(name='Jose'):\n",
    "    print('hello() function has been executed')\n",
    "\n",
    "    def greet():\n",
    "        print('\\t greet() function inside hello')\n",
    "    def welcome():\n",
    "        print('\\t welcome() function inside hello')\n",
    "    \n",
    "    if name == 'Jose':\n",
    "        return greet\n",
    "    else:\n",
    "        return welcome"
   ]
  },
  {
   "cell_type": "code",
   "execution_count": 4,
   "metadata": {},
   "outputs": [
    {
     "output_type": "stream",
     "name": "stdout",
     "text": [
      "hello() function has been executed\n"
     ]
    }
   ],
   "source": [
    "my_new_func = hello()"
   ]
  },
  {
   "cell_type": "code",
   "execution_count": 7,
   "metadata": {},
   "outputs": [
    {
     "output_type": "stream",
     "name": "stdout",
     "text": [
      "\t greet() function inside hello\n"
     ]
    }
   ],
   "source": [
    "my_new_func()"
   ]
  },
  {
   "cell_type": "code",
   "execution_count": 8,
   "metadata": {},
   "outputs": [
    {
     "output_type": "stream",
     "name": "stdout",
     "text": [
      "some code of other function\nmy name is david\n"
     ]
    }
   ],
   "source": [
    "# funciones como argumento de otras funciones\n",
    "def hello():\n",
    "    return 'my name is david'\n",
    "def other(another_function):\n",
    "    print('some code of other function')\n",
    "    print(another_function())\n",
    "\n",
    "other(hello)\n",
    "  "
   ]
  },
  {
   "cell_type": "code",
   "execution_count": 30,
   "metadata": {},
   "outputs": [],
   "source": [
    "# creando un decorator\n",
    "\n",
    "def new_decorator(original_func):\n",
    "\n",
    "    def wrap_func():\n",
    "        print('some code before original_func')\n",
    "        original_func()\n",
    "        print('ome code after original_func')\n",
    "    \n",
    "    return wrap_func\n",
    "\n"
   ]
  },
  {
   "cell_type": "code",
   "execution_count": 31,
   "metadata": {},
   "outputs": [],
   "source": [
    "def need_a_decorator():\n",
    "    print('i want a decorator')\n"
   ]
  },
  {
   "cell_type": "code",
   "execution_count": 39,
   "metadata": {},
   "outputs": [
    {
     "output_type": "stream",
     "name": "stdout",
     "text": [
      "some code before original_func\ni want a decorator\nome code after original_func\n"
     ]
    }
   ],
   "source": [
    "# otra manera de ejecutarlo sería:\n",
    "\n",
    "new_decorator(need_a_decorator)()"
   ]
  },
  {
   "cell_type": "code",
   "execution_count": 40,
   "metadata": {},
   "outputs": [],
   "source": [
    "new_func = new_decorator(need_a_decorator)"
   ]
  },
  {
   "cell_type": "code",
   "execution_count": 41,
   "metadata": {},
   "outputs": [
    {
     "output_type": "stream",
     "name": "stdout",
     "text": [
      "some code before original_func\ni want a decorator\nome code after original_func\n"
     ]
    }
   ],
   "source": [
    "new_func()"
   ]
  },
  {
   "cell_type": "code",
   "execution_count": 15,
   "metadata": {},
   "outputs": [],
   "source": [
    "#  el código de arriba es como funciona un decorator pero para simplificarlo existe la sintaxi @\n",
    "@new_decorator\n",
    "def need_a_decorator():\n",
    "    print('i want a decorator')\n"
   ]
  },
  {
   "cell_type": "code",
   "execution_count": 16,
   "metadata": {},
   "outputs": [
    {
     "output_type": "stream",
     "name": "stdout",
     "text": [
      "some code before original_func\ni want a decorator\nome code after original_func\n"
     ]
    }
   ],
   "source": [
    "need_a_decorator()"
   ]
  },
  {
   "cell_type": "code",
   "execution_count": 55,
   "metadata": {},
   "outputs": [],
   "source": [
    "def new_decorator2(original_func):\n",
    "\n",
    "    def wrap_func(*args,**kwargs):\n",
    "        print(f'some code before original_func with name {args[0]}')\n",
    "        original_func(*args,**kwargs)\n",
    "        print(f'some code after original_func with age {args[1]}')\n",
    "    \n",
    "    return wrap_func"
   ]
  },
  {
   "cell_type": "code",
   "execution_count": 56,
   "metadata": {},
   "outputs": [],
   "source": [
    "@new_decorator2\n",
    "def greet(name,age):\n",
    "    print(f'hello {name} u are {age} years old')\n"
   ]
  },
  {
   "cell_type": "code",
   "execution_count": 57,
   "metadata": {},
   "outputs": [
    {
     "output_type": "stream",
     "name": "stdout",
     "text": [
      "some code before original_func with name david\nhello david u are 36 years old\nsome code after original_func with age 36\n"
     ]
    }
   ],
   "source": [
    "greet('david',36)"
   ]
  },
  {
   "cell_type": "code",
   "execution_count": 58,
   "metadata": {},
   "outputs": [
    {
     "output_type": "stream",
     "name": "stdout",
     "text": [
      "24 33\n25 33\n26 33\n27 33\n28 33\n29 33\n30 33\n31 33\n32 33\n33 33\n"
     ]
    }
   ],
   "source": [
    "def gen_diez_numeros(inicio):\n",
    "    fin = inicio + 10    \n",
    "    while inicio < fin:\n",
    "        inicio+=1\n",
    "        yield inicio, fin\n",
    "\n",
    "for inicio, fin in gen_diez_numeros(23):\n",
    "    print(inicio, fin)"
   ]
  },
  {
   "cell_type": "code",
   "execution_count": null,
   "metadata": {},
   "outputs": [],
   "source": []
  }
 ]
}