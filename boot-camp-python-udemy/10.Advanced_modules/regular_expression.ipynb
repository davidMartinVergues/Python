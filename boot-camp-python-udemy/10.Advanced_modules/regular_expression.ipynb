{
 "metadata": {
  "language_info": {
   "codemirror_mode": {
    "name": "ipython",
    "version": 3
   },
   "file_extension": ".py",
   "mimetype": "text/x-python",
   "name": "python",
   "nbconvert_exporter": "python",
   "pygments_lexer": "ipython3",
   "version": "3.7.6-final"
  },
  "orig_nbformat": 2,
  "kernelspec": {
   "name": "python376jvsc74a57bd0ec4f1c395c9060a2f4933d56a58278157b2fbfb1d142affcb202d55b2721a26e",
   "display_name": "Python 3.7.6 64-bit ('base': conda)"
  }
 },
 "nbformat": 4,
 "nbformat_minor": 2,
 "cells": [
  {
   "cell_type": "code",
   "execution_count": 20,
   "metadata": {},
   "outputs": [],
   "source": [
    "text = \"The agent's phone number is 408-555-1234. Call soon! phone\""
   ]
  },
  {
   "cell_type": "code",
   "execution_count": 21,
   "metadata": {},
   "outputs": [
    {
     "output_type": "execute_result",
     "data": {
      "text/plain": [
       "True"
      ]
     },
     "metadata": {},
     "execution_count": 21
    }
   ],
   "source": [
    "'phone' in text"
   ]
  },
  {
   "cell_type": "code",
   "execution_count": 2,
   "metadata": {},
   "outputs": [],
   "source": [
    "import re"
   ]
  },
  {
   "cell_type": "code",
   "execution_count": 23,
   "metadata": {},
   "outputs": [],
   "source": [
    "pattern = 'phone'"
   ]
  },
  {
   "cell_type": "code",
   "execution_count": 26,
   "metadata": {},
   "outputs": [
    {
     "output_type": "execute_result",
     "data": {
      "text/plain": [
       "'phone'"
      ]
     },
     "metadata": {},
     "execution_count": 26
    }
   ],
   "source": [
    "x = re.search(pattern,text) \n",
    "\n",
    "x.group()"
   ]
  },
  {
   "cell_type": "code",
   "execution_count": 13,
   "metadata": {},
   "outputs": [
    {
     "output_type": "execute_result",
     "data": {
      "text/plain": [
       "'phone'"
      ]
     },
     "metadata": {},
     "execution_count": 13
    }
   ],
   "source": [
    "s = text[12:17]\n",
    "s"
   ]
  },
  {
   "cell_type": "code",
   "execution_count": 27,
   "metadata": {},
   "outputs": [
    {
     "output_type": "stream",
     "name": "stdout",
     "text": [
      "(12, 17)\n(53, 58)\n"
     ]
    }
   ],
   "source": [
    "for match in re.finditer('phone',text):\n",
    "  print(match.span())"
   ]
  },
  {
   "cell_type": "code",
   "execution_count": 10,
   "metadata": {},
   "outputs": [
    {
     "output_type": "stream",
     "name": "stdout",
     "text": [
      "<re.Match object; span=(19, 31), match='408-555-1234'> <re.Match object; span=(19, 31), match='408-555-1234'>\n"
     ]
    }
   ],
   "source": [
    "# usando patrones regex\n",
    "\n",
    "text = 'my phone number is 408-555-1234'\n",
    "\n",
    "phone = re.search(r'\\d{3}-\\d{3}-\\d{4}',text)\n",
    "phone2 = re.search(r'\\d\\d\\d-\\d\\d\\d-\\d\\d\\d\\d',text)\n",
    "\n",
    "print(phone,phone2)\n",
    "\n"
   ]
  },
  {
   "cell_type": "code",
   "execution_count": 12,
   "metadata": {},
   "outputs": [],
   "source": [
    "# comile\n",
    "\n",
    "phone_pattern = re.compile(r'(\\d{3})-(\\d{3})-(\\d{4})')\n",
    "\n",
    "phone = re.search(phone_pattern,text)"
   ]
  },
  {
   "cell_type": "code",
   "execution_count": 13,
   "metadata": {},
   "outputs": [
    {
     "output_type": "execute_result",
     "data": {
      "text/plain": [
       "<re.Match object; span=(19, 31), match='408-555-1234'>"
      ]
     },
     "metadata": {},
     "execution_count": 13
    }
   ],
   "source": [
    "phone"
   ]
  },
  {
   "cell_type": "code",
   "execution_count": 26,
   "metadata": {},
   "outputs": [
    {
     "output_type": "execute_result",
     "data": {
      "text/plain": [
       "'dog'"
      ]
     },
     "metadata": {},
     "execution_count": 26
    }
   ],
   "source": [
    "# or operator \n",
    "\n",
    "r = re.search(r'cat|dog', 'dog is here')\n",
    "'dog is here'[0:3]"
   ]
  },
  {
   "cell_type": "code",
   "execution_count": 54,
   "metadata": {},
   "outputs": [
    {
     "output_type": "execute_result",
     "data": {
      "text/plain": [
       "[' cat i', ' hat w']"
      ]
     },
     "metadata": {},
     "execution_count": 54
    }
   ],
   "source": [
    "re.findall(r'..at..', 'the cat in the hat went splat')"
   ]
  },
  {
   "cell_type": "code",
   "execution_count": 56,
   "metadata": {},
   "outputs": [
    {
     "output_type": "execute_result",
     "data": {
      "text/plain": [
       "[]"
      ]
     },
     "metadata": {},
     "execution_count": 56
    }
   ],
   "source": [
    "re.findall(r'^\\d', 'hello man')"
   ]
  },
  {
   "cell_type": "code",
   "execution_count": 60,
   "metadata": {},
   "outputs": [
    {
     "output_type": "execute_result",
     "data": {
      "text/plain": [
       "['2']"
      ]
     },
     "metadata": {},
     "execution_count": 60
    }
   ],
   "source": [
    "re.findall(r'\\d$', 'the number is 2')"
   ]
  },
  {
   "cell_type": "code",
   "execution_count": 62,
   "metadata": {},
   "outputs": [
    {
     "output_type": "stream",
     "name": "stdout",
     "text": [
      "['t', 'h', 'e', 'r', 'e', ' ', 'a', 'r', 'e', ' ', ' ', 'n', 'u', 'm', 'b', 'e', 'r', 's', ' ', ' ', 'i', 'n', 's', 'i', 'd', 'e', ' ', ' ', 't', 'h', 'i', 's', ' ', 's', 'e', 'n', 't', 'e', 'c', 'e']\n"
     ]
    }
   ],
   "source": [
    "phrase = 'there are 3 numbers 34 inside 5 this sentece'\n",
    "\n",
    "exclude_pattern = r'[^\\d]'\n",
    "\n",
    "print(re.findall(exclude_pattern, phrase))\n",
    "\n"
   ]
  },
  {
   "cell_type": "code",
   "execution_count": 77,
   "metadata": {},
   "outputs": [
    {
     "output_type": "stream",
     "name": "stdout",
     "text": [
      "['there are ', ' numbers ', ' inside ', ' this sentece']\n"
     ]
    }
   ],
   "source": [
    "exclude_pattern = r'[^\\d]+'\n",
    "print(re.findall(exclude_pattern, phrase))"
   ]
  },
  {
   "cell_type": "code",
   "execution_count": 78,
   "metadata": {},
   "outputs": [
    {
     "output_type": "stream",
     "name": "stdout",
     "text": [
      "['This', 'is', 'a', 'string', 'But', 'it', 'has', 'a', 'puntuation', 'How', 'can', 'we', 'remove', 'it']\n"
     ]
    }
   ],
   "source": [
    "test_phrase = 'This is a string! But it has a puntuation. How can we remove it?'\n",
    "\n",
    "clean_phrase = re.findall(r'[^!.? ]+', test_phrase)\n",
    "print(clean_phrase)"
   ]
  },
  {
   "cell_type": "code",
   "execution_count": 79,
   "metadata": {},
   "outputs": [
    {
     "output_type": "execute_result",
     "data": {
      "text/plain": [
       "'This is a string But it has a puntuation How can we remove it'"
      ]
     },
     "metadata": {},
     "execution_count": 79
    }
   ],
   "source": [
    "' '.join(clean_phrase)"
   ]
  },
  {
   "cell_type": "code",
   "execution_count": 81,
   "metadata": {},
   "outputs": [
    {
     "output_type": "execute_result",
     "data": {
      "text/plain": [
       "['frase-test', 'grupoLetras-grupoLetras']"
      ]
     },
     "metadata": {},
     "execution_count": 81
    }
   ],
   "source": [
    "phrase = 'frase-test para incluir solo ciertos caracteres tales como grupoLetras-grupoLetras'\n",
    "\n",
    "pattern= r'[\\w]+-[\\w]+'\n",
    "\n",
    "re.findall(pattern, phrase)"
   ]
  },
  {
   "cell_type": "code",
   "execution_count": 111,
   "metadata": {},
   "outputs": [
    {
     "output_type": "execute_result",
     "data": {
      "text/plain": [
       "<re.Match object; span=(22, 31), match='panaderia'>"
      ]
     },
     "metadata": {},
     "execution_count": 111
    }
   ],
   "source": [
    "phrase = 'hola, quiero comer panacota'\n",
    "phrase2 = 'hola, quiero ir a una panaderia'\n",
    "\n",
    "re.search(r'pan(acota|aderia)', phrase2)"
   ]
  },
  {
   "cell_type": "code",
   "execution_count": 125,
   "metadata": {},
   "outputs": [
    {
     "output_type": "execute_result",
     "data": {
      "text/plain": [
       "['hola,', 'quiero', 'ir', 'a', 'una', 'panaderia']"
      ]
     },
     "metadata": {},
     "execution_count": 125
    }
   ],
   "source": [
    "phrase2.split()"
   ]
  },
  {
   "cell_type": "code",
   "execution_count": 124,
   "metadata": {},
   "outputs": [
    {
     "output_type": "execute_result",
     "data": {
      "text/plain": [
       "['panaderia']"
      ]
     },
     "metadata": {},
     "execution_count": 124
    }
   ],
   "source": [
    "words = filter(lambda word : re.search(r'^pan',word), phrase2.split())\n",
    "\n",
    "list(words)"
   ]
  }
 ]
}