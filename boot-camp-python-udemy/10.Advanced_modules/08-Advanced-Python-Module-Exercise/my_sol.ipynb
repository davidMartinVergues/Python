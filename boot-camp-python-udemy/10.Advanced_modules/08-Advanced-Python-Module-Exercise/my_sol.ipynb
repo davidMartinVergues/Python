{
 "metadata": {
  "language_info": {
   "codemirror_mode": {
    "name": "ipython",
    "version": 3
   },
   "file_extension": ".py",
   "mimetype": "text/x-python",
   "name": "python",
   "nbconvert_exporter": "python",
   "pygments_lexer": "ipython3",
   "version": "3.7.6-final"
  },
  "orig_nbformat": 2,
  "kernelspec": {
   "name": "python376jvsc74a57bd0ec4f1c395c9060a2f4933d56a58278157b2fbfb1d142affcb202d55b2721a26e",
   "display_name": "Python 3.7.6 64-bit ('base': conda)"
  }
 },
 "nbformat": 4,
 "nbformat_minor": 2,
 "cells": [
  {
   "cell_type": "code",
   "execution_count": 1,
   "metadata": {},
   "outputs": [
    {
     "output_type": "execute_result",
     "data": {
      "text/plain": [
       "'/home/david/Programacion/PYTHON/Code/10.Advanced_modules/08-Advanced-Python-Module-Exercise'"
      ]
     },
     "metadata": {},
     "execution_count": 1
    }
   ],
   "source": [
    "pwd"
   ]
  },
  {
   "cell_type": "code",
   "execution_count": 24,
   "metadata": {},
   "outputs": [],
   "source": [
    "import shutil"
   ]
  },
  {
   "cell_type": "code",
   "execution_count": 25,
   "metadata": {},
   "outputs": [],
   "source": [
    "shutil.unpack_archive('unzip_me_for_instructions.zip','ejercicios', 'zip')"
   ]
  },
  {
   "cell_type": "code",
   "execution_count": 73,
   "metadata": {},
   "outputs": [],
   "source": [
    "import os"
   ]
  },
  {
   "cell_type": "code",
   "execution_count": 75,
   "metadata": {},
   "outputs": [
    {
     "output_type": "stream",
     "name": "stdout",
     "text": [
      "-------------\n./ejercicios/extracted_content/\n['Two', 'One', 'Three', 'Five', 'propia', 'Four']\n['Instructions.txt']\n-------------\n-------------\n./ejercicios/extracted_content/Two\n[]\n['LVMBINRBJXL.txt', 'OKWFOOYTXFU.txt', 'LSQSTGPIGIY.txt', 'SJMJLDGPBSJ.txt', 'GXYSEPAFRTP.txt', 'GTOTCIWMDBY.txt', 'LYZEQCVYNEZ.txt', 'OYMAGXAGWHJ.txt', 'SOFUJYXTIMK.txt', 'OMWIMVRCMYM.txt', 'HTOHSTYXTCO.txt', 'HEORIXOTANT.txt', 'HMZXPBOPRAE.txt', 'GQTJJORZBXY.txt', 'SIKFPPLCJDN.txt', 'GKQBQRCTNNK.txt', 'SPDZYGDHEWO.txt', 'OHZOUOSFJQC.txt', 'LCJZYDHBFRM.txt', 'HMUTDOVNYTV.txt', 'LULTNYAQEJG.txt', 'HARDNJGDRBC.txt', 'GMMQQUBMJNR.txt', 'OIHMLGMWTHL.txt', 'SWOFXREEHWA.txt']\n-------------\n-------------\n./ejercicios/extracted_content/One\n[]\n['PTOBBCJYURJ.txt', 'HRQFTHKVJTL.txt', 'KTXDHIOKAUI.txt', 'KFIUZFERLET.txt', 'HMNZTLIFGPD.txt', 'HDOHZHFSTTK.txt', 'PLYCGPVEAWO.txt', 'LHODFIKVTQA.txt', 'JEHBLZPUPSP.txt', 'KCXGNQCZBLO.txt', 'KMMLGJOWLGI.txt', 'KNBSKDREHQU.txt', 'LIFDHOFKWOI.txt', 'JQUOBKFUACN.txt', 'HVUTZEVMSBW.txt', 'PQNVCVJINAR.txt', 'LPNDVDXPZIG.txt', 'LDGOCUQJNNS.txt', 'JTHSNBNPQSE.txt', 'PHWAVPEKAER.txt', 'PDJMSMNKIRM.txt', 'LFEATJAAYDC.txt', 'JLTXKIGCWDL.txt', 'JDLRVFCXYLU.txt', 'HFUTPPAXDIS.txt']\n-------------\n-------------\n./ejercicios/extracted_content/Three\n[]\n['XAJMCPEWFNI.txt', 'YQBIUHSUEVW.txt', 'XHZPVUQTXIO.txt', 'YCESZHJDBXH.txt', 'ZOWVXWPOGWP.txt', 'VAQIJTDOFUJ.txt', 'VVKGWLRMHLU.txt', 'YYIZGBTQHZP.txt', 'VSXFSTABZDY.txt', 'XFHJOTNPEJG.txt', 'XJCWENFFGHB.txt', 'ZXEZRQXZNPG.txt', 'VCFJCGJFBIH.txt', 'YDQFMWXOUMW.txt', 'VVHFVZUNLOO.txt', 'YQRNCMNFFHW.txt', 'ZEZKKRBIZEB.txt', 'ZXIBJMPROKW.txt', 'ZKQJXAYKPVD.txt', 'XVMPVSVYKFR.txt']\n-------------\n-------------\n./ejercicios/extracted_content/Five\n[]\n['DQPZQLBCJYP.txt', 'DHZBAAYEADM.txt', 'CAHBEVSVDDN.txt', 'EIPWXMQZJKU.txt', 'COMGMZBJAYE.txt', 'AQKATDFGXTS.txt', 'ARLKFCWIAJE.txt', 'BTYWAHLHKBM.txt', 'DYOPIIVMZOO.txt', 'AEITMYIRQLP.txt', 'BVBURZZCAPR.txt', 'ETCUEXWNBCF.txt', 'CXBVCTRBBIE.txt', 'DZUWWXYIAEL.txt', 'AXJGVPVEFAS.txt', 'BNUQEHCFRTG.txt', 'DDLASODUVPX.txt', 'APJKSRITGGX.txt', 'BUGKBZWRRVI.txt', 'ESIZWBHMGDP.txt', 'CRFSDGYFSHA.txt', 'EAAOEPSAWMQ.txt', 'BSKJDRNEZQM.txt', 'CSCLFZCDYYC.txt', 'EYTCGIOYWIW.txt']\n-------------\n-------------\n./ejercicios/extracted_content/propia\n['propia2']\n[]\n-------------\n-------------\n./ejercicios/extracted_content/propia/propia2\n['propia3']\n[]\n-------------\n-------------\n./ejercicios/extracted_content/propia/propia2/propia3\n[]\n['phoneNumber.txt']\n-------------\n-------------\n./ejercicios/extracted_content/Four\n[]\n['RXDARIDGKBF.txt', 'QTDYYIFPHAU.txt', 'WYDLGSGGXKV.txt', 'WXDJDOGZEHN.txt', 'QDDETWBHJYC.txt', 'WNJISWPEBRS.txt', 'RSXOTNGKBML.txt', 'TJFMLJODVAD.txt', 'REAXWSOIQDY.txt', 'ROICPTWKXDX.txt', 'EPRNUHRSESC.txt', 'TAKNAVDMZKV.txt', 'ECIOBYCDVFI.txt', 'TWUOYFCCYBQ.txt', 'ESDIZXHYCVY.txt', 'QVNJULGXNUM.txt', 'RYNXFYXMKHG.txt', 'QCTCKDIBBVG.txt', 'WHTOHQUWXIN.txt', 'QCWCFLKNZMN.txt', 'WFSKPTXPFCH.txt', 'EMTGPSXQEJX.txt', 'EXVQSVBQQQH.txt', 'THPNEGKTJWI.txt', 'TKCZSFQNJTX.txt']\n-------------\n"
     ]
    }
   ],
   "source": [
    "list_dir = os.walk('./ejercicios/extracted_content/')\n",
    "\n",
    "for folder,subfolder,files in list_dir:\n",
    "    print('-------------\\n', end='')\n",
    "    print(folder)\n",
    "    print(subfolder)\n",
    "    print(files)\n",
    "    print('-------------\\n', end='')"
   ]
  },
  {
   "cell_type": "code",
   "execution_count": 28,
   "metadata": {},
   "outputs": [
    {
     "output_type": "stream",
     "name": "stdout",
     "text": [
      "Good work on unzipping the file!\nYou should now see 5 folders, each with a lot of random .txt files.\nWithin one of these text files is a telephone number formated ###-###-#### \nUse the Python os module and regular expressions to iterate through each file, open it, and search for a telephone number.\nGood luck!\n"
     ]
    }
   ],
   "source": [
    "with open('./ejercicios/extracted_content/Instructions.txt','r') as file:\n",
    "    print(file.read())"
   ]
  },
  {
   "cell_type": "code",
   "execution_count": 78,
   "metadata": {
    "tags": []
   },
   "outputs": [
    {
     "output_type": "execute_result",
     "data": {
      "text/plain": [
       "[<re.Match object; span=(1, 13), match='666-666-6666'>,\n",
       " <re.Match object; span=(1062, 1074), match='719-266-2837'>]"
      ]
     },
     "metadata": {},
     "execution_count": 78
    }
   ],
   "source": [
    "import re\n",
    "number=[]\n",
    "flag = bool\n",
    "list_dir = os.walk('./ejercicios/extracted_content/')\n",
    "\n",
    "for folder,subfolder,files in list_dir:\n",
    "    for file in files:\n",
    "        with open(f'{folder}/{file}','r') as text:\n",
    "            flag = re.search(r'\\d{3}-\\d{3}-\\d{4}',text.read())\n",
    "            if(flag):\n",
    "                number.append(flag)\n",
    "        \n",
    "\n",
    "number\n"
   ]
  },
  {
   "cell_type": "code",
   "execution_count": null,
   "metadata": {},
   "outputs": [],
   "source": []
  }
 ]
}