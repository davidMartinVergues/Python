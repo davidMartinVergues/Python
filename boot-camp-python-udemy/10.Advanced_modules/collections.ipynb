{
 "metadata": {
  "language_info": {
   "codemirror_mode": {
    "name": "ipython",
    "version": 3
   },
   "file_extension": ".py",
   "mimetype": "text/x-python",
   "name": "python",
   "nbconvert_exporter": "python",
   "pygments_lexer": "ipython3",
   "version": "3.7.6-final"
  },
  "orig_nbformat": 2,
  "kernelspec": {
   "name": "python376jvsc74a57bd0ec4f1c395c9060a2f4933d56a58278157b2fbfb1d142affcb202d55b2721a26e",
   "display_name": "Python 3.7.6 64-bit ('base': conda)"
  }
 },
 "nbformat": 4,
 "nbformat_minor": 2,
 "cells": [
  {
   "cell_type": "code",
   "execution_count": 3,
   "metadata": {},
   "outputs": [
    {
     "output_type": "stream",
     "name": "stdout",
     "text": [
      "[('a', 5), ('b', 5), ('c', 3)]\n"
     ]
    }
   ],
   "source": [
    "# Collections module\n",
    "\n",
    "# counter\n",
    "\n",
    "from collections import Counter\n",
    "\n",
    "iterable_obj = 'aaaaabbbbbccc'\n",
    "count = Counter(iterable_obj)\n",
    "\n",
    "print(count.most_common())\n",
    "# [('a', 5), ('b', 5), ('c', 3)]\n"
   ]
  },
  {
   "cell_type": "code",
   "execution_count": 3,
   "metadata": {},
   "outputs": [
    {
     "output_type": "execute_result",
     "data": {
      "text/plain": [
       "[('a', 5)]"
      ]
     },
     "metadata": {},
     "execution_count": 3
    }
   ],
   "source": [
    "count.most_common(1)"
   ]
  },
  {
   "cell_type": "code",
   "execution_count": 10,
   "metadata": {},
   "outputs": [
    {
     "output_type": "execute_result",
     "data": {
      "text/plain": [
       "Counter({'a': 3, 'b': 5, 'c': 5, 'd': 3})"
      ]
     },
     "metadata": {},
     "execution_count": 10
    }
   ],
   "source": [
    "letters = 'aaabbbbbcccccddd'\n",
    "\n",
    "c = Counter(letters)\n",
    "c"
   ]
  },
  {
   "cell_type": "code",
   "execution_count": 12,
   "metadata": {},
   "outputs": [
    {
     "output_type": "stream",
     "name": "stdout",
     "text": [
      "['a', 'a', 'a', 'b', 'b', 'b', 'b', 'b', 'c', 'c', 'c', 'c', 'c', 'd', 'd', 'd']\n"
     ]
    }
   ],
   "source": [
    "# metodos\n",
    "\n",
    "print(list(c.elements()))\n"
   ]
  },
  {
   "cell_type": "code",
   "execution_count": 15,
   "metadata": {},
   "outputs": [
    {
     "output_type": "stream",
     "name": "stdout",
     "text": [
      "Counter({'b': 5, 'c': 5, 'a': 3, 'd': 3})\ndict_values([3, 5, 5, 3])\n"
     ]
    }
   ],
   "source": [
    "print(c)\n",
    "print(c.values())"
   ]
  },
  {
   "cell_type": "code",
   "execution_count": 35,
   "metadata": {},
   "outputs": [
    {
     "output_type": "stream",
     "name": "stdout",
     "text": [
      "<class 'dict_items'>\n('a', 3)('b', 5)('c', 5)('d', 3)"
     ]
    },
    {
     "output_type": "execute_result",
     "data": {
      "text/plain": [
       "[('d', 3), ('a', 3)]"
      ]
     },
     "metadata": {},
     "execution_count": 35
    }
   ],
   "source": [
    "\n",
    "letters = 'aaabbbbbcccccddd'\n",
    "\n",
    "c = Counter(letters)\n",
    "\n",
    "c_items = c.items() \n",
    "\n",
    "print(type(c_items))\n",
    "\n",
    "for x in c_items:\n",
    "    print(x, end='')\n",
    "\n",
    "list(c_items)\n",
    "\n",
    "c.most_common()[:-2-1:-1] \n"
   ]
  },
  {
   "cell_type": "code",
   "execution_count": 36,
   "metadata": {},
   "outputs": [
    {
     "output_type": "execute_result",
     "data": {
      "text/plain": [
       "Counter({'a': 2, 'b': 5})"
      ]
     },
     "metadata": {},
     "execution_count": 36
    }
   ],
   "source": [
    "Counter(dict([('a',2),('b',5)]))"
   ]
  },
  {
   "cell_type": "code",
   "execution_count": 42,
   "metadata": {},
   "outputs": [
    {
     "output_type": "stream",
     "name": "stdout",
     "text": [
      "Counter({'david': 2, 'martin': 2, 'vergues': 0})\n"
     ]
    },
    {
     "output_type": "execute_result",
     "data": {
      "text/plain": [
       "Counter({'david': 2, 'martin': 2})"
      ]
     },
     "metadata": {},
     "execution_count": 42
    }
   ],
   "source": [
    "count = Counter({'david':2,'martin':2, 'vergues':0})\n",
    "print(count)\n",
    "\n",
    "count+= Counter()\n",
    "\n",
    "count"
   ]
  },
  {
   "cell_type": "code",
   "execution_count": 49,
   "metadata": {},
   "outputs": [
    {
     "output_type": "execute_result",
     "data": {
      "text/plain": [
       "defaultdict(<function __main__.<lambda>()>, {'correct': 100, 'wrong': -1})"
      ]
     },
     "metadata": {},
     "execution_count": 49
    }
   ],
   "source": [
    "from collections import defaultdict\n",
    "\n",
    "d = defaultdict(lambda: -1)\n",
    "\n",
    "d['correct']= 100\n",
    "\n",
    "d['wrong']\n",
    "d # \n"
   ]
  },
  {
   "cell_type": "code",
   "execution_count": 51,
   "metadata": {},
   "outputs": [
    {
     "output_type": "execute_result",
     "data": {
      "text/plain": [
       "12"
      ]
     },
     "metadata": {},
     "execution_count": 51
    }
   ],
   "source": [
    "# namedtuple\n",
    "t = (12,13,14)\n",
    "t[0] # 12 "
   ]
  },
  {
   "cell_type": "code",
   "execution_count": 69,
   "metadata": {},
   "outputs": [
    {
     "output_type": "execute_result",
     "data": {
      "text/plain": [
       "'david'"
      ]
     },
     "metadata": {},
     "execution_count": 69
    }
   ],
   "source": [
    "from collections import namedtuple\n",
    "\n",
    "Person = namedtuple('Persona', ['nombre','edad','profesion'])\n",
    "\n",
    "david = Person(nombre = 'david', edad='36',profesion = 'bioInfo')\n",
    "\n",
    "david\n",
    "\n",
    "type(david) # __main__.Person\n",
    "\n",
    "david # Person(nombre='david', edad='36', profesion='bioInfo')\n",
    "\n",
    "david[0] # 'david'\n",
    "david.nombre # 'david\n"
   ]
  },
  {
   "cell_type": "code",
   "execution_count": 72,
   "metadata": {},
   "outputs": [
    {
     "output_type": "execute_result",
     "data": {
      "text/plain": [
       "__main__.Persona"
      ]
     },
     "metadata": {},
     "execution_count": 72
    }
   ],
   "source": [
    "from collections import namedtuple\n",
    "\n",
    "Person = namedtuple('Persona', ['nombre','edad','profesion'])\n",
    "\n",
    "david2 = Person(nombre = 'david', edad='36',profesion = 'bioInfo')\n",
    "\n",
    "david\n",
    "\n",
    "\n",
    "david2 # Person(nombre='david', edad='36', profesion='bioInfo')\n",
    "\n",
    "david2[0] # 'david'\n",
    "david2.nombre # 'david\n",
    "type(david2) # __main__.Person"
   ]
  },
  {
   "cell_type": "code",
   "execution_count": null,
   "metadata": {},
   "outputs": [],
   "source": []
  }
 ]
}