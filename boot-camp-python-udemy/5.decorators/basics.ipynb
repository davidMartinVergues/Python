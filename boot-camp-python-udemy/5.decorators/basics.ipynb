{
 "metadata": {
  "language_info": {
   "codemirror_mode": {
    "name": "ipython",
    "version": 3
   },
   "file_extension": ".py",
   "mimetype": "text/x-python",
   "name": "python",
   "nbconvert_exporter": "python",
   "pygments_lexer": "ipython3",
   "version": "3.8.5-final"
  },
  "orig_nbformat": 2,
  "kernelspec": {
   "name": "python3",
   "display_name": "Python 3",
   "language": "python"
  }
 },
 "nbformat": 4,
 "nbformat_minor": 2,
 "cells": [
  {
   "cell_type": "code",
   "execution_count": 1,
   "metadata": {},
   "outputs": [
    {
     "output_type": "execute_result",
     "data": {
      "text/plain": [
       "'hellllooo'"
      ]
     },
     "metadata": {},
     "execution_count": 1
    }
   ],
   "source": [
    "def hello():\n",
    "    return 'hellllooo'\n",
    "\n",
    "greet = hello\n",
    "\n",
    "del hello\n",
    "\n",
    "#greet()\n",
    "greet()"
   ]
  },
  {
   "cell_type": "code",
   "execution_count": 2,
   "metadata": {},
   "outputs": [],
   "source": [
    "def my_decorator(func):\n",
    "\n",
    "    def wrap_func(str, emoji):\n",
    "        print('*********')\n",
    "        func(str, emoji)\n",
    "        print('*********')\n",
    "    return wrap_func"
   ]
  },
  {
   "cell_type": "code",
   "execution_count": 39,
   "metadata": {},
   "outputs": [
    {
     "output_type": "stream",
     "name": "stdout",
     "text": [
      "*********\nhellooo :p\n*********\nNone\n"
     ]
    }
   ],
   "source": [
    "def my_decorator2(func):\n",
    "\n",
    "    def wrap_func(*args, **kwargs):\n",
    "        print('*********')\n",
    "        func(*args, **kwargs)\n",
    "        print('*********')\n",
    "    return wrap_func\n",
    "\n",
    "\n",
    "@my_decorator2\n",
    "def hello(greeting, emoji=':p'):\n",
    "    print(greeting, emoji)\n",
    "\n",
    "print(hello('hellooo'))\n"
   ]
  },
  {
   "cell_type": "code",
   "execution_count": 4,
   "metadata": {},
   "outputs": [
    {
     "output_type": "stream",
     "name": "stdout",
     "text": [
      "it took 4.045660495758057\n"
     ]
    }
   ],
   "source": [
    "# ejercicios decorator\n",
    "\n",
    "from time import  time\n",
    "\n",
    "def performance(fn):\n",
    "    def wrapper(*args,**kwargs):\n",
    "        t1 = time()\n",
    "        fn(*args,**kwargs)\n",
    "        t2 = time()\n",
    "        print(f'it took {t2-t1}')\n",
    "    return wrapper\n",
    "\n",
    "@performance\n",
    "def long_time():\n",
    "    for x in range(100000000):\n",
    "        x*5\n",
    "\n",
    "long_time()\n",
    "\n",
    "\n"
   ]
  },
  {
   "cell_type": "code",
   "execution_count": null,
   "metadata": {},
   "outputs": [],
   "source": []
  },
  {
   "cell_type": "code",
   "execution_count": null,
   "metadata": {},
   "outputs": [],
   "source": []
  }
 ]
}