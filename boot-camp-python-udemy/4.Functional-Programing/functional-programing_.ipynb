{
 "metadata": {
  "language_info": {
   "codemirror_mode": {
    "name": "ipython",
    "version": 3
   },
   "file_extension": ".py",
   "mimetype": "text/x-python",
   "name": "python",
   "nbconvert_exporter": "python",
   "pygments_lexer": "ipython3",
   "version": "3.7.6-final"
  },
  "orig_nbformat": 2,
  "kernelspec": {
   "name": "python3",
   "display_name": "Python 3.7.6 64-bit ('base': conda)",
   "metadata": {
    "interpreter": {
     "hash": "ec4f1c395c9060a2f4933d56a58278157b2fbfb1d142affcb202d55b2721a26e"
    }
   }
  }
 },
 "nbformat": 4,
 "nbformat_minor": 2,
 "cells": [
  {
   "cell_type": "code",
   "execution_count": 2,
   "metadata": {},
   "outputs": [],
   "source": [
    "def multiply_by2(li):\n",
    "    #return [num*2 for num in li]\n",
    "    return list(map(lambda num:num*2,li ))"
   ]
  },
  {
   "cell_type": "code",
   "execution_count": 3,
   "metadata": {},
   "outputs": [
    {
     "output_type": "stream",
     "name": "stdout",
     "text": [
      "[2, 4, 6]\n[1, 2, 3]\n"
     ]
    }
   ],
   "source": [
    "# Data\n",
    "my_list = [1,2,3]\n",
    "# Funtion\n",
    "print(multiply_by2(my_list))\n",
    "\n",
    "# comprobamos q no hemos afectado a los datos\n",
    "print(my_list)"
   ]
  },
  {
   "cell_type": "code",
   "execution_count": 11,
   "metadata": {},
   "outputs": [
    {
     "output_type": "stream",
     "name": "stdout",
     "text": [
      "david\n"
     ]
    }
   ],
   "source": [
    "# Redure\n",
    "\n",
    "from functools import reduce\n",
    "\n",
    "def accumulator(a, b):\n",
    "    return a+b\n",
    "   # return a if a>b else b\n",
    "\n",
    "result = reduce(accumulator,['d'+'a'+'v'+'i'+'d'])\n",
    "\n",
    "print(result)\n"
   ]
  },
  {
   "cell_type": "code",
   "execution_count": 12,
   "metadata": {},
   "outputs": [
    {
     "output_type": "stream",
     "name": "stdout",
     "text": [
      "4\n"
     ]
    }
   ],
   "source": [
    "def accumulator(a, b):\n",
    "    return a if a>b else b\n",
    "   \n",
    "\n",
    "result = reduce(accumulator,[1,2,3,4])\n",
    "\n",
    "print(result) # 4"
   ]
  },
  {
   "cell_type": "code",
   "execution_count": 13,
   "metadata": {},
   "outputs": [
    {
     "output_type": "stream",
     "name": "stdout",
     "text": [
      "6\n"
     ]
    }
   ],
   "source": [
    "def accumulator(a, b):\n",
    "    return a+b\n",
    "   \n",
    "\n",
    "result = reduce(accumulator,[1,2,3])\n",
    "\n",
    "print(result) # david"
   ]
  },
  {
   "cell_type": "code",
   "execution_count": 22,
   "metadata": {},
   "outputs": [
    {
     "output_type": "stream",
     "name": "stdout",
     "text": [
      "[2, 4, 6, 8]\n"
     ]
    }
   ],
   "source": [
    "resu = list(map(lambda num: num*2, [1,2,3,4]))\n",
    "print(resu)"
   ]
  },
  {
   "cell_type": "code",
   "execution_count": 24,
   "metadata": {},
   "outputs": [
    {
     "output_type": "stream",
     "name": "stdout",
     "text": [
      "6\n"
     ]
    }
   ],
   "source": [
    "print(reduce(lambda x , y : x+y, [1,2,3] ))"
   ]
  },
  {
   "cell_type": "code",
   "execution_count": 71,
   "metadata": {},
   "outputs": [
    {
     "output_type": "execute_result",
     "data": {
      "text/plain": [
       "[(0, 2), (4, 3), (9, 9), (10, -1)]"
      ]
     },
     "metadata": {},
     "execution_count": 71
    }
   ],
   "source": [
    "a = [ (0,2) , (4,3), (9,9), (10,-1)  ]\n",
    "c=  []\n",
    "min = 0\n",
    "b = sorted(a, key=lambda t: t[1]) \n",
    "a\n",
    "\n"
   ]
  },
  {
   "cell_type": "code",
   "execution_count": 63,
   "metadata": {},
   "outputs": [
    {
     "output_type": "execute_result",
     "data": {
      "text/plain": [
       "[0, 5, 7, 4, 6, 2, 6, 6]"
      ]
     },
     "metadata": {},
     "execution_count": 63
    }
   ],
   "source": [
    "l = [0,5,9,4,6,2,6,7]\n",
    "min = 0\n",
    "index_min= -1\n",
    "index_min2= -1\n",
    "l2 = []\n",
    "\n",
    "\n",
    "\n",
    "# for i in range(0, len(l)):\n",
    "#     for ii in range(i+1, len(l)):\n",
    "#         if l[i]>l[ii]:\n",
    "#             min = l[ii]\n",
    "#             l[ii]= l[i]\n",
    "#             l[i]=min\n",
    "\n",
    "for i in range(0, len(l)):\n",
    "    for ii in range(i+1, len(l)):\n",
    "        if l[i]>l[ii] and ii!= index_min:\n",
    "            min = l[ii]\n",
    "            index_min2 = ii\n",
    "        elif l[i]<l[ii] and i!= index_min:\n",
    "            min = l[i]\n",
    "            index_min2 = i\n",
    "    \n",
    "    l2.append(min)\n",
    "    index_min= index_min2\n",
    "    #index_min = \n",
    " \n",
    "\n",
    "\n",
    "\n",
    "l2\n",
    "\n",
    "\n",
    "        \n",
    "\n",
    "\n",
    "\n",
    "\n"
   ]
  },
  {
   "cell_type": "code",
   "execution_count": null,
   "metadata": {},
   "outputs": [],
   "source": []
  }
 ]
}