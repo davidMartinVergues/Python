{
 "cells": [
  {
   "cell_type": "code",
   "execution_count": 1,
   "metadata": {},
   "outputs": [],
   "source": [
    "class Dog:\n",
    "    # class attribute\n",
    "    species= 'mammal'\n",
    "    def __init__ (self,breed,name,spots):\n",
    "        self.breed = breed\n",
    "        self.name = name\n",
    "        self.spots = spots\n",
    "    # definimos métodos \n",
    "    def bark(self,number):\n",
    "        print(f'woof! my name is {self.name} and the number is {number} and i\\'m ownn to species {self.species}')\n",
    "        "
   ]
  },
  {
   "cell_type": "code",
   "execution_count": 2,
   "metadata": {},
   "outputs": [],
   "source": [
    "my_dog = Dog('lab','samy',False)"
   ]
  },
  {
   "cell_type": "code",
   "execution_count": 3,
   "metadata": {},
   "outputs": [
    {
     "data": {
      "text/plain": [
       "__main__.Dog"
      ]
     },
     "execution_count": 3,
     "metadata": {},
     "output_type": "execute_result"
    }
   ],
   "source": [
    "type(my_dog)"
   ]
  },
  {
   "cell_type": "code",
   "execution_count": 4,
   "metadata": {},
   "outputs": [
    {
     "data": {
      "text/plain": [
       "'mammal'"
      ]
     },
     "execution_count": 4,
     "metadata": {},
     "output_type": "execute_result"
    }
   ],
   "source": [
    "my_dog.species"
   ]
  },
  {
   "cell_type": "code",
   "execution_count": 30,
   "metadata": {},
   "outputs": [
    {
     "name": "stdout",
     "output_type": "stream",
     "text": [
      "woof! my name is samy and the number is 5 and i'm ownn to species mammal\n"
     ]
    }
   ],
   "source": [
    "my_dog.bark(5)"
   ]
  },
  {
   "cell_type": "code",
   "execution_count": 54,
   "metadata": {},
   "outputs": [],
   "source": [
    "import math\n",
    "class Circle:\n",
    "    pi = math.pi\n",
    "    def __init__(self,radius=1):\n",
    "        self.radius= radius\n",
    "        self.area = self.pi*self.radius**2\n",
    "        \n",
    "    def printPi():\n",
    "        print(Circle.pi)\n",
    "    # methods\n",
    "    def get_Circumference(self):\n",
    "        return 2* self.pi*self.radius \n",
    "    def get_area(self):\n",
    "        return self.area \n",
    "        \n",
    "         "
   ]
  },
  {
   "cell_type": "code",
   "execution_count": 56,
   "metadata": {},
   "outputs": [],
   "source": [
    "my_circle = Circle(30)"
   ]
  },
  {
   "cell_type": "code",
   "execution_count": 57,
   "metadata": {},
   "outputs": [
    {
     "data": {
      "text/plain": [
       "3.141592653589793"
      ]
     },
     "execution_count": 57,
     "metadata": {},
     "output_type": "execute_result"
    }
   ],
   "source": [
    "my_circle.pi"
   ]
  },
  {
   "cell_type": "code",
   "execution_count": 58,
   "metadata": {},
   "outputs": [
    {
     "data": {
      "text/plain": [
       "30"
      ]
     },
     "execution_count": 58,
     "metadata": {},
     "output_type": "execute_result"
    }
   ],
   "source": [
    "my_circle.radius"
   ]
  },
  {
   "cell_type": "code",
   "execution_count": 59,
   "metadata": {},
   "outputs": [
    {
     "data": {
      "text/plain": [
       "188.49555921538757"
      ]
     },
     "execution_count": 59,
     "metadata": {},
     "output_type": "execute_result"
    }
   ],
   "source": [
    "my_circle.get_Circumference()"
   ]
  },
  {
   "cell_type": "code",
   "execution_count": 60,
   "metadata": {},
   "outputs": [
    {
     "name": "stdout",
     "output_type": "stream",
     "text": [
      "3.141592653589793\n"
     ]
    }
   ],
   "source": [
    "Circle.printPi()"
   ]
  },
  {
   "cell_type": "code",
   "execution_count": null,
   "metadata": {},
   "outputs": [],
   "source": []
  },
  {
   "cell_type": "code",
   "execution_count": 61,
   "metadata": {},
   "outputs": [
    {
     "data": {
      "text/plain": [
       "2827.4333882308138"
      ]
     },
     "execution_count": 61,
     "metadata": {},
     "output_type": "execute_result"
    }
   ],
   "source": [
    "my_circle.get_area()"
   ]
  },
  {
   "cell_type": "code",
   "execution_count": 40,
   "metadata": {},
   "outputs": [],
   "source": [
    "class Dog2:\n",
    "    '''\n",
    "    this is my class Dog2\n",
    "    '''\n",
    "    # class attribute\n",
    "    species= 'mammal'\n",
    "    def __init__ (self,breed,name,spots):\n",
    "        self._breed = breed\n",
    "        self.__name = name\n",
    "        self._spots = spots\n",
    "    # definimos métodos \n",
    "    def bark(self,number):\n",
    "        print(f'woof! my name is {self.__name} and the number is {number} and i\\'m ownn to species {self.species}')"
   ]
  },
  {
   "cell_type": "code",
   "execution_count": 41,
   "metadata": {},
   "outputs": [
    {
     "name": "stdout",
     "output_type": "stream",
     "text": [
      "\n",
      "    this is my class Dog2\n",
      "    \n",
      "woof! my name is max and the number is 5 and i'm ownn to species mammal\n"
     ]
    }
   ],
   "source": [
    "dog2 = Dog2('raza','max',False)\n",
    "#print(dog2.__name)\n",
    "print(Dog2.__doc__)\n",
    "dog2.__name = 'max_2'\n",
    "dog2.bark(5)"
   ]
  },
  {
   "cell_type": "code",
   "execution_count": null,
   "metadata": {},
   "outputs": [],
   "source": []
  },
  {
   "cell_type": "code",
   "execution_count": 1,
   "metadata": {},
   "outputs": [
    {
     "name": "stdout",
     "output_type": "stream",
     "text": [
      "animal created, with name max\n",
      "animal created, with name max\n",
      "dog created, with name max and i am 10 years old\n"
     ]
    },
    {
     "data": {
      "text/plain": [
       "False"
      ]
     },
     "execution_count": 1,
     "metadata": {},
     "output_type": "execute_result"
    }
   ],
   "source": [
    "class Animal:\n",
    "\n",
    "    def __init__(self, name):\n",
    "        self.name = name\n",
    "        print('animal created, with name '+ self.name)\n",
    "    def talk(self):\n",
    "        pass\n",
    "\n",
    "#   CLASE HIJA\n",
    "class Dog (Animal):\n",
    "    def __init__(self, name, age):\n",
    "        Animal.__init__(self,name)\n",
    "        self.age = age\n",
    "        print(f'dog created, with name {self.name} and i am {self.age } years old')\n",
    "    # overwriting method \n",
    "    def talk(self):\n",
    "        pass\n",
    "\n",
    "my_naimal = Animal('max')\n",
    "my_dog = Dog('max',10)\n",
    "\n",
    "isinstance(my_dog,Dog) # True\n",
    "isinstance(my_dog,Animal) # True\n",
    "isinstance(my_dog,object) # True\n",
    "issubclass(Dog,Animal) # True\n",
    "issubclass(Animal,Dog) # Flase\n"
   ]
  },
  {
   "cell_type": "code",
   "execution_count": 2,
   "metadata": {},
   "outputs": [
    {
     "data": {
      "text/plain": [
       "['__class__',\n",
       " '__delattr__',\n",
       " '__dict__',\n",
       " '__dir__',\n",
       " '__doc__',\n",
       " '__eq__',\n",
       " '__format__',\n",
       " '__ge__',\n",
       " '__getattribute__',\n",
       " '__gt__',\n",
       " '__hash__',\n",
       " '__init__',\n",
       " '__init_subclass__',\n",
       " '__le__',\n",
       " '__lt__',\n",
       " '__module__',\n",
       " '__ne__',\n",
       " '__new__',\n",
       " '__reduce__',\n",
       " '__reduce_ex__',\n",
       " '__repr__',\n",
       " '__setattr__',\n",
       " '__sizeof__',\n",
       " '__str__',\n",
       " '__subclasshook__',\n",
       " '__weakref__',\n",
       " 'age',\n",
       " 'name',\n",
       " 'talk']"
      ]
     },
     "execution_count": 2,
     "metadata": {},
     "output_type": "execute_result"
    }
   ],
   "source": [
    "dir(my_dog)"
   ]
  },
  {
   "cell_type": "code",
   "execution_count": 4,
   "metadata": {},
   "outputs": [
    {
     "name": "stdout",
     "output_type": "stream",
     "text": [
      "<__main__.Dog object at 0x7fc7e32e78d0>\n",
      "<__main__.Dog object at 0x7fc7e32e78d0>\n"
     ]
    }
   ],
   "source": [
    "print(my_dog.__str__())\n",
    "print(str(my_dog))"
   ]
  },
  {
   "cell_type": "code",
   "execution_count": 18,
   "metadata": {},
   "outputs": [
    {
     "name": "stdout",
     "output_type": "stream",
     "text": [
      "1000\n",
      "[5]\n"
     ]
    }
   ],
   "source": [
    "class SuperList(list):\n",
    "    def __len__(self):\n",
    "        return 1000\n",
    "\n",
    "super_list1 = SuperList()\n",
    "print(len(super_list1))\n",
    "super_list1.append(5)\n",
    "print(super_list1)"
   ]
  },
  {
   "cell_type": "code",
   "execution_count": 31,
   "metadata": {},
   "outputs": [],
   "source": [
    "class User:\n",
    "  def sign_in(self):\n",
    "    print('logged in')\n",
    "\n",
    "class Wizard(User):\n",
    "\n",
    "  def __init__(self,name,power):\n",
    "    self.name = name\n",
    "    self.power = power\n",
    "  \n",
    "  def attack(self):\n",
    "    print(f'attacking with power of {self.power}')\n",
    "\n",
    "class Archer(User):\n",
    "\n",
    "  def __init__(self,name,arrows):\n",
    "    self.name = name\n",
    "    self.arrows = arrows\n",
    "  \n",
    "  def check_arrows(self):\n",
    "    print(f'arrows left {self.arrows}')\n",
    "\n",
    "  def run(self):\n",
    "    print('run very fast')     \n",
    "\n",
    "# Herencia múltiple\n",
    "\n",
    "class Hybrid(Wizard, Archer):\n",
    "\n",
    "  def __init__(self,name,power, arrows):\n",
    "    Wizard.__init__(self,name,power)\n",
    "    Archer.__init__(self,name,arrows)"
   ]
  },
  {
   "cell_type": "code",
   "execution_count": 33,
   "metadata": {},
   "outputs": [
    {
     "data": {
      "text/plain": [
       "['__class__',\n",
       " '__delattr__',\n",
       " '__dict__',\n",
       " '__dir__',\n",
       " '__doc__',\n",
       " '__eq__',\n",
       " '__format__',\n",
       " '__ge__',\n",
       " '__getattribute__',\n",
       " '__gt__',\n",
       " '__hash__',\n",
       " '__init__',\n",
       " '__init_subclass__',\n",
       " '__le__',\n",
       " '__lt__',\n",
       " '__module__',\n",
       " '__ne__',\n",
       " '__new__',\n",
       " '__reduce__',\n",
       " '__reduce_ex__',\n",
       " '__repr__',\n",
       " '__setattr__',\n",
       " '__sizeof__',\n",
       " '__str__',\n",
       " '__subclasshook__',\n",
       " '__weakref__',\n",
       " 'arrows',\n",
       " 'attack',\n",
       " 'check_arrows',\n",
       " 'name',\n",
       " 'power',\n",
       " 'run',\n",
       " 'sign_in']"
      ]
     },
     "execution_count": 33,
     "metadata": {},
     "output_type": "execute_result"
    }
   ],
   "source": [
    "hb1 = Hybrid('hybrido', 50,100)\n",
    "\n",
    "dir(hb1)"
   ]
  },
  {
   "cell_type": "code",
   "execution_count": 34,
   "metadata": {},
   "outputs": [],
   "source": [
    "class A:\n",
    "  num= 10\n",
    "\n",
    "class B(A):\n",
    "  pass\n",
    "\n",
    "class C(A):\n",
    "  pass\n",
    "\n",
    "class D(B,C):\n",
    "  pass"
   ]
  },
  {
   "cell_type": "code",
   "execution_count": 35,
   "metadata": {},
   "outputs": [
    {
     "data": {
      "text/plain": [
       "[__main__.D, __main__.B, __main__.C, __main__.A, object]"
      ]
     },
     "execution_count": 35,
     "metadata": {},
     "output_type": "execute_result"
    }
   ],
   "source": [
    "D.mro()"
   ]
  },
  {
   "cell_type": "code",
   "execution_count": 2,
   "metadata": {},
   "outputs": [
    {
     "data": {
      "text/plain": [
       "float"
      ]
     },
     "execution_count": 2,
     "metadata": {},
     "output_type": "execute_result"
    }
   ],
   "source": [
    "type(2/2)"
   ]
  },
  {
   "cell_type": "code",
   "execution_count": 7,
   "metadata": {},
   "outputs": [
    {
     "name": "stdout",
     "output_type": "stream",
     "text": [
      "[1, 2, 3, 4, 5, 6, 7]\n"
     ]
    }
   ],
   "source": [
    "l = [1,2,3,4]\n",
    "l2 = [*l,5,6,7]\n",
    "print(l2)"
   ]
  },
  {
   "cell_type": "code",
   "execution_count": 10,
   "metadata": {},
   "outputs": [
    {
     "name": "stdout",
     "output_type": "stream",
     "text": [
      "{'name': 'dav', 'age': 37, 'hobby': 'swimg'}\n"
     ]
    }
   ],
   "source": [
    "ob = {'name':'dav', 'age':36}\n",
    "ob2 = {**ob,'age':37,'hobby':'swimg'}\n",
    "print(ob2)"
   ]
  },
  {
   "cell_type": "code",
   "execution_count": null,
   "metadata": {},
   "outputs": [],
   "source": []
  }
 ],
 "metadata": {
  "interpreter": {
   "hash": "f9f85f796d01129d0dd105a088854619f454435301f6ffec2fea96ecbd9be4ac"
  },
  "kernelspec": {
   "display_name": "Python 3.9.5 64-bit",
   "name": "python3"
  },
  "language_info": {
   "codemirror_mode": {
    "name": "ipython",
    "version": 3
   },
   "file_extension": ".py",
   "mimetype": "text/x-python",
   "name": "python",
   "nbconvert_exporter": "python",
   "pygments_lexer": "ipython3",
   "version": "3.9.5"
  }
 },
 "nbformat": 4,
 "nbformat_minor": 4
}
