{
  "cells": [
    {
      "cell_type": "markdown",
      "metadata": {
        "id": "oYmLuFpOyZMr"
      },
      "source": [
        "# Introducción a Google Colaboratory\n",
        "\n",
        "<!-- badges: start -->\n",
        "[![@jvelzmagic](https://img.shields.io/badge/@jvelezmagic-Sitio_personal-blue?&logoColor=white)](https://jvelezmagic.com/) \n",
        "[![Platzi](https://img.shields.io/badge/Platzi-Jupyter_Notebooks_para_Ciencia_de_Datos-green&logoColor=white)](https://platzi.com/datos/)\n",
        "<!-- badges: end -->"
      ]
    },
    {
      "cell_type": "markdown",
      "metadata": {
        "id": "VCtwnpKEyl4b"
      },
      "source": [
        "## Primeros pasos\n",
        "\n",
        "**Colaboratory**, o mejor conocido como **Colab**, provee de un entorno interactivo a nivel de **archivo**. Dentro de él podrás **escribir** y **ejecutar código** python de una forma **sencilla** y **colaborativa** en tiempo real **sin** ninguna **configuración** extra.\n",
        "\n",
        "El componente de trabajo **clave** en **Colab** son los **notebooks**, también conocidos como libretas interactivas o bloc de notas. Un notebook es una herramienta en la que puedes combinar **código ejecutable** y **texto enriquecido** en un sólo lugar. Además, podrás incluir **imágenes**, **HTML**, **LaTeX** y mucho más.\n",
        "\n",
        "Por defecto, **Colab** te provee de múltiples **fragmentos de código** que te permitirán agilizar tu trabajo. Por ejemplo, montando tu espacio de Google Drive para acceder a los datos. 😉\n",
        "\n",
        "Si eres curioso (y yo sé que sí) y deseas aprender más sobre lo básico de **Colab**, te recomiendo seguir su [documentación oficial](https://colab.research.google.com/notebooks/intro.ipynb). 🎯\n",
        "\n",
        "Colaborar en ciencia de datos nunca había sido tan sencillo. Es tu momento de crear, analizar y visualizar datos. ¡Tu camino como científico de datos está comenzando y el éxito clama por ti! 🙌\n",
        "\n",
        "\n",
        "\n",
        "\n"
      ]
    },
    {
      "cell_type": "markdown",
      "metadata": {
        "id": "tWuEwHcFyfJP"
      },
      "source": [
        "### Instrucciones\n",
        "\n",
        "1. En tu navegador, da clic en el botón `Conectar` situado en la parte superior derecha de este notebook.\n",
        "2. Ingresa con tu cuenta de **Google**.\n",
        "3. Lee con atención el contenido del notebook.\n",
        "4. Explora la interfaz. Nada mejor como conocer tu espacio de trabajo.\n",
        "5. Ejecuta las celdas de código y juega a cambiar las cosas para ver qué pasa. Es la mejor manera de aprender.\n",
        "6. ¡**Disfruta**, estás un paso más cerca de convertirte en un científico de datos! 🎉"
      ]
    },
    {
      "cell_type": "markdown",
      "metadata": {
        "id": "PfeqtFtrygoH"
      },
      "source": [
        "### Ejecución y edición de celdas\n",
        "\n",
        "#### Celdas de código\n",
        "\n",
        "A continuación, se encuentra una **celda de código** con una pequeña instrucción de **Python** que imprime un texto:\n",
        "\n"
      ]
    },
    {
      "cell_type": "code",
      "execution_count": null,
      "metadata": {
        "colab": {
          "base_uri": "https://localhost:8080/"
        },
        "id": "muSlAETY-_Hg",
        "outputId": "cda4ef60-a4c4-4836-ff63-fc74ea9f699b"
      },
      "outputs": [
        {
          "name": "stdout",
          "output_type": "stream",
          "text": [
            "¡Hola, Platzinauta!\n"
          ]
        }
      ],
      "source": [
        "print(\"¡Hola, Platzinauta!\")"
      ]
    },
    {
      "cell_type": "markdown",
      "metadata": {
        "id": "ykK9FAazIMsh"
      },
      "source": [
        "Interactuar con las **celdas de código** es tan sencillo como dar clic en ella y presionar `Command/Ctrl + Enter`para **ejecutarla** y simplemente `escribir` para **editarla**.\n",
        "\n",
        "**Nota:** Los comandos de teclado suelen abreviarse como `Command/Ctrl + ...`, indicando si debes presionas `Command` en macOS o `Ctrl` en Windows o Ubuntu. 👀\n",
        "\n",
        "> Edita, ejecuta, observa y repite. Ese es el ciclo de trabajo en los **notebooks**. 😋"
      ]
    },
    {
      "cell_type": "markdown",
      "metadata": {
        "id": "P43s2UaN_ASi"
      },
      "source": [
        "#### Celdas de texto\n",
        "\n",
        "Las celdas de texto dentro de los notebooks funcionan con **markdown**, el cual es un lenguaje de marcado ligero cuyo objetivo es **maximizar** la **legibilidad** y **sencillez** de escritura. Es decir, si tú observaras texto plano de markdown y lo compararas con su versión renderizada, el resultado debería lucir muy similar. ✨\n",
        "\n",
        "> De hecho, todo lo que estás leyendo en este momento ha sido escrito con **markdown**. Para observar el contenido crudo y editarlo, puedes dar doble clic sobre la celda o presionar `Enter`. Se ve muy similar, ¿cierto? 👀\n",
        "\n",
        "Para conocer más sobre cómo escribir utilizando **markdown**, te recomiendo revisar la [documentación oficial](https://www.markdownguide.org/). ¡Te aseguro que no te arrepentirás de aprender más sobre este lenguaje de marcado! 🎉\n",
        "\n",
        "Incluso puedes incluir matemáticas utilizando [LaTeX](https://www.latex-project.org/) que será renderizado por [MathJax](https://www.mathjax.org/). Por ejemplo:  \n",
        "`$x = \\frac{-b \\pm \\sqrt{b^2 - 4ac}}{2a}$` se convierte en $x = \\frac{-b \\pm \\sqrt{b^2 - 4ac}}{2a}$"
      ]
    },
    {
      "cell_type": "markdown",
      "metadata": {},
      "source": [
        "### Añadir, mover y remover celdas\n",
        "\n",
        "Puedes **añadir** celdas utilizando los botones `+ Código` y `+ Texto` que se muestran cuando te desplazas entre celdas. Estos botones también los puedes encontrar en la barra de herramientas situada en la parte superior izquierda de este notebook. También, si lo prefieres, puedes **agregar** celdas de código arriba o abajo de la celda actual utilizando `Command/Ctrl + M + A` o `Command/Ctrl + M + B`, respectivamente. 🙌\n",
        "\n",
        "Si deseas **mover** una celda posición, puedes dar clic sobre la celda deseada, aparecera una barra de herramientas en la esquina superior deracha de la celda y deberás dar clic en los botones de `Arriba`-`Abajo`, o a través de atajos de teclado, con las combinaciones `Command/Ctrl + M + K` y `Command/Ctrl + M + J`, respectivamente.\n",
        "\n",
        "Para **eliminar** una celda puedes dar clic sobre ella y sobre el la barra de herramientas que aparecera en la esquina superior deracha de la celda da clic en el **ícono** de `basura`. También, puedes utilizar el atajo de teclado `Command/Ctrl + M + D`."
      ]
    },
    {
      "cell_type": "markdown",
      "metadata": {
        "id": "KWFwe9kAygIL"
      },
      "source": [
        "### Variables\n",
        "\n",
        "Entre las características más destacables de las sesiones interactivas dentro de los notebooks es que las **variables** que definas en una celda pueden ser utilizadas después en otras:"
      ]
    },
    {
      "cell_type": "code",
      "execution_count": null,
      "metadata": {
        "id": "cEh1WCr1ABbF"
      },
      "outputs": [],
      "source": [
        "mi_primera_variable = \"tiene un contenido muy extenso\"\n",
        "mi_segunda_variable = \"es muy interesante\""
      ]
    },
    {
      "cell_type": "code",
      "execution_count": null,
      "metadata": {
        "colab": {
          "base_uri": "https://localhost:8080/"
        },
        "id": "69EXBUlmAC1N",
        "outputId": "20e7eb42-1544-4a84-d187-d1996e62accb"
      },
      "outputs": [
        {
          "name": "stdout",
          "output_type": "stream",
          "text": [
            "¡Este curso tiene un contenido muy extenso y es muy interesante!\n"
          ]
        }
      ],
      "source": [
        "print(f\"¡Este curso {mi_primera_variable} y {mi_segunda_variable}!\")"
      ]
    },
    {
      "cell_type": "markdown",
      "metadata": {
        "id": "6GDhIPCBJCvH"
      },
      "source": [
        "### Uso de la línea de comandos (shell)\n",
        "\n",
        "En **Colab** y, en general, en cualquier sistema con base en **Jupyter Notebooks** o **Ipython** puedes ejecutar **comandos** de la **línea de comandos** (_shell_) en las celdas de los **notebooks** al poner un signo de exclamación o bang (`!`) al inicio del comando. 🙌\n",
        "\n",
        "Esto puede ser múy útil para muchas cosas, como **crear**, **mover** o **eliminar** archivos. También, podrás utilizarlo para **instalar** dependencias del sistema o librerías para Python. Prácticamente, podrás hacer **todo**. 👀\n",
        "\n",
        "Aquí te dejo el [Curso de Introducción a la Terminal y Línea de Comandos](https://platzi.com/clases/terminal/) de [Enrique Devars](https://twitter.com/codevars/) por si deseas profundizar más en el tema. 😉"
      ]
    },
    {
      "cell_type": "code",
      "execution_count": null,
      "metadata": {
        "colab": {
          "base_uri": "https://localhost:8080/"
        },
        "id": "Xvdca_KwJdEh",
        "outputId": "6017f311-f840-4a61-d957-2a876c14cdd8"
      },
      "outputs": [
        {
          "name": "stdout",
          "output_type": "stream",
          "text": [
            "Cada línea es un comando y tiene su función:\n",
            "/content\n",
            "/\n",
            "¡Lo estás haciendo increíble!\n"
          ]
        }
      ],
      "source": [
        "!echo \"Cada línea es un comando y tiene su función:\"\n",
        "!ls # Listar archivos\n",
        "!pwd # Directorio actual\n",
        "!cd .. && pwd # Moverte un directorio atrás.\n",
        "!echo \"¡Lo estás haciendo increíble!\""
      ]
    },
    {
      "cell_type": "markdown",
      "metadata": {
        "id": "FOpU-pdhyfii"
      },
      "source": [
        "### Instalación de librerías\n",
        "\n",
        "Las **librerías** son un conjunto de implementaciones funcionales en un lenguaje de programación. Instalar **librerías**, es decir, código de terceros, dentro de **Colab** es sencillo. 👇\n",
        "\n",
        "Por ejemplo, para este notebook es necesaria la libería **session_info**. Para instalarla necesitas utilizar el manejador de paquetes de python [pip](https://pypi.org/project/pip/). Ahora, para **instalar** las **dependencias** sólo necesitas **utilizar** el comando `pip install session-info` en la **línea de comandos**.\n",
        "\n",
        "Entonces, para instalar la librería dentro de un notebook necesitas escribir lo siguiente:"
      ]
    },
    {
      "cell_type": "code",
      "execution_count": null,
      "metadata": {
        "colab": {
          "base_uri": "https://localhost:8080/"
        },
        "collapsed": true,
        "id": "B5GzDFdl2lTv",
        "outputId": "50e5377e-1300-433d-d716-59a9f8303fb4"
      },
      "outputs": [
        {
          "name": "stdout",
          "output_type": "stream",
          "text": [
            "Collecting session-info\n",
            "  Downloading https://files.pythonhosted.org/packages/94/e4/ea615bb8185a298b21df1ac52a4a5db4e3351823a218f47ef3f883def88c/session_info-1.0.0.tar.gz\n",
            "Collecting stdlib_list\n",
            "\u001b[?25l  Downloading https://files.pythonhosted.org/packages/7a/b1/52f59dcf31ead2f0ceff8976288449608d912972b911f55dff712cef5719/stdlib_list-0.8.0-py3-none-any.whl (63kB)\n",
            "\u001b[K     |████████████████████████████████| 71kB 7.5MB/s \n",
            "\u001b[?25hBuilding wheels for collected packages: session-info\n",
            "  Building wheel for session-info (setup.py) ... \u001b[?25l\u001b[?25hdone\n",
            "  Created wheel for session-info: filename=session_info-1.0.0-cp37-none-any.whl size=8047 sha256=9af54395a3965ebb9241ddcd4e80d25df8aff6d90e1f9b60db0d6ade1aeb5110\n",
            "  Stored in directory: /root/.cache/pip/wheels/72/1d/be/cb44709c38b847e6ef94175f9e65ea8a2501b97fb366ab4f5e\n",
            "Successfully built session-info\n",
            "Installing collected packages: stdlib-list, session-info\n",
            "Successfully installed session-info-1.0.0 stdlib-list-0.8.0\n"
          ]
        }
      ],
      "source": [
        "!pip install session-info"
      ]
    },
    {
      "cell_type": "markdown",
      "metadata": {
        "id": "aZLWYxCqAGjt"
      },
      "source": [
        "¡Listo, has instalado tus primeras librerías! 🙌"
      ]
    },
    {
      "cell_type": "markdown",
      "metadata": {
        "id": "3YFE4MiBFvr5"
      },
      "source": [
        "### Subir archivos\n",
        "\n",
        "Puedes cargar **archivos** a **colab** dirigiéndote a `Archivos` en la barra lateral y usando el botón `Subir archivo`. Alternativamente, también puedes simplemente arrastrar y soltar estos archivos en la sección `Archivos` de la barra lateral.\n",
        "\n",
        "Para más información sobre formas de subir archivos a **Colab** te recomiendo su [documentación oficial](https://colab.research.google.com/notebooks/io.ipynb).\n",
        "\n",
        "![](https://media.giphy.com/media/jAIeYwPFSCTeRbkcXA/giphy.gif)"
      ]
    },
    {
      "cell_type": "markdown",
      "metadata": {
        "id": "0hykjeSF0Ary"
      },
      "source": [
        "## Ciencia de Datos\n",
        "\n",
        "Con **Colab** tendrás acceso a notebooks con todo el poder de Python para analizar y visualizar datos.\n",
        "\n",
        "Muchas de las **librerías** más comúnes para la ciencia de datos vienen **preinstaladas** por defecto. No obstante, podrás instalar más librerías o programas requeridos utilizando la sintaxis de ejecución de comandos en la terminal `!` descrita en en el bloque anterior.\n",
        "\n",
        "> Si bien, podrías trabajar con conseguir trabajar con distintas versiones de Python o inclusive otros lenguajes de programación en **Colab**, su fuerte es Python y el acceso a mayor poder de computo a través de GPUs o TPUs. Ténlo en cuenta al momento de decidir qué herramienta utilizar. 👀 \n",
        "\n",
        "A continuación, puedes ver una gráfico generado con código de python utilizando **vega_datasets** para obtener los datos y **altair** para la visualización. 😋"
      ]
    },
    {
      "cell_type": "code",
      "execution_count": 1,
      "metadata": {
        "colab": {
          "base_uri": "https://localhost:8080/",
          "height": 368
        },
        "id": "CsC6ks09PBYJ",
        "outputId": "b4f82bf3-43ac-4b16-ab5a-c5fa4f468ef6"
      },
      "outputs": [
        {
          "ename": "ModuleNotFoundError",
          "evalue": "No module named 'vega_datasets'",
          "output_type": "error",
          "traceback": [
            "\u001b[0;31m---------------------------------------------------------------------------\u001b[0m",
            "\u001b[0;31mModuleNotFoundError\u001b[0m                       Traceback (most recent call last)",
            "\u001b[0;32m/tmp/ipykernel_16295/2991140420.py\u001b[0m in \u001b[0;36m<module>\u001b[0;34m\u001b[0m\n\u001b[0;32m----> 1\u001b[0;31m \u001b[0;32mfrom\u001b[0m \u001b[0mvega_datasets\u001b[0m \u001b[0;32mimport\u001b[0m \u001b[0mdata\u001b[0m\u001b[0;34m\u001b[0m\u001b[0;34m\u001b[0m\u001b[0m\n\u001b[0m\u001b[1;32m      2\u001b[0m \u001b[0;32mimport\u001b[0m \u001b[0maltair\u001b[0m \u001b[0;32mas\u001b[0m \u001b[0malt\u001b[0m\u001b[0;34m\u001b[0m\u001b[0;34m\u001b[0m\u001b[0m\n\u001b[1;32m      3\u001b[0m \u001b[0;34m\u001b[0m\u001b[0m\n\u001b[1;32m      4\u001b[0m \u001b[0mcars\u001b[0m \u001b[0;34m=\u001b[0m \u001b[0mdata\u001b[0m\u001b[0;34m.\u001b[0m\u001b[0mcars\u001b[0m\u001b[0;34m(\u001b[0m\u001b[0;34m)\u001b[0m\u001b[0;34m\u001b[0m\u001b[0;34m\u001b[0m\u001b[0m\n\u001b[1;32m      5\u001b[0m \u001b[0;34m\u001b[0m\u001b[0m\n",
            "\u001b[0;31mModuleNotFoundError\u001b[0m: No module named 'vega_datasets'"
          ]
        }
      ],
      "source": [
        "from vega_datasets import data\n",
        "import altair as alt\n",
        "\n",
        "cars = data.cars()\n",
        "\n",
        "(\n",
        "    alt.Chart(cars)\n",
        "    .mark_line()\n",
        "    .encode(\n",
        "        x=\"Year:T\",\n",
        "        y=\"count(Year):Q\",\n",
        "        color=\"Origin:N\"\n",
        "    )\n",
        ")"
      ]
    },
    {
      "cell_type": "markdown",
      "metadata": {
        "id": "EBBu4KQXPHeB"
      },
      "source": [
        "Además, **Colab** incluye una extensión que convierte los datos tabulares de **pandas** en pantallas interactivas que se pueden **filtrar**, **clasificar** y **explorar** de forma dinámica. 🤯\n",
        "\n",
        "En seguida hay un ejemplo de cómo se visualizaría la tabla utilizando **Data Tables**:"
      ]
    },
    {
      "cell_type": "code",
      "execution_count": 2,
      "metadata": {
        "colab": {
          "base_uri": "https://localhost:8080/",
          "height": 1454
        },
        "id": "OKQmQunAS2I7",
        "outputId": "00cdbbd2-9e16-4c68-af15-6699f4d066ee"
      },
      "outputs": [
        {
          "ename": "ModuleNotFoundError",
          "evalue": "No module named 'google'",
          "output_type": "error",
          "traceback": [
            "\u001b[0;31m---------------------------------------------------------------------------\u001b[0m",
            "\u001b[0;31mModuleNotFoundError\u001b[0m                       Traceback (most recent call last)",
            "\u001b[0;32m/tmp/ipykernel_16295/2405572670.py\u001b[0m in \u001b[0;36m<module>\u001b[0;34m\u001b[0m\n\u001b[0;32m----> 1\u001b[0;31m \u001b[0mget_ipython\u001b[0m\u001b[0;34m(\u001b[0m\u001b[0;34m)\u001b[0m\u001b[0;34m.\u001b[0m\u001b[0mrun_line_magic\u001b[0m\u001b[0;34m(\u001b[0m\u001b[0;34m'load_ext'\u001b[0m\u001b[0;34m,\u001b[0m \u001b[0;34m'google.colab.data_table'\u001b[0m\u001b[0;34m)\u001b[0m\u001b[0;34m\u001b[0m\u001b[0;34m\u001b[0m\u001b[0m\n\u001b[0m\u001b[1;32m      2\u001b[0m \u001b[0mcars\u001b[0m\u001b[0;34m\u001b[0m\u001b[0;34m\u001b[0m\u001b[0m\n",
            "\u001b[0;32m~/.local/lib/python3.9/site-packages/IPython/core/interactiveshell.py\u001b[0m in \u001b[0;36mrun_line_magic\u001b[0;34m(self, magic_name, line, _stack_depth)\u001b[0m\n\u001b[1;32m   2346\u001b[0m                 \u001b[0mkwargs\u001b[0m\u001b[0;34m[\u001b[0m\u001b[0;34m'local_ns'\u001b[0m\u001b[0;34m]\u001b[0m \u001b[0;34m=\u001b[0m \u001b[0mself\u001b[0m\u001b[0;34m.\u001b[0m\u001b[0mget_local_scope\u001b[0m\u001b[0;34m(\u001b[0m\u001b[0mstack_depth\u001b[0m\u001b[0;34m)\u001b[0m\u001b[0;34m\u001b[0m\u001b[0;34m\u001b[0m\u001b[0m\n\u001b[1;32m   2347\u001b[0m             \u001b[0;32mwith\u001b[0m \u001b[0mself\u001b[0m\u001b[0;34m.\u001b[0m\u001b[0mbuiltin_trap\u001b[0m\u001b[0;34m:\u001b[0m\u001b[0;34m\u001b[0m\u001b[0;34m\u001b[0m\u001b[0m\n\u001b[0;32m-> 2348\u001b[0;31m                 \u001b[0mresult\u001b[0m \u001b[0;34m=\u001b[0m \u001b[0mfn\u001b[0m\u001b[0;34m(\u001b[0m\u001b[0;34m*\u001b[0m\u001b[0margs\u001b[0m\u001b[0;34m,\u001b[0m \u001b[0;34m**\u001b[0m\u001b[0mkwargs\u001b[0m\u001b[0;34m)\u001b[0m\u001b[0;34m\u001b[0m\u001b[0;34m\u001b[0m\u001b[0m\n\u001b[0m\u001b[1;32m   2349\u001b[0m             \u001b[0;32mreturn\u001b[0m \u001b[0mresult\u001b[0m\u001b[0;34m\u001b[0m\u001b[0;34m\u001b[0m\u001b[0m\n\u001b[1;32m   2350\u001b[0m \u001b[0;34m\u001b[0m\u001b[0m\n",
            "\u001b[0;32m~/.local/lib/python3.9/site-packages/decorator.py\u001b[0m in \u001b[0;36mfun\u001b[0;34m(*args, **kw)\u001b[0m\n\u001b[1;32m    230\u001b[0m             \u001b[0;32mif\u001b[0m \u001b[0;32mnot\u001b[0m \u001b[0mkwsyntax\u001b[0m\u001b[0;34m:\u001b[0m\u001b[0;34m\u001b[0m\u001b[0;34m\u001b[0m\u001b[0m\n\u001b[1;32m    231\u001b[0m                 \u001b[0margs\u001b[0m\u001b[0;34m,\u001b[0m \u001b[0mkw\u001b[0m \u001b[0;34m=\u001b[0m \u001b[0mfix\u001b[0m\u001b[0;34m(\u001b[0m\u001b[0margs\u001b[0m\u001b[0;34m,\u001b[0m \u001b[0mkw\u001b[0m\u001b[0;34m,\u001b[0m \u001b[0msig\u001b[0m\u001b[0;34m)\u001b[0m\u001b[0;34m\u001b[0m\u001b[0;34m\u001b[0m\u001b[0m\n\u001b[0;32m--> 232\u001b[0;31m             \u001b[0;32mreturn\u001b[0m \u001b[0mcaller\u001b[0m\u001b[0;34m(\u001b[0m\u001b[0mfunc\u001b[0m\u001b[0;34m,\u001b[0m \u001b[0;34m*\u001b[0m\u001b[0;34m(\u001b[0m\u001b[0mextras\u001b[0m \u001b[0;34m+\u001b[0m \u001b[0margs\u001b[0m\u001b[0;34m)\u001b[0m\u001b[0;34m,\u001b[0m \u001b[0;34m**\u001b[0m\u001b[0mkw\u001b[0m\u001b[0;34m)\u001b[0m\u001b[0;34m\u001b[0m\u001b[0;34m\u001b[0m\u001b[0m\n\u001b[0m\u001b[1;32m    233\u001b[0m     \u001b[0mfun\u001b[0m\u001b[0;34m.\u001b[0m\u001b[0m__name__\u001b[0m \u001b[0;34m=\u001b[0m \u001b[0mfunc\u001b[0m\u001b[0;34m.\u001b[0m\u001b[0m__name__\u001b[0m\u001b[0;34m\u001b[0m\u001b[0;34m\u001b[0m\u001b[0m\n\u001b[1;32m    234\u001b[0m     \u001b[0mfun\u001b[0m\u001b[0;34m.\u001b[0m\u001b[0m__doc__\u001b[0m \u001b[0;34m=\u001b[0m \u001b[0mfunc\u001b[0m\u001b[0;34m.\u001b[0m\u001b[0m__doc__\u001b[0m\u001b[0;34m\u001b[0m\u001b[0;34m\u001b[0m\u001b[0m\n",
            "\u001b[0;32m~/.local/lib/python3.9/site-packages/IPython/core/magic.py\u001b[0m in \u001b[0;36m<lambda>\u001b[0;34m(f, *a, **k)\u001b[0m\n\u001b[1;32m    185\u001b[0m     \u001b[0;31m# but it's overkill for just that one bit of state.\u001b[0m\u001b[0;34m\u001b[0m\u001b[0;34m\u001b[0m\u001b[0;34m\u001b[0m\u001b[0m\n\u001b[1;32m    186\u001b[0m     \u001b[0;32mdef\u001b[0m \u001b[0mmagic_deco\u001b[0m\u001b[0;34m(\u001b[0m\u001b[0marg\u001b[0m\u001b[0;34m)\u001b[0m\u001b[0;34m:\u001b[0m\u001b[0;34m\u001b[0m\u001b[0;34m\u001b[0m\u001b[0m\n\u001b[0;32m--> 187\u001b[0;31m         \u001b[0mcall\u001b[0m \u001b[0;34m=\u001b[0m \u001b[0;32mlambda\u001b[0m \u001b[0mf\u001b[0m\u001b[0;34m,\u001b[0m \u001b[0;34m*\u001b[0m\u001b[0ma\u001b[0m\u001b[0;34m,\u001b[0m \u001b[0;34m**\u001b[0m\u001b[0mk\u001b[0m\u001b[0;34m:\u001b[0m \u001b[0mf\u001b[0m\u001b[0;34m(\u001b[0m\u001b[0;34m*\u001b[0m\u001b[0ma\u001b[0m\u001b[0;34m,\u001b[0m \u001b[0;34m**\u001b[0m\u001b[0mk\u001b[0m\u001b[0;34m)\u001b[0m\u001b[0;34m\u001b[0m\u001b[0;34m\u001b[0m\u001b[0m\n\u001b[0m\u001b[1;32m    188\u001b[0m \u001b[0;34m\u001b[0m\u001b[0m\n\u001b[1;32m    189\u001b[0m         \u001b[0;32mif\u001b[0m \u001b[0mcallable\u001b[0m\u001b[0;34m(\u001b[0m\u001b[0marg\u001b[0m\u001b[0;34m)\u001b[0m\u001b[0;34m:\u001b[0m\u001b[0;34m\u001b[0m\u001b[0;34m\u001b[0m\u001b[0m\n",
            "\u001b[0;32m~/.local/lib/python3.9/site-packages/IPython/core/magics/extension.py\u001b[0m in \u001b[0;36mload_ext\u001b[0;34m(self, module_str)\u001b[0m\n\u001b[1;32m     31\u001b[0m         \u001b[0;32mif\u001b[0m \u001b[0;32mnot\u001b[0m \u001b[0mmodule_str\u001b[0m\u001b[0;34m:\u001b[0m\u001b[0;34m\u001b[0m\u001b[0;34m\u001b[0m\u001b[0m\n\u001b[1;32m     32\u001b[0m             \u001b[0;32mraise\u001b[0m \u001b[0mUsageError\u001b[0m\u001b[0;34m(\u001b[0m\u001b[0;34m'Missing module name.'\u001b[0m\u001b[0;34m)\u001b[0m\u001b[0;34m\u001b[0m\u001b[0;34m\u001b[0m\u001b[0m\n\u001b[0;32m---> 33\u001b[0;31m         \u001b[0mres\u001b[0m \u001b[0;34m=\u001b[0m \u001b[0mself\u001b[0m\u001b[0;34m.\u001b[0m\u001b[0mshell\u001b[0m\u001b[0;34m.\u001b[0m\u001b[0mextension_manager\u001b[0m\u001b[0;34m.\u001b[0m\u001b[0mload_extension\u001b[0m\u001b[0;34m(\u001b[0m\u001b[0mmodule_str\u001b[0m\u001b[0;34m)\u001b[0m\u001b[0;34m\u001b[0m\u001b[0;34m\u001b[0m\u001b[0m\n\u001b[0m\u001b[1;32m     34\u001b[0m \u001b[0;34m\u001b[0m\u001b[0m\n\u001b[1;32m     35\u001b[0m         \u001b[0;32mif\u001b[0m \u001b[0mres\u001b[0m \u001b[0;34m==\u001b[0m \u001b[0;34m'already loaded'\u001b[0m\u001b[0;34m:\u001b[0m\u001b[0;34m\u001b[0m\u001b[0;34m\u001b[0m\u001b[0m\n",
            "\u001b[0;32m~/.local/lib/python3.9/site-packages/IPython/core/extensions.py\u001b[0m in \u001b[0;36mload_extension\u001b[0;34m(self, module_str)\u001b[0m\n\u001b[1;32m     78\u001b[0m             \u001b[0;32mif\u001b[0m \u001b[0mmodule_str\u001b[0m \u001b[0;32mnot\u001b[0m \u001b[0;32min\u001b[0m \u001b[0msys\u001b[0m\u001b[0;34m.\u001b[0m\u001b[0mmodules\u001b[0m\u001b[0;34m:\u001b[0m\u001b[0;34m\u001b[0m\u001b[0;34m\u001b[0m\u001b[0m\n\u001b[1;32m     79\u001b[0m                 \u001b[0;32mwith\u001b[0m \u001b[0mprepended_to_syspath\u001b[0m\u001b[0;34m(\u001b[0m\u001b[0mself\u001b[0m\u001b[0;34m.\u001b[0m\u001b[0mipython_extension_dir\u001b[0m\u001b[0;34m)\u001b[0m\u001b[0;34m:\u001b[0m\u001b[0;34m\u001b[0m\u001b[0;34m\u001b[0m\u001b[0m\n\u001b[0;32m---> 80\u001b[0;31m                     \u001b[0mmod\u001b[0m \u001b[0;34m=\u001b[0m \u001b[0mimport_module\u001b[0m\u001b[0;34m(\u001b[0m\u001b[0mmodule_str\u001b[0m\u001b[0;34m)\u001b[0m\u001b[0;34m\u001b[0m\u001b[0;34m\u001b[0m\u001b[0m\n\u001b[0m\u001b[1;32m     81\u001b[0m                     \u001b[0;32mif\u001b[0m \u001b[0mmod\u001b[0m\u001b[0;34m.\u001b[0m\u001b[0m__file__\u001b[0m\u001b[0;34m.\u001b[0m\u001b[0mstartswith\u001b[0m\u001b[0;34m(\u001b[0m\u001b[0mself\u001b[0m\u001b[0;34m.\u001b[0m\u001b[0mipython_extension_dir\u001b[0m\u001b[0;34m)\u001b[0m\u001b[0;34m:\u001b[0m\u001b[0;34m\u001b[0m\u001b[0;34m\u001b[0m\u001b[0m\n\u001b[1;32m     82\u001b[0m                         print((\"Loading extensions from {dir} is deprecated. \"\n",
            "\u001b[0;32m/usr/lib/python3.9/importlib/__init__.py\u001b[0m in \u001b[0;36mimport_module\u001b[0;34m(name, package)\u001b[0m\n\u001b[1;32m    125\u001b[0m                 \u001b[0;32mbreak\u001b[0m\u001b[0;34m\u001b[0m\u001b[0;34m\u001b[0m\u001b[0m\n\u001b[1;32m    126\u001b[0m             \u001b[0mlevel\u001b[0m \u001b[0;34m+=\u001b[0m \u001b[0;36m1\u001b[0m\u001b[0;34m\u001b[0m\u001b[0;34m\u001b[0m\u001b[0m\n\u001b[0;32m--> 127\u001b[0;31m     \u001b[0;32mreturn\u001b[0m \u001b[0m_bootstrap\u001b[0m\u001b[0;34m.\u001b[0m\u001b[0m_gcd_import\u001b[0m\u001b[0;34m(\u001b[0m\u001b[0mname\u001b[0m\u001b[0;34m[\u001b[0m\u001b[0mlevel\u001b[0m\u001b[0;34m:\u001b[0m\u001b[0;34m]\u001b[0m\u001b[0;34m,\u001b[0m \u001b[0mpackage\u001b[0m\u001b[0;34m,\u001b[0m \u001b[0mlevel\u001b[0m\u001b[0;34m)\u001b[0m\u001b[0;34m\u001b[0m\u001b[0;34m\u001b[0m\u001b[0m\n\u001b[0m\u001b[1;32m    128\u001b[0m \u001b[0;34m\u001b[0m\u001b[0m\n\u001b[1;32m    129\u001b[0m \u001b[0;34m\u001b[0m\u001b[0m\n",
            "\u001b[0;32m/usr/lib/python3.9/importlib/_bootstrap.py\u001b[0m in \u001b[0;36m_gcd_import\u001b[0;34m(name, package, level)\u001b[0m\n",
            "\u001b[0;32m/usr/lib/python3.9/importlib/_bootstrap.py\u001b[0m in \u001b[0;36m_find_and_load\u001b[0;34m(name, import_)\u001b[0m\n",
            "\u001b[0;32m/usr/lib/python3.9/importlib/_bootstrap.py\u001b[0m in \u001b[0;36m_find_and_load_unlocked\u001b[0;34m(name, import_)\u001b[0m\n",
            "\u001b[0;32m/usr/lib/python3.9/importlib/_bootstrap.py\u001b[0m in \u001b[0;36m_call_with_frames_removed\u001b[0;34m(f, *args, **kwds)\u001b[0m\n",
            "\u001b[0;32m/usr/lib/python3.9/importlib/_bootstrap.py\u001b[0m in \u001b[0;36m_gcd_import\u001b[0;34m(name, package, level)\u001b[0m\n",
            "\u001b[0;32m/usr/lib/python3.9/importlib/_bootstrap.py\u001b[0m in \u001b[0;36m_find_and_load\u001b[0;34m(name, import_)\u001b[0m\n",
            "\u001b[0;32m/usr/lib/python3.9/importlib/_bootstrap.py\u001b[0m in \u001b[0;36m_find_and_load_unlocked\u001b[0;34m(name, import_)\u001b[0m\n",
            "\u001b[0;32m/usr/lib/python3.9/importlib/_bootstrap.py\u001b[0m in \u001b[0;36m_call_with_frames_removed\u001b[0;34m(f, *args, **kwds)\u001b[0m\n",
            "\u001b[0;32m/usr/lib/python3.9/importlib/_bootstrap.py\u001b[0m in \u001b[0;36m_gcd_import\u001b[0;34m(name, package, level)\u001b[0m\n",
            "\u001b[0;32m/usr/lib/python3.9/importlib/_bootstrap.py\u001b[0m in \u001b[0;36m_find_and_load\u001b[0;34m(name, import_)\u001b[0m\n",
            "\u001b[0;32m/usr/lib/python3.9/importlib/_bootstrap.py\u001b[0m in \u001b[0;36m_find_and_load_unlocked\u001b[0;34m(name, import_)\u001b[0m\n",
            "\u001b[0;31mModuleNotFoundError\u001b[0m: No module named 'google'"
          ]
        }
      ],
      "source": [
        "%load_ext google.colab.data_table\n",
        "cars"
      ]
    },
    {
      "cell_type": "markdown",
      "metadata": {
        "id": "vTTX8Q16begL"
      },
      "source": [
        "Si quieres desactivar la visualización de tablas con **Data Table** y utilizar la visualización nativa de **pandas**, usa lo siguiente:"
      ]
    },
    {
      "cell_type": "code",
      "execution_count": null,
      "metadata": {
        "colab": {
          "base_uri": "https://localhost:8080/",
          "height": 660
        },
        "id": "J9jQNBhKbadH",
        "outputId": "0abe7bc2-4800-471e-b72e-f9fabde3c211"
      },
      "outputs": [
        {
          "data": {
            "text/html": [
              "<div>\n",
              "<style scoped>\n",
              "    .dataframe tbody tr th:only-of-type {\n",
              "        vertical-align: middle;\n",
              "    }\n",
              "\n",
              "    .dataframe tbody tr th {\n",
              "        vertical-align: top;\n",
              "    }\n",
              "\n",
              "    .dataframe thead th {\n",
              "        text-align: right;\n",
              "    }\n",
              "</style>\n",
              "<table border=\"1\" class=\"dataframe\">\n",
              "  <thead>\n",
              "    <tr style=\"text-align: right;\">\n",
              "      <th></th>\n",
              "      <th>Name</th>\n",
              "      <th>Miles_per_Gallon</th>\n",
              "      <th>Cylinders</th>\n",
              "      <th>Displacement</th>\n",
              "      <th>Horsepower</th>\n",
              "      <th>Weight_in_lbs</th>\n",
              "      <th>Acceleration</th>\n",
              "      <th>Year</th>\n",
              "      <th>Origin</th>\n",
              "    </tr>\n",
              "  </thead>\n",
              "  <tbody>\n",
              "    <tr>\n",
              "      <th>0</th>\n",
              "      <td>chevrolet chevelle malibu</td>\n",
              "      <td>18.0</td>\n",
              "      <td>8</td>\n",
              "      <td>307.0</td>\n",
              "      <td>130.0</td>\n",
              "      <td>3504</td>\n",
              "      <td>12.0</td>\n",
              "      <td>1970-01-01</td>\n",
              "      <td>USA</td>\n",
              "    </tr>\n",
              "    <tr>\n",
              "      <th>1</th>\n",
              "      <td>buick skylark 320</td>\n",
              "      <td>15.0</td>\n",
              "      <td>8</td>\n",
              "      <td>350.0</td>\n",
              "      <td>165.0</td>\n",
              "      <td>3693</td>\n",
              "      <td>11.5</td>\n",
              "      <td>1970-01-01</td>\n",
              "      <td>USA</td>\n",
              "    </tr>\n",
              "    <tr>\n",
              "      <th>2</th>\n",
              "      <td>plymouth satellite</td>\n",
              "      <td>18.0</td>\n",
              "      <td>8</td>\n",
              "      <td>318.0</td>\n",
              "      <td>150.0</td>\n",
              "      <td>3436</td>\n",
              "      <td>11.0</td>\n",
              "      <td>1970-01-01</td>\n",
              "      <td>USA</td>\n",
              "    </tr>\n",
              "    <tr>\n",
              "      <th>3</th>\n",
              "      <td>amc rebel sst</td>\n",
              "      <td>16.0</td>\n",
              "      <td>8</td>\n",
              "      <td>304.0</td>\n",
              "      <td>150.0</td>\n",
              "      <td>3433</td>\n",
              "      <td>12.0</td>\n",
              "      <td>1970-01-01</td>\n",
              "      <td>USA</td>\n",
              "    </tr>\n",
              "    <tr>\n",
              "      <th>4</th>\n",
              "      <td>ford torino</td>\n",
              "      <td>17.0</td>\n",
              "      <td>8</td>\n",
              "      <td>302.0</td>\n",
              "      <td>140.0</td>\n",
              "      <td>3449</td>\n",
              "      <td>10.5</td>\n",
              "      <td>1970-01-01</td>\n",
              "      <td>USA</td>\n",
              "    </tr>\n",
              "    <tr>\n",
              "      <th>...</th>\n",
              "      <td>...</td>\n",
              "      <td>...</td>\n",
              "      <td>...</td>\n",
              "      <td>...</td>\n",
              "      <td>...</td>\n",
              "      <td>...</td>\n",
              "      <td>...</td>\n",
              "      <td>...</td>\n",
              "      <td>...</td>\n",
              "    </tr>\n",
              "    <tr>\n",
              "      <th>401</th>\n",
              "      <td>ford mustang gl</td>\n",
              "      <td>27.0</td>\n",
              "      <td>4</td>\n",
              "      <td>140.0</td>\n",
              "      <td>86.0</td>\n",
              "      <td>2790</td>\n",
              "      <td>15.6</td>\n",
              "      <td>1982-01-01</td>\n",
              "      <td>USA</td>\n",
              "    </tr>\n",
              "    <tr>\n",
              "      <th>402</th>\n",
              "      <td>vw pickup</td>\n",
              "      <td>44.0</td>\n",
              "      <td>4</td>\n",
              "      <td>97.0</td>\n",
              "      <td>52.0</td>\n",
              "      <td>2130</td>\n",
              "      <td>24.6</td>\n",
              "      <td>1982-01-01</td>\n",
              "      <td>Europe</td>\n",
              "    </tr>\n",
              "    <tr>\n",
              "      <th>403</th>\n",
              "      <td>dodge rampage</td>\n",
              "      <td>32.0</td>\n",
              "      <td>4</td>\n",
              "      <td>135.0</td>\n",
              "      <td>84.0</td>\n",
              "      <td>2295</td>\n",
              "      <td>11.6</td>\n",
              "      <td>1982-01-01</td>\n",
              "      <td>USA</td>\n",
              "    </tr>\n",
              "    <tr>\n",
              "      <th>404</th>\n",
              "      <td>ford ranger</td>\n",
              "      <td>28.0</td>\n",
              "      <td>4</td>\n",
              "      <td>120.0</td>\n",
              "      <td>79.0</td>\n",
              "      <td>2625</td>\n",
              "      <td>18.6</td>\n",
              "      <td>1982-01-01</td>\n",
              "      <td>USA</td>\n",
              "    </tr>\n",
              "    <tr>\n",
              "      <th>405</th>\n",
              "      <td>chevy s-10</td>\n",
              "      <td>31.0</td>\n",
              "      <td>4</td>\n",
              "      <td>119.0</td>\n",
              "      <td>82.0</td>\n",
              "      <td>2720</td>\n",
              "      <td>19.4</td>\n",
              "      <td>1982-01-01</td>\n",
              "      <td>USA</td>\n",
              "    </tr>\n",
              "  </tbody>\n",
              "</table>\n",
              "<p>406 rows × 9 columns</p>\n",
              "</div>"
            ],
            "text/plain": [
              "                          Name  Miles_per_Gallon  ...       Year  Origin\n",
              "0    chevrolet chevelle malibu              18.0  ... 1970-01-01     USA\n",
              "1            buick skylark 320              15.0  ... 1970-01-01     USA\n",
              "2           plymouth satellite              18.0  ... 1970-01-01     USA\n",
              "3                amc rebel sst              16.0  ... 1970-01-01     USA\n",
              "4                  ford torino              17.0  ... 1970-01-01     USA\n",
              "..                         ...               ...  ...        ...     ...\n",
              "401            ford mustang gl              27.0  ... 1982-01-01     USA\n",
              "402                  vw pickup              44.0  ... 1982-01-01  Europe\n",
              "403              dodge rampage              32.0  ... 1982-01-01     USA\n",
              "404                ford ranger              28.0  ... 1982-01-01     USA\n",
              "405                 chevy s-10              31.0  ... 1982-01-01     USA\n",
              "\n",
              "[406 rows x 9 columns]"
            ]
          },
          "execution_count": 7,
          "metadata": {
            "tags": []
          },
          "output_type": "execute_result"
        }
      ],
      "source": [
        "%unload_ext google.colab.data_table\n",
        "cars"
      ]
    },
    {
      "cell_type": "markdown",
      "metadata": {
        "id": "Buxy04w40FWW"
      },
      "source": [
        "## Atajos de teclado\n",
        "\n",
        "**Colab** tiene múltiples atajos de teclado para agilizar tu desarrollo de código dentro de él. Aprendértelos todos no es obligatorio, ni mucho menos necesario. Siéntete tranquilo. Siempre podrás consultarlos presionando `Command/Ctrl + P` y escribiendo _Mostrar combinaciones de teclas_ o simplemente _teclas_ (`Command/Ctrl + M + H`). 😋\n",
        "\n",
        "Personalmente, los únicos que te recomendaría memorizar son los comandos para **agregar**, **editar** y **ejecutar** bloques. ✨\n",
        "\n",
        "### Comandos\n",
        "\n",
        "| Comando | Función |\n",
        "|---|---|\n",
        "| ⌘/Ctrl+O | Abrir notebook |\n",
        "| ⌘/Ctrl+Alt+N | Abrir celda de código temporal |\n",
        "| Tab | Activar o desactivar la ayuda de docstring de código |\n",
        "| ⌘/Ctrl+M L | Activar o desactivar números de línea |\n",
        "| ⌘/Ctrl+M D | Borrar celda o selección |\n",
        "| ⌘/Ctrl+M P | Celda anterior |\n",
        "| ⌘/Ctrl+M N | Celda siguiente |\n",
        "| ⌘/Ctrl+/ | Comentar la línea actual |\n",
        "| ⌘/Ctrl+M Y | Convertir a celda de código |\n",
        "| ⌘/Ctrl+M M | Convertir a celda de texto |\n",
        "| Esc | Desenfocar celda actual |\n",
        "| ⌘/Ctrl+M Z o ⌘/Ctrl+Shift+Z | Deshacer la última acción de las celdas |\n",
        "| Alt+Enter | Ejecutar la celda e insertar una nueva |\n",
        "| ⌘/Ctrl+Enter | Ejecutar la celda enfocada |\n",
        "| Shift+Enter | Ejecutar la celda y seleccionar la siguiente |\n",
        "| ⌘/Ctrl+S | Guardar notebook |\n",
        "| ⌘/Ctrl+M B | Insertar celda de código abajo |\n",
        "| ⌘/Ctrl+M A | Insertar celda de código arriba |\n",
        "| ⌘/Ctrl+M I | Interrumpir la ejecución |\n",
        "| ⌘/Ctrl+M H | Mostrar combinaciones de teclas |\n",
        "| ⌘/Ctrl+Shift+P | Mostrar paleta de comandos |\n",
        "| ⌘/Ctrl+M J | Mover las celdas seleccionadas hacia abajo |\n",
        "| ⌘/Ctrl+M K | Mover las celdas seleccionadas hacia arriba |"
      ]
    },
    {
      "cell_type": "markdown",
      "metadata": {
        "id": "VUnNsTmY1rJu"
      },
      "source": [
        "## Información de sesión\n",
        "\n",
        "👌 Es una buena práctica poner la información de sesión al final de cada notebook que realices. De esta forma, otras personas podrán ver qué versiones de librerías utilizaste para tu análisis. Además, si llegas a tener un problema, puedes compartir esta información con la comunidad para que sea más fácil replicar el error y te puedan ayudar.\n",
        " \n",
        "En el caso de **Colab**, podrías **invitarles** a colaborar para que te ayuden o podrías compartirles una invitación vía **email** o un **link** para que ellos ejecuten el proyecto en su máquina de Google. Tal como te he compartido este notebook. Para **compartir** tu notebook sólo tienes que **presionar** el botón `Compartir` situado en la parte superior derecha de la barra de navegación, ir a la sección `Obtener vínculo` y, finalmente, **escoger** el **modo** en el que deseas compartir tu notebook: **Lector**, **Comenterarista** o **Editor**. 😋"
      ]
    },
    {
      "cell_type": "code",
      "execution_count": 3,
      "metadata": {
        "colab": {
          "base_uri": "https://localhost:8080/",
          "height": 34
        },
        "id": "bU5C-lYx24wD",
        "outputId": "7a4278b1-977c-4369-e0ce-8c067c1aa6c7"
      },
      "outputs": [
        {
          "ename": "ModuleNotFoundError",
          "evalue": "No module named 'session_info'",
          "output_type": "error",
          "traceback": [
            "\u001b[0;31m---------------------------------------------------------------------------\u001b[0m",
            "\u001b[0;31mModuleNotFoundError\u001b[0m                       Traceback (most recent call last)",
            "\u001b[0;32m/tmp/ipykernel_16295/2421984617.py\u001b[0m in \u001b[0;36m<module>\u001b[0;34m\u001b[0m\n\u001b[0;32m----> 1\u001b[0;31m \u001b[0;32mimport\u001b[0m \u001b[0msession_info\u001b[0m\u001b[0;34m\u001b[0m\u001b[0;34m\u001b[0m\u001b[0m\n\u001b[0m\u001b[1;32m      2\u001b[0m \u001b[0;34m\u001b[0m\u001b[0m\n\u001b[1;32m      3\u001b[0m \u001b[0msession_info\u001b[0m\u001b[0;34m.\u001b[0m\u001b[0mshow\u001b[0m\u001b[0;34m(\u001b[0m\u001b[0;34m)\u001b[0m\u001b[0;34m\u001b[0m\u001b[0;34m\u001b[0m\u001b[0m\n",
            "\u001b[0;31mModuleNotFoundError\u001b[0m: No module named 'session_info'"
          ]
        }
      ],
      "source": [
        "import session_info\n",
        "\n",
        "session_info.show()"
      ]
    }
  ],
  "metadata": {
    "colab": {
      "collapsed_sections": [],
      "name": "introduccion_colab.ipynb",
      "provenance": []
    },
    "kernelspec": {
      "display_name": "Python 3",
      "name": "python3"
    },
    "language_info": {
      "codemirror_mode": {
        "name": "ipython",
        "version": 3
      },
      "file_extension": ".py",
      "mimetype": "text/x-python",
      "name": "python",
      "nbconvert_exporter": "python",
      "pygments_lexer": "ipython3",
      "version": "3.9.5"
    }
  },
  "nbformat": 4,
  "nbformat_minor": 0
}
