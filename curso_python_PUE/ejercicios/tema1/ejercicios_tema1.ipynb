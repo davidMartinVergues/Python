{
 "cells": [
  {
   "cell_type": "code",
   "execution_count": 1,
   "metadata": {},
   "outputs": [
    {
     "name": "stdout",
     "output_type": "stream",
     "text": [
      "Hello World\n"
     ]
    }
   ],
   "source": [
    "#Imprimir “Hola mundo” por pantalla.\n",
    "\n",
    "print('Hello World')"
   ]
  },
  {
   "cell_type": "code",
   "execution_count": 6,
   "metadata": {},
   "outputs": [
    {
     "data": {
      "text/plain": [
       "10"
      ]
     },
     "execution_count": 6,
     "metadata": {},
     "output_type": "execute_result"
    }
   ],
   "source": [
    "#  Crear dos variables numéricas, sumarlas y mostrar el resultado\n",
    "x = 1\n",
    "y = 9\n",
    "\n",
    "x+y\n"
   ]
  },
  {
   "cell_type": "code",
   "execution_count": 10,
   "metadata": {},
   "outputs": [
    {
     "name": "stdout",
     "output_type": "stream",
     "text": [
      "precio final (con iva): 121.0\n",
      "precio del IVA: 21.0\n"
     ]
    }
   ],
   "source": [
    "# Mostrar el precio del IVA de un producto con un valor de 100 y su precio final.\n",
    "\n",
    "precio = 100\n",
    "\n",
    "iva = 0.21\n",
    "\n",
    "precio_final = precio * (iva+1)\n",
    "precio_iva = precio * (iva)\n",
    "print(f'precio final (con iva): {precio_final}')\n",
    "print(f'precio del IVA: {precio_iva}')"
   ]
  },
  {
   "cell_type": "code",
   "execution_count": 12,
   "metadata": {},
   "outputs": [
    {
     "name": "stdout",
     "output_type": "stream",
     "text": [
      "200\n"
     ]
    }
   ],
   "source": [
    "# De dos números, saber cual es el mayor.\n",
    "\n",
    "x = 10\n",
    "y = 200\n",
    "\n",
    "mayor = x if x>y else y\n",
    "print(mayor)"
   ]
  },
  {
   "cell_type": "code",
   "execution_count": 18,
   "metadata": {},
   "outputs": [
    {
     "name": "stdout",
     "output_type": "stream",
     "text": [
      "número está entre 0 y 10\n"
     ]
    }
   ],
   "source": [
    "# Crea una variable numérica y si esta entre 0 y 10, mostrar un mensaje indicándolo.\n",
    "\n",
    "x = 10\n",
    "\n",
    "if 0<=x<=10:\n",
    "    print('número está entre 0 y 10')"
   ]
  },
  {
   "cell_type": "code",
   "execution_count": 26,
   "metadata": {},
   "outputs": [
    {
     "name": "stdout",
     "output_type": "stream",
     "text": [
      "123456789101112131415161718192021222324252627282930313233343536373839404142434445464748495051525354555657585960616263646566676869707172737475767778798081828384858687888990919293949596979899100"
     ]
    }
   ],
   "source": [
    "#  Mostrar con un while los números del 1 al 100.\n",
    "\n",
    "count = 1\n",
    "\n",
    "while count <101:\n",
    "    print(count,end='')\n",
    "    count+=1"
   ]
  },
  {
   "cell_type": "code",
   "execution_count": 25,
   "metadata": {},
   "outputs": [
    {
     "name": "stdout",
     "output_type": "stream",
     "text": [
      "123456789101112131415161718192021222324252627282930313233343536373839404142434445464748495051525354555657585960616263646566676869707172737475767778798081828384858687888990919293949596979899100"
     ]
    }
   ],
   "source": [
    "#  Mostrar con un for los números del 1 al 100.\n",
    "\n",
    "for num in range(1,101):\n",
    "    print(num,end='')"
   ]
  },
  {
   "cell_type": "code",
   "execution_count": 8,
   "metadata": {},
   "outputs": [
    {
     "data": {
      "text/plain": [
       "[2,\n",
       " 4,\n",
       " 6,\n",
       " 8,\n",
       " 10,\n",
       " 12,\n",
       " 14,\n",
       " 16,\n",
       " 18,\n",
       " 20,\n",
       " 22,\n",
       " 24,\n",
       " 26,\n",
       " 28,\n",
       " 30,\n",
       " 32,\n",
       " 34,\n",
       " 36,\n",
       " 38,\n",
       " 40,\n",
       " 42,\n",
       " 44,\n",
       " 46,\n",
       " 48,\n",
       " 50,\n",
       " 52,\n",
       " 54,\n",
       " 56,\n",
       " 58,\n",
       " 60,\n",
       " 62,\n",
       " 64,\n",
       " 66,\n",
       " 68,\n",
       " 70,\n",
       " 72,\n",
       " 74,\n",
       " 76,\n",
       " 78,\n",
       " 80,\n",
       " 82,\n",
       " 84,\n",
       " 86,\n",
       " 88,\n",
       " 90,\n",
       " 92,\n",
       " 94,\n",
       " 96,\n",
       " 98,\n",
       " 100]"
      ]
     },
     "execution_count": 8,
     "metadata": {},
     "output_type": "execute_result"
    }
   ],
   "source": [
    "# Mostrar los números pares entre 1 al 100.\n",
    "myList = [ x for x in  range(1,101) if x%2==0]\n",
    "\n",
    "myList\n",
    "\n",
    "\n",
    "\n",
    "\n"
   ]
  },
  {
   "cell_type": "code",
   "execution_count": 41,
   "metadata": {},
   "outputs": [
    {
     "data": {
      "text/plain": [
       "['H', 'o', 'l', 'a', ' ', 'm', 'u', 'n', 'd', 'o']"
      ]
     },
     "execution_count": 41,
     "metadata": {},
     "output_type": "execute_result"
    }
   ],
   "source": [
    "#  Mostrar los caracteres de la cadena “Hola mundo”.\n",
    "\n",
    "[lt for lt in \"Hola mundo\"[::1]]"
   ]
  },
  {
   "cell_type": "code",
   "execution_count": 42,
   "metadata": {},
   "outputs": [
    {
     "data": {
      "text/plain": [
       "['o', 'd', 'n', 'u', 'm', ' ', 'a', 'l', 'o', 'H']"
      ]
     },
     "execution_count": 42,
     "metadata": {},
     "output_type": "execute_result"
    }
   ],
   "source": [
    "#  Mostrar los caracteres de la cadena “Hola mundo” al reves.\n",
    "[lt for lt in \"Hola mundo\"[::-1]]\n"
   ]
  },
  {
   "cell_type": "code",
   "execution_count": 3,
   "metadata": {},
   "outputs": [
    {
     "data": {
      "text/plain": [
       "((1,), (1, 2))"
      ]
     },
     "execution_count": 3,
     "metadata": {},
     "output_type": "execute_result"
    }
   ],
   "source": [
    "t = ((1,),(1,2))\n",
    "\n",
    "t\n"
   ]
  },
  {
   "cell_type": "code",
   "execution_count": 9,
   "metadata": {},
   "outputs": [
    {
     "data": {
      "text/plain": [
       "[0, 1, 2, 3, 4, 5, 6, 7, 8, 9, 10]"
      ]
     },
     "execution_count": 9,
     "metadata": {},
     "output_type": "execute_result"
    }
   ],
   "source": [
    "# Generar un rango entre 0 y 10\n",
    "\n",
    "myList = [x for x in  range(0,11)]\n",
    "\n",
    "\n",
    "x = list(range(0,11))\n",
    "\n",
    "myList\n",
    "x"
   ]
  },
  {
   "cell_type": "code",
   "execution_count": 10,
   "metadata": {},
   "outputs": [
    {
     "name": "stdout",
     "output_type": "stream",
     "text": [
      "Hola mundo\n",
      "mula Hondo\n"
     ]
    }
   ],
   "source": [
    "# Pide dos cadenas por teclado, muestra ambas cadenas con un espacio entre ellas y con\n",
    "#los 2 primeros caracteres intercambiados. Por ejemplo, hola mundo pasaría a mula\n",
    "#hondo\n",
    "\n",
    "# str1 = input('cadena 1:')\n",
    "# str2 = input('cadena 2:')\n",
    "\n",
    "str1 = 'Hola'\n",
    "str2 = 'mundo'\n",
    "\n",
    "\n",
    "print(f'{str1} {str2}')\n",
    "\n",
    "str1_aux = str1[2::]\n",
    "str1_primera_letra = str1[:2:]\n",
    "\n",
    "str2_aux = str2[2::]\n",
    "str2_primera_letra = str2[:2:]\n",
    "\n",
    "print(f'{str2_primera_letra+str1_aux} {str1_primera_letra+str2_aux}' )\n"
   ]
  },
  {
   "cell_type": "code",
   "execution_count": 2,
   "metadata": {},
   "outputs": [
    {
     "name": "stdout",
     "output_type": "stream",
     "text": [
      "85\n",
      "50\n",
      "te has quedado corto!! el número secreto es más grande\n",
      "25\n",
      "te has quedado corto!! el número secreto es más grande\n",
      "75\n",
      "te has quedado corto!! el número secreto es más grande\n"
     ]
    },
    {
     "ename": "ValueError",
     "evalue": "invalid literal for int() with base 10: ''",
     "output_type": "error",
     "traceback": [
      "\u001b[0;31m---------------------------------------------------------------------------\u001b[0m",
      "\u001b[0;31mValueError\u001b[0m                                Traceback (most recent call last)",
      "\u001b[1;32m/home/david/programming/PYTHON/curso_python_PUE/ejercicios/tema1/ejercicios_tema1.ipynb Celda 13\u001b[0m in \u001b[0;36m<cell line: 10>\u001b[0;34m()\u001b[0m\n\u001b[1;32m      <a href='vscode-notebook-cell:/home/david/programming/PYTHON/curso_python_PUE/ejercicios/tema1/ejercicios_tema1.ipynb#X15sZmlsZQ%3D%3D?line=8'>9</a>\u001b[0m \u001b[39mprint\u001b[39m(random_num)\n\u001b[1;32m     <a href='vscode-notebook-cell:/home/david/programming/PYTHON/curso_python_PUE/ejercicios/tema1/ejercicios_tema1.ipynb#X15sZmlsZQ%3D%3D?line=9'>10</a>\u001b[0m \u001b[39mwhile\u001b[39;00m \u001b[39mnot\u001b[39;00m exito:\n\u001b[0;32m---> <a href='vscode-notebook-cell:/home/david/programming/PYTHON/curso_python_PUE/ejercicios/tema1/ejercicios_tema1.ipynb#X15sZmlsZQ%3D%3D?line=11'>12</a>\u001b[0m     adivina \u001b[39m=\u001b[39m \u001b[39mint\u001b[39;49m(\u001b[39minput\u001b[39;49m(\u001b[39m'\u001b[39;49m\u001b[39mdame un número\u001b[39;49m\u001b[39m'\u001b[39;49m)\u001b[39m.\u001b[39;49mstrip(\u001b[39m'\u001b[39;49m\u001b[39m\\n\u001b[39;49;00m\u001b[39m'\u001b[39;49m))\n\u001b[1;32m     <a href='vscode-notebook-cell:/home/david/programming/PYTHON/curso_python_PUE/ejercicios/tema1/ejercicios_tema1.ipynb#X15sZmlsZQ%3D%3D?line=12'>13</a>\u001b[0m     \u001b[39mprint\u001b[39m(adivina)\n\u001b[1;32m     <a href='vscode-notebook-cell:/home/david/programming/PYTHON/curso_python_PUE/ejercicios/tema1/ejercicios_tema1.ipynb#X15sZmlsZQ%3D%3D?line=13'>14</a>\u001b[0m     \u001b[39mif\u001b[39;00m adivina \u001b[39m==\u001b[39m random_num:\n",
      "\u001b[0;31mValueError\u001b[0m: invalid literal for int() with base 10: ''"
     ]
    }
   ],
   "source": [
    "# Juguemos al juego de adivinar el numero, generaremos un número entre 1 y 100.\n",
    "# Nuestro objetivo es adivinar el número. Si fallamos nos dirán si es mayor o menor que\n",
    "# el número buscado. También poner el número de intentos requeridos.\n",
    "import random\n",
    "\n",
    "exito = False\n",
    "intentos = 0\n",
    "random_num = random.randint(1,100)\n",
    "print(random_num)\n",
    "while not exito:\n",
    "    \n",
    "    adivina = int(input('dame un número').strip('\\n'))\n",
    "    \n",
    "    if adivina == random_num:\n",
    "        print(f'sí es el {random_num}, acertaste el número secreto en tan solo {intentos} intentos!!! ')\n",
    "        exito=True\n",
    "    elif adivina> random_num:\n",
    "        print('te has pasado!! el número secreto es más pqueño')\n",
    "    \n",
    "    elif adivina<random_num:\n",
    "        print('te has quedado corto!! el número secreto es más grande')\n",
    "    else:\n",
    "        print(f'intorduce un número válido {adivina}')\n",
    "    \n",
    "    adivina=''\n",
    "        \n",
    "    intentos+=1\n",
    "\n",
    "\n"
   ]
  },
  {
   "cell_type": "code",
   "execution_count": null,
   "metadata": {},
   "outputs": [],
   "source": [
    "# 14. Escribir un programa que guarde en una variable el diccionario {'Euro':'€', 'Dollar':'$',\n",
    "#'Yen':'¥'}, pregunte al usuario por una divisa y muestre su símbolo o un mensaje de aviso\n",
    "#si la divisa no está en el diccionario.  \n",
    "\n",
    "divisas = {\n",
    "    'Euro':'€',\n",
    "    'Dollar':'$',\n",
    "    'Yen':''\n",
    "}\n",
    "\n",
    "\n",
    "\n"
   ]
  },
  {
   "cell_type": "code",
   "execution_count": 3,
   "metadata": {},
   "outputs": [
    {
     "name": "stdout",
     "output_type": "stream",
     "text": [
      "matematicas, fisica, quimica\n"
     ]
    }
   ],
   "source": [
    "print( ', '.join(['matematicas','fisica','quimica']))"
   ]
  },
  {
   "cell_type": "code",
   "execution_count": 9,
   "metadata": {},
   "outputs": [
    {
     "name": "stdout",
     "output_type": "stream",
     "text": [
      "6 5 4 3 2 1\n"
     ]
    }
   ],
   "source": [
    "x = [1,2,3,4,5,6]\n",
    "x.reverse()\n",
    "print(*x)"
   ]
  }
 ],
 "metadata": {
  "kernelspec": {
   "display_name": "Python 3.9.12 ('base')",
   "language": "python",
   "name": "python3"
  },
  "language_info": {
   "codemirror_mode": {
    "name": "ipython",
    "version": 3
   },
   "file_extension": ".py",
   "mimetype": "text/x-python",
   "name": "python",
   "nbconvert_exporter": "python",
   "pygments_lexer": "ipython3",
   "version": "3.9.12"
  },
  "orig_nbformat": 4,
  "vscode": {
   "interpreter": {
    "hash": "a05f93782d31fb45d30263a0389582a01d7e14abf3ec6aacde92652303ee35ce"
   }
  }
 },
 "nbformat": 4,
 "nbformat_minor": 2
}
