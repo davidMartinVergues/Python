{
  "cells": [
    {
      "cell_type": "markdown",
      "metadata": {
        "id": "-Oo7z4cIj1Sv"
      },
      "source": [
        "# Introducción a pyspark"
      ]
    },
    {
      "cell_type": "markdown",
      "metadata": {
        "id": "Tl9P5CYej-XB"
      },
      "source": [
        "## Instalación"
      ]
    },
    {
      "cell_type": "markdown",
      "metadata": {
        "id": "WeH4wQh2l7Je"
      },
      "source": [
        "Instalamos pyspark en nuestro entorno para ello utilizamos el gestor de paquetes **pip**.\n",
        "\n",
        "para ello ejecutamos:"
      ]
    },
    {
      "cell_type": "code",
      "execution_count": null,
      "metadata": {
        "colab": {
          "base_uri": "https://localhost:8080/"
        },
        "id": "uhYLmnrZd9sB",
        "outputId": "8972892d-8027-487a-e900-631fd64ec512"
      },
      "outputs": [
        {
          "output_type": "stream",
          "name": "stdout",
          "text": [
            "Looking in indexes: https://pypi.org/simple, https://us-python.pkg.dev/colab-wheels/public/simple/\n",
            "Requirement already satisfied: pyspark in /usr/local/lib/python3.8/dist-packages (3.3.1)\n",
            "Requirement already satisfied: py4j==0.10.9.5 in /usr/local/lib/python3.8/dist-packages (from pyspark) (0.10.9.5)\n"
          ]
        }
      ],
      "source": [
        "!pip install pyspark"
      ]
    },
    {
      "cell_type": "markdown",
      "metadata": {
        "id": "gzBeq6EGokue"
      },
      "source": [
        "> El signo de admiración indica que la instrucción será ejecutada en consola."
      ]
    },
    {
      "cell_type": "markdown",
      "metadata": {
        "id": "w-mpE7hyk634"
      },
      "source": [
        "## Creación de una sesión de Spark"
      ]
    },
    {
      "cell_type": "markdown",
      "metadata": {
        "id": "Zpg3lPhjmBUL"
      },
      "source": [
        "Para empezar a trabajar con pyspark primero necesitamos crear una sesión de spark.\n",
        "\n",
        "1. importamos el módulo **SparkSession**\n",
        "2. Creamos la sesión **pysaprk_course**"
      ]
    },
    {
      "cell_type": "code",
      "execution_count": null,
      "metadata": {
        "id": "kIhSAwY_eT-w"
      },
      "outputs": [],
      "source": [
        "import pyspark"
      ]
    },
    {
      "cell_type": "code",
      "execution_count": null,
      "metadata": {
        "colab": {
          "base_uri": "https://localhost:8080/",
          "height": 219
        },
        "id": "fmwSX-50eVlw",
        "outputId": "33e534f2-626a-4528-d904-ff559fc91c54"
      },
      "outputs": [
        {
          "output_type": "execute_result",
          "data": {
            "text/plain": [
              "<pyspark.sql.session.SparkSession at 0x7faec763c5b0>"
            ],
            "text/html": [
              "\n",
              "            <div>\n",
              "                <p><b>SparkSession - in-memory</b></p>\n",
              "                \n",
              "        <div>\n",
              "            <p><b>SparkContext</b></p>\n",
              "\n",
              "            <p><a href=\"http://936f2ec3409d:4040\">Spark UI</a></p>\n",
              "\n",
              "            <dl>\n",
              "              <dt>Version</dt>\n",
              "                <dd><code>v3.3.1</code></dd>\n",
              "              <dt>Master</dt>\n",
              "                <dd><code>local[*]</code></dd>\n",
              "              <dt>AppName</dt>\n",
              "                <dd><code>pysaprk_course</code></dd>\n",
              "            </dl>\n",
              "        </div>\n",
              "        \n",
              "            </div>\n",
              "        "
            ]
          },
          "metadata": {},
          "execution_count": 131
        }
      ],
      "source": [
        "from pyspark.sql import SparkSession\n",
        "import pyspark.sql.functions as F\n",
        "spark = SparkSession.builder.appName('pyspark_course').getOrCreate()\n",
        "spark"
      ]
    },
    {
      "cell_type": "code",
      "source": [
        "# !pip install pyspark\n",
        "# import pyspark\n",
        "\n",
        "# from pyspark.sql import SparkSession\n",
        "# import pyspark.sql.functions as F\n",
        "# spark = SparkSession.builder.appName('pysaprk_course').getOrCreate()\n",
        "# spark"
      ],
      "metadata": {
        "id": "H_q2U6MzLhlk"
      },
      "execution_count": null,
      "outputs": []
    },
    {
      "cell_type": "markdown",
      "metadata": {
        "id": "iVCwE0u9lG_A"
      },
      "source": [
        ">**En el entorno DATIO de BBVA todas las acciones realizadas hasta ahora se realizan de manera automática, así que en DATIO no debemos preocuparnos ni de instalar la librería no crear la sesión de Spark.**"
      ]
    },
    {
      "cell_type": "markdown",
      "metadata": {
        "id": "1KH6ADgwIqqQ"
      },
      "source": [
        "## Métodos básicos de pyspark\n"
      ]
    },
    {
      "cell_type": "markdown",
      "metadata": {
        "id": "7rp_0tEUmKZp"
      },
      "source": [
        "### Cargar datos en un Dataframe"
      ]
    },
    {
      "cell_type": "markdown",
      "metadata": {
        "id": "6VUPVGOZIE7v"
      },
      "source": [
        "#### `spark.read.csv`\n",
        "\n"
      ]
    },
    {
      "cell_type": "markdown",
      "metadata": {
        "id": "Wj1N710anbEo"
      },
      "source": [
        "\n",
        "Cuando leemos los datos de un csv hay que tener en cuenta dos cosas:   \n",
        "    - cargar las cabeceras `header=True`  \n",
        "    - inferir el tipo de dato de cada campo `inferSchema=True`\n",
        "\n",
        "   Esto es así porque los csv son archivos de texto plano pero cuando se trata de archivos **parquet** (archivos binarios, que contienen metadatos) no es necesario especificar estas opciones `spark.read.parquet(path_to_file)`."
      ]
    },
    {
      "cell_type": "code",
      "execution_count": null,
      "metadata": {
        "id": "VX1-O3sxliEo"
      },
      "outputs": [],
      "source": [
        "df_tarjeta_credito_estudios = spark.read.csv('credit_card_education_level_v2.csv', header=True, inferSchema=True)\n",
        "df_tarjeta_credito_info = spark.read.csv('credit_card_info_v3.csv', header=True,  inferSchema=True)\n"
      ]
    },
    {
      "cell_type": "markdown",
      "metadata": {
        "id": "OG_wcODinfRe"
      },
      "source": [
        "### Explorando el Dataframe"
      ]
    },
    {
      "cell_type": "markdown",
      "metadata": {
        "id": "ER3lIQzBIhSs"
      },
      "source": [
        "#### `printSchema()`"
      ]
    },
    {
      "cell_type": "markdown",
      "metadata": {
        "id": "TUJyBdmgnqVy"
      },
      "source": [
        "Nos muestra:\n",
        "\n",
        "  - campos\n",
        "  - data types"
      ]
    },
    {
      "cell_type": "code",
      "execution_count": null,
      "metadata": {
        "id": "_A2qUKKuJnVK",
        "colab": {
          "base_uri": "https://localhost:8080/"
        },
        "outputId": "14d6e845-b89c-458d-942a-f9bcc0254e4d"
      },
      "outputs": [
        {
          "output_type": "stream",
          "name": "stdout",
          "text": [
            "root\n",
            " |-- cliente: integer (nullable = true)\n",
            " |-- edad: integer (nullable = true)\n",
            " |-- genero: string (nullable = true)\n",
            " |-- sueldo: string (nullable = true)\n",
            " |-- limite de credito: double (nullable = true)\n",
            "\n"
          ]
        }
      ],
      "source": [
        "df_tarjeta_credito_info.printSchema()"
      ]
    },
    {
      "cell_type": "code",
      "execution_count": null,
      "metadata": {
        "colab": {
          "base_uri": "https://localhost:8080/"
        },
        "id": "4GFNPo9ViMeX",
        "outputId": "9f43718c-89fc-42c4-cc97-876811e88027"
      },
      "outputs": [
        {
          "output_type": "stream",
          "name": "stdout",
          "text": [
            "root\n",
            " |-- CLIENTNUM: integer (nullable = true)\n",
            " |-- Education_Level: string (nullable = true)\n",
            "\n"
          ]
        }
      ],
      "source": [
        "df_tarjeta_credito_estudios.printSchema()"
      ]
    },
    {
      "cell_type": "markdown",
      "metadata": {
        "id": "IjXMLngu0edg"
      },
      "source": [
        "#### count()"
      ]
    },
    {
      "cell_type": "markdown",
      "metadata": {
        "id": "7lSBNKYN0oDt"
      },
      "source": [
        "Devuelve el número de registros del DF"
      ]
    },
    {
      "cell_type": "code",
      "execution_count": null,
      "metadata": {
        "colab": {
          "base_uri": "https://localhost:8080/"
        },
        "id": "IH9gNkXs0gz_",
        "outputId": "583d0480-ee4a-4088-b881-95dacd5877a2"
      },
      "outputs": [
        {
          "output_type": "execute_result",
          "data": {
            "text/plain": [
              "10125"
            ]
          },
          "metadata": {},
          "execution_count": 25
        }
      ],
      "source": [
        "df_tarjeta_credito_info.count()"
      ]
    },
    {
      "cell_type": "code",
      "execution_count": null,
      "metadata": {
        "colab": {
          "base_uri": "https://localhost:8080/"
        },
        "id": "1jk2pcnB0kpo",
        "outputId": "e8070250-a514-4a5c-99a5-9cb7025a8dff"
      },
      "outputs": [
        {
          "output_type": "execute_result",
          "data": {
            "text/plain": [
              "10125"
            ]
          },
          "metadata": {},
          "execution_count": 26
        }
      ],
      "source": [
        "df_tarjeta_credito_estudios.count()"
      ]
    },
    {
      "cell_type": "markdown",
      "metadata": {
        "id": "00y4cYHVJvs3"
      },
      "source": [
        "#### `show()`"
      ]
    },
    {
      "cell_type": "markdown",
      "metadata": {
        "id": "BU9tEKPqoFes"
      },
      "source": [
        "\n",
        "Por defecto imprime los primeros 20 registros del DF. \n",
        "\n",
        "Acepta 3 argumentos:\n",
        "\n",
        "- n (int)         => número de registros a mostrar\n",
        "- truncate (bool) => truncará el valor del campo en el caso que sea muy extenso\n",
        "- vertical (bool) => mostrará los campos del DF en vertical"
      ]
    },
    {
      "cell_type": "code",
      "execution_count": null,
      "metadata": {
        "colab": {
          "base_uri": "https://localhost:8080/"
        },
        "id": "6ZbkuRngu22M",
        "outputId": "3fac41d2-0816-4c7e-fa39-cdfeec320e6a"
      },
      "outputs": [
        {
          "output_type": "stream",
          "name": "stdout",
          "text": [
            "+---------+--------------------+------------+------+---------------+--------------+---------------+-------------+--------------+---------------------------------+----------------------+---------------------+------------+-------------------+---------------+--------------------+---------------+--------------+-------------------+---------------------+----------------------------------------------------------------------------------------------------------------------------------+----------------------------------------------------------------------------------------------------------------------------------+\n",
            "|CLIENTNUM|      Attrition_Flag|Customer_Age|Gender|Dependent_count|Marital_Status|Income_Category|Card_Category|Months_on_book|Total_Relationship_CoCLIENTNUMunt|Months_Inactive_12_mon|Contacts_Count_12_mon|Credit_Limit|Total_Revolving_Bal|Avg_Open_To_Buy|Total_Amt_Chng_Q4_Q1|Total_Trans_Amt|Total_Trans_Ct|Total_Ct_Chng_Q4_Q1|Avg_Utilization_Ratio|Naive_Bayes_Classifier_Attrition_Flag_Card_Category_Contacts_Count_12_mon_Dependent_count_Education_Level_Months_Inactive_12_mon_1|Naive_Bayes_Classifier_Attrition_Flag_Card_Category_Contacts_Count_12_mon_Dependent_count_Education_Level_Months_Inactive_12_mon_2|\n",
            "+---------+--------------------+------------+------+---------------+--------------+---------------+-------------+--------------+---------------------------------+----------------------+---------------------+------------+-------------------+---------------+--------------------+---------------+--------------+-------------------+---------------------+----------------------------------------------------------------------------------------------------------------------------------+----------------------------------------------------------------------------------------------------------------------------------+\n",
            "|768805383|Existing Customer...|          45|     M|              3|       Married|    $60K - $80K|         Blue|            39|                                5|                     1|                    3|     12691.0|                777|        11914.0|               1.335|           1144|            42|              1.625|                0.061|                                                                                                                         9.3448E-5|                                                                                                                           0.99991|\n",
            "|818770008|   Existing Customer|          49|     F|              5|        Single| Less than $40K|         Blue|            44|                                6|                     1|                    2|      8256.0|                864|         7392.0|               1.541|           1291|            33|              3.714|                0.105|                                                                                                                         5.6861E-5|                                                                                                                           0.99994|\n",
            "|713982108|   Existing Customer|          51|     M|              3|       Married|   $80K - $120K|         Blue|            36|                                4|                     1|                    0|      3418.0|                  0|         3418.0|               2.594|           1887|            20|              2.333|                  0.0|                                                                                                                         2.1081E-5|                                                                                                                           0.99998|\n",
            "|769911858|   Existing Customer|          40|     F|              4|          null| Less than $40K|         Blue|            34|                                3|                     4|                    1|      3313.0|               2517|          796.0|               1.405|           1171|            20|              2.333|                 0.76|                                                                                                                         1.3366E-4|                                                                                                                           0.99987|\n",
            "|709106358|   Existing Customer|          40|     M|              3|       Married|    $60K - $80K|         Blue|            21|                                5|                     1|                    0|      4716.0|                  0|         4716.0|               2.175|            816|            28|                2.5|                  0.0|                                                                                                                         2.1676E-5|                                                                                                                           0.99998|\n",
            "|713061558|   Existing Customer|          44|     M|              2|       Married|    $40K - $60K|         Blue|            36|                                3|                     1|                    2|      4010.0|               1247|         2763.0|               1.376|           1088|            24|              0.846|                0.311|                                                                                                                         5.5077E-5|                                                                                                                           0.99994|\n",
            "|810347208|   Existing Customer|          51|     M|              4|       Married|        $120K +|         Gold|            46|                                6|                     1|                    3|     34516.0|               2264|        32252.0|               1.975|           1330|            31|              0.722|                0.066|                                                                                                                         1.2303E-4|                                                                                                                           0.99988|\n",
            "|818906208|   Existing Customer|          32|     M|              0|          null|    $60K - $80K|       Silver|            27|                                2|                     2|                    2|     29081.0|               1396|        27685.0|               2.204|           1538|            36|              0.714|                0.048|                                                                                                                         8.5795E-5|                                                                                                                           0.99991|\n",
            "|710930508|   Existing Customer|          37|     M|              3|        Single|    $60K - $80K|         Blue|            36|                                5|                     2|                    0|     22352.0|               2517|        19835.0|               3.355|           1350|            24|              1.182|                0.113|                                                                                                                         4.4796E-5|                                                                                                                           0.99996|\n",
            "|719661558|   Existing Customer|          48|     M|              2|        Single|   $80K - $120K|         Blue|            36|                                6|                     3|                    3|     11656.0|               1677|         9979.0|               1.524|           1441|            32|              0.882|                0.144|                                                                                                                         3.0251E-4|                                                                                                                            0.9997|\n",
            "|708790833|   Existing Customer|          42|     M|              5|          null|        $120K +|         Blue|            31|                                5|                     3|                    2|      6748.0|               1467|         5281.0|               0.831|           1201|            42|               0.68|                0.217|                                                                                                                         1.9094E-4|                                                                                                                           0.99981|\n",
            "|710821833|   Existing Customer|          65|     M|              1|       Married|    $40K - $60K|         Blue|            54|                                6|                     2|                    3|      9095.0|               1587|         7508.0|               1.433|           1314|            26|              1.364|                0.174|                                                                                                                         1.9751E-4|                                                                                                                            0.9998|\n",
            "|710599683|   Existing Customer|          56|     M|              1|        Single|   $80K - $120K|         Blue|            36|                                3|                     6|                    0|     11751.0|                  0|        11751.0|               3.397|           1539|            17|               3.25|                  0.0|                                                                                                                         4.7799E-5|                                                                                                                           0.99995|\n",
            "|816082233|   Existing Customer|          35|     M|              3|          null|    $60K - $80K|         Blue|            30|                                5|                     1|                    3|      8547.0|               1666|         6881.0|               1.163|           1311|            33|                2.0|                0.195|                                                                                                                         9.6126E-5|                                                                                                                            0.9999|\n",
            "|712396908|   Existing Customer|          57|     F|              2|       Married| Less than $40K|         Blue|            48|                                5|                     2|                    2|      2436.0|                680|         1756.0|                1.19|           1570|            29|              0.611|                0.279|                                                                                                                         1.1382E-4|                                                                                                                           0.99989|\n",
            "|714885258|   Existing Customer|          44|     M|              4|          null|   $80K - $120K|         Blue|            37|                                5|                     1|                    2|      4234.0|                972|         3262.0|               1.707|           1348|            27|                1.7|                 0.23|                                                                                                                         6.3492E-5|                                                                                                                           0.99994|\n",
            "|709967358|   Existing Customer|          48|     M|              4|        Single|   $80K - $120K|         Blue|            36|                                6|                     2|                    3|     30367.0|               2362|        28005.0|               1.708|           1671|            27|              0.929|                0.078|                                                                                                                         2.3623E-4|                                                                                                                           0.99976|\n",
            "|753327333|   Existing Customer|          41|     M|              3|       Married|   $80K - $120K|         Blue|            34|                                4|                     4|                    1|     13535.0|               1291|        12244.0|               0.653|           1028|            21|              1.625|                0.095|                                                                                                                         1.4953E-4|                                                                                                                           0.99985|\n",
            "|806160108|   Existing Customer|          61|     M|              1|       Married|    $40K - $60K|         Blue|            56|                                2|                     2|                    3|      3193.0|               2517|          676.0|               1.831|           1336|            30|              1.143|                0.788|                                                                                                                         1.7468E-4|                                                                                                                           0.99983|\n",
            "|709327383|   Existing Customer|          45|     F|              2|       Married|           null|         Blue|            37|                                6|                     1|                    2|     14470.0|               1157|        13313.0|               0.966|           1207|            21|              0.909|                 0.08|                                                                                                                         5.5077E-5|                                                                                                                           0.99994|\n",
            "+---------+--------------------+------------+------+---------------+--------------+---------------+-------------+--------------+---------------------------------+----------------------+---------------------+------------+-------------------+---------------+--------------------+---------------+--------------+-------------------+---------------------+----------------------------------------------------------------------------------------------------------------------------------+----------------------------------------------------------------------------------------------------------------------------------+\n",
            "only showing top 20 rows\n",
            "\n"
          ]
        }
      ],
      "source": [
        "df_tarjeta_credito_info.show(n=20,truncate=True,vertical=False)"
      ]
    },
    {
      "cell_type": "code",
      "execution_count": null,
      "metadata": {
        "colab": {
          "base_uri": "https://localhost:8080/"
        },
        "id": "bAJrFBLGz773",
        "outputId": "aca3b12f-157e-4cb1-f23a-34599818c057"
      },
      "outputs": [
        {
          "output_type": "stream",
          "name": "stdout",
          "text": [
            "+---------+-----------------------------------------------------------+------------+------+---------------+--------------+---------------+-------------+--------------+---------------------------------+----------------------+---------------------+------------+-------------------+---------------+--------------------+---------------+--------------+-------------------+---------------------+----------------------------------------------------------------------------------------------------------------------------------+----------------------------------------------------------------------------------------------------------------------------------+\n",
            "|CLIENTNUM|Attrition_Flag                                             |Customer_Age|Gender|Dependent_count|Marital_Status|Income_Category|Card_Category|Months_on_book|Total_Relationship_CoCLIENTNUMunt|Months_Inactive_12_mon|Contacts_Count_12_mon|Credit_Limit|Total_Revolving_Bal|Avg_Open_To_Buy|Total_Amt_Chng_Q4_Q1|Total_Trans_Amt|Total_Trans_Ct|Total_Ct_Chng_Q4_Q1|Avg_Utilization_Ratio|Naive_Bayes_Classifier_Attrition_Flag_Card_Category_Contacts_Count_12_mon_Dependent_count_Education_Level_Months_Inactive_12_mon_1|Naive_Bayes_Classifier_Attrition_Flag_Card_Category_Contacts_Count_12_mon_Dependent_count_Education_Level_Months_Inactive_12_mon_2|\n",
            "+---------+-----------------------------------------------------------+------------+------+---------------+--------------+---------------+-------------+--------------+---------------------------------+----------------------+---------------------+------------+-------------------+---------------+--------------------+---------------+--------------+-------------------+---------------------+----------------------------------------------------------------------------------------------------------------------------------+----------------------------------------------------------------------------------------------------------------------------------+\n",
            "|768805383|Existing Customer-ppppppppppppppppppppppppppppppppppppppppp|45          |M     |3              |Married       |$60K - $80K    |Blue         |39            |5                                |1                     |3                    |12691.0     |777                |11914.0        |1.335               |1144           |42            |1.625              |0.061                |9.3448E-5                                                                                                                         |0.99991                                                                                                                           |\n",
            "|818770008|Existing Customer                                          |49          |F     |5              |Single        |Less than $40K |Blue         |44            |6                                |1                     |2                    |8256.0      |864                |7392.0         |1.541               |1291           |33            |3.714              |0.105                |5.6861E-5                                                                                                                         |0.99994                                                                                                                           |\n",
            "|713982108|Existing Customer                                          |51          |M     |3              |Married       |$80K - $120K   |Blue         |36            |4                                |1                     |0                    |3418.0      |0                  |3418.0         |2.594               |1887           |20            |2.333              |0.0                  |2.1081E-5                                                                                                                         |0.99998                                                                                                                           |\n",
            "|769911858|Existing Customer                                          |40          |F     |4              |null          |Less than $40K |Blue         |34            |3                                |4                     |1                    |3313.0      |2517               |796.0          |1.405               |1171           |20            |2.333              |0.76                 |1.3366E-4                                                                                                                         |0.99987                                                                                                                           |\n",
            "|709106358|Existing Customer                                          |40          |M     |3              |Married       |$60K - $80K    |Blue         |21            |5                                |1                     |0                    |4716.0      |0                  |4716.0         |2.175               |816            |28            |2.5                |0.0                  |2.1676E-5                                                                                                                         |0.99998                                                                                                                           |\n",
            "+---------+-----------------------------------------------------------+------------+------+---------------+--------------+---------------+-------------+--------------+---------------------------------+----------------------+---------------------+------------+-------------------+---------------+--------------------+---------------+--------------+-------------------+---------------------+----------------------------------------------------------------------------------------------------------------------------------+----------------------------------------------------------------------------------------------------------------------------------+\n",
            "only showing top 5 rows\n",
            "\n"
          ]
        }
      ],
      "source": [
        "df_tarjeta_credito_info.show(5,False)\n"
      ]
    },
    {
      "cell_type": "markdown",
      "metadata": {
        "id": "ZkxWBc_TxJO2"
      },
      "source": [
        "#### describe()"
      ]
    },
    {
      "cell_type": "markdown",
      "metadata": {
        "id": "BpKRDX2exMUF"
      },
      "source": [
        "Nos dará información estadística (count, stddev,mean,min,max) del campo numérico que nos interese."
      ]
    },
    {
      "cell_type": "code",
      "execution_count": null,
      "metadata": {
        "colab": {
          "base_uri": "https://localhost:8080/"
        },
        "id": "HXMhCH-JxUT_",
        "outputId": "6181bfee-87d1-4979-88ae-2c2509b544df"
      },
      "outputs": [
        {
          "output_type": "stream",
          "name": "stdout",
          "text": [
            "+-------+-----------------+\n",
            "|summary|     Customer_Age|\n",
            "+-------+-----------------+\n",
            "|  count|            10120|\n",
            "|   mean|           46.325|\n",
            "| stddev|8.017744397265563|\n",
            "|    min|               26|\n",
            "|    max|               73|\n",
            "+-------+-----------------+\n",
            "\n"
          ]
        }
      ],
      "source": [
        "df_tarjeta_credito_info.describe('Customer_Age').show()"
      ]
    },
    {
      "cell_type": "markdown",
      "metadata": {
        "id": "lC86Fvko0Nj2"
      },
      "source": [
        "#### select()"
      ]
    },
    {
      "cell_type": "markdown",
      "metadata": {
        "id": "icgFxMKquhnd"
      },
      "source": [
        "La función select nos permite seleccionar las columnas que nos interesen del DF, hay que tener en cuenta que nos devolverá un nuevo DF por lo que si el objetivo es visualizar el resultado tenemos que hacer un show()"
      ]
    },
    {
      "cell_type": "code",
      "execution_count": null,
      "metadata": {
        "colab": {
          "base_uri": "https://localhost:8080/"
        },
        "id": "-ZSOXseruvek",
        "outputId": "720000ee-318d-46eb-c601-bd1556365c3a"
      },
      "outputs": [
        {
          "output_type": "stream",
          "name": "stdout",
          "text": [
            "+---------+---------------+\n",
            "|CLIENTNUM|Income_Category|\n",
            "+---------+---------------+\n",
            "|768805383|    $60K - $80K|\n",
            "|818770008| Less than $40K|\n",
            "|713982108|   $80K - $120K|\n",
            "|769911858| Less than $40K|\n",
            "|709106358|    $60K - $80K|\n",
            "|713061558|    $40K - $60K|\n",
            "|810347208|        $120K +|\n",
            "|818906208|    $60K - $80K|\n",
            "|710930508|    $60K - $80K|\n",
            "|719661558|   $80K - $120K|\n",
            "|708790833|        $120K +|\n",
            "|710821833|    $40K - $60K|\n",
            "|710599683|   $80K - $120K|\n",
            "|816082233|    $60K - $80K|\n",
            "|712396908| Less than $40K|\n",
            "|714885258|   $80K - $120K|\n",
            "|709967358|   $80K - $120K|\n",
            "|753327333|   $80K - $120K|\n",
            "|806160108|    $40K - $60K|\n",
            "|709327383|           null|\n",
            "+---------+---------------+\n",
            "only showing top 20 rows\n",
            "\n"
          ]
        }
      ],
      "source": [
        "df_tarjeta_credito_info.select('CLIENTNUM','Income_Category').show()"
      ]
    },
    {
      "cell_type": "markdown",
      "metadata": {
        "id": "kIEkd295v98E"
      },
      "source": [
        "Otra maneras de utilizar select:"
      ]
    },
    {
      "cell_type": "code",
      "execution_count": null,
      "metadata": {
        "colab": {
          "base_uri": "https://localhost:8080/"
        },
        "id": "8mNYSP9hwAnk",
        "outputId": "1aae1733-613b-438b-e4e9-b63ecfae206e"
      },
      "outputs": [
        {
          "output_type": "stream",
          "name": "stdout",
          "text": [
            "+--------------+---------+\n",
            "|        Sueldo|  Cliente|\n",
            "+--------------+---------+\n",
            "|   $60K - $80K|768805383|\n",
            "|Less than $40K|818770008|\n",
            "|  $80K - $120K|713982108|\n",
            "+--------------+---------+\n",
            "only showing top 3 rows\n",
            "\n",
            "+--------------+---------+\n",
            "|        Sueldo|  Cliente|\n",
            "+--------------+---------+\n",
            "|   $60K - $80K|768805383|\n",
            "|Less than $40K|818770008|\n",
            "|  $80K - $120K|713982108|\n",
            "+--------------+---------+\n",
            "only showing top 3 rows\n",
            "\n",
            "+--------------+---------+\n",
            "|        Sueldo|  Cliente|\n",
            "+--------------+---------+\n",
            "|   $60K - $80K|768805383|\n",
            "|Less than $40K|818770008|\n",
            "|  $80K - $120K|713982108|\n",
            "+--------------+---------+\n",
            "only showing top 3 rows\n",
            "\n"
          ]
        }
      ],
      "source": [
        "# Notación del punto\n",
        "df_tarjeta_credito_info\\\n",
        ".select(\\\n",
        "        df_tarjeta_credito_info.Income_Category.alias('Sueldo'),\\\n",
        "        df_tarjeta_credito_info.CLIENTNUM.alias('Cliente'))\\\n",
        "        .show(3)\n",
        "\n",
        "# Notación de los corchetes\n",
        "df_tarjeta_credito_info\\\n",
        ".select(\\\n",
        "        df_tarjeta_credito_info[\"Income_Category\"].alias('Sueldo')\\\n",
        "        ,df_tarjeta_credito_info[\"CLIENTNUM\"].alias('Cliente'))\\\n",
        "        .show(3)\n",
        "\n",
        "\n",
        "# usar sql functions\n",
        "\n",
        "df_tarjeta_credito_info\\\n",
        ".select(\\\n",
        "        F.col(\"Income_Category\").alias('Sueldo'),\\\n",
        "        F.col(\"CLIENTNUM\").alias('Cliente'))\\\n",
        "        .show(3)\n"
      ]
    },
    {
      "cell_type": "markdown",
      "metadata": {
        "id": "dR60H2G6uJDw"
      },
      "source": [
        "Nos puede interesar conocer los distintos valores que puede contener un campo, para ello podemos utilizar **select().distinct()** o **groupBy()**"
      ]
    },
    {
      "cell_type": "code",
      "execution_count": null,
      "metadata": {
        "colab": {
          "base_uri": "https://localhost:8080/"
        },
        "id": "Bc05uus688S3",
        "outputId": "d1ce6d33-cd32-4183-ee89-dfa46843d245"
      },
      "outputs": [
        {
          "output_type": "stream",
          "name": "stdout",
          "text": [
            "+---------------+\n",
            "|Income_Category|\n",
            "+---------------+\n",
            "|        $120K +|\n",
            "|    $60K - $80K|\n",
            "|           null|\n",
            "|   $80K - $120K|\n",
            "|    $40K - $60K|\n",
            "| Less than $40K|\n",
            "+---------------+\n",
            "\n"
          ]
        }
      ],
      "source": [
        "df_tarjeta_credito_info.select('Income_Category').distinct().show()"
      ]
    },
    {
      "cell_type": "code",
      "execution_count": null,
      "metadata": {
        "colab": {
          "base_uri": "https://localhost:8080/"
        },
        "id": "3sPeBhIbpyj0",
        "outputId": "5353a23f-17e9-4f36-dd01-ad56241d0dd6"
      },
      "outputs": [
        {
          "output_type": "stream",
          "name": "stdout",
          "text": [
            "+---------------+-----+\n",
            "|Income_Category|count|\n",
            "+---------------+-----+\n",
            "|        $120K +|  727|\n",
            "|    $60K - $80K| 1402|\n",
            "|           null| 1112|\n",
            "|   $80K - $120K| 1534|\n",
            "|    $40K - $60K| 1789|\n",
            "| Less than $40K| 3561|\n",
            "+---------------+-----+\n",
            "\n"
          ]
        }
      ],
      "source": [
        "df_tarjeta_credito_info.groupBy('Income_Category').count().show()"
      ]
    },
    {
      "cell_type": "markdown",
      "metadata": {
        "id": "7lYJm8VdaC3d"
      },
      "source": [
        "### Pre-procesado de datos"
      ]
    },
    {
      "cell_type": "markdown",
      "source": [
        "#### select()"
      ],
      "metadata": {
        "id": "phOnbbQ-P9Th"
      }
    },
    {
      "cell_type": "code",
      "source": [
        "df_tarjeta_credito_info = df_tarjeta_credito_info\\\n",
        "                                                  .select(\\\n",
        "                                                          F.col('CLIENTNUM').alias('cliente'),\\\n",
        "                                                          F.col('Customer_Age').alias('edad'),\\\n",
        "                                                          F.col('Gender').alias('genero'),\\\n",
        "                                                          F.col('Income_Category').alias('sueldo'),\\\n",
        "                                                          F.col('Marital_Status').alias('estado civil'),\\\n",
        "                                                          F.col('Months_on_book').alias('meses'),\\\n",
        "                                                          F.col('Credit_Limit')\n",
        "                                                          \n",
        "                                                          )"
      ],
      "metadata": {
        "id": "MFdCVUzaQD09"
      },
      "execution_count": null,
      "outputs": []
    },
    {
      "cell_type": "markdown",
      "source": [
        "#### Trabajando con columnas"
      ],
      "metadata": {
        "id": "IJGSqfh5T8T-"
      }
    },
    {
      "cell_type": "code",
      "source": [
        "df_tarjeta_credito_info.show()"
      ],
      "metadata": {
        "colab": {
          "base_uri": "https://localhost:8080/"
        },
        "id": "fyVkKXEaVkoM",
        "outputId": "a98c0866-c501-4f42-afa4-8a1ee2859f89"
      },
      "execution_count": null,
      "outputs": [
        {
          "output_type": "stream",
          "name": "stdout",
          "text": [
            "+---------+----+------+--------------+------------+-----+------------+\n",
            "|  cliente|edad|genero|        sueldo|estado civil|meses|Credit_Limit|\n",
            "+---------+----+------+--------------+------------+-----+------------+\n",
            "|768805383|  45|     M|   $60K - $80K|     Married|   39|     12691.0|\n",
            "|818770008|  49|     F|Less than $40K|      Single|   44|      8256.0|\n",
            "|713982108|  51|     M|  $80K - $120K|     Married|   36|      3418.0|\n",
            "|769911858|  40|     F|Less than $40K|        null|   34|      3313.0|\n",
            "|709106358|null|     M|   $60K - $80K|     Married|   21|      4716.0|\n",
            "|713061558|  44|     M|   $40K - $60K|     Married|   36|      4010.0|\n",
            "|810347208|  51|     M|       $120K +|     Married|   46|     34516.0|\n",
            "|818906208|  32|     M|   $60K - $80K|        null|   27|     29081.0|\n",
            "|710930508|  37|     M|   $60K - $80K|      Single|   36|     22352.0|\n",
            "|719661558|  48|     M|  $80K - $120K|      Single|   36|     11656.0|\n",
            "|718813833|null|  null|          null|      Single|   34|     10100.0|\n",
            "|708790833|null|     M|       $120K +|        null|   31|      6748.0|\n",
            "|710821833|  65|     M|   $40K - $60K|     Married|   54|      9095.0|\n",
            "|710599683|  56|     M|  $80K - $120K|      Single|   36|     11751.0|\n",
            "|816082233|  35|     M|   $60K - $80K|        null|   30|      8547.0|\n",
            "|712396908|null|     F|Less than $40K|     Married|   48|      2436.0|\n",
            "|714885258|  44|     M|  $80K - $120K|        null|   37|      4234.0|\n",
            "|709967358|  48|     M|  $80K - $120K|      Single|   36|     30367.0|\n",
            "|753327333|  41|     M|  $80K - $120K|     Married|   34|     13535.0|\n",
            "|806160108|  61|     M|   $40K - $60K|     Married|   56|      3193.0|\n",
            "+---------+----+------+--------------+------------+-----+------------+\n",
            "only showing top 20 rows\n",
            "\n"
          ]
        }
      ]
    },
    {
      "cell_type": "markdown",
      "source": [
        "##### withColumnRenamed()"
      ],
      "metadata": {
        "id": "PuxhyGGDSWoc"
      }
    },
    {
      "cell_type": "markdown",
      "source": [
        "Nos permite modificar el nombre de las columnas"
      ],
      "metadata": {
        "id": "YTyuL9aUUR6a"
      }
    },
    {
      "cell_type": "code",
      "source": [
        "df_tarjeta_credito_info = df_tarjeta_credito_info.withColumnRenamed('Credit_Limit','limite de credito')"
      ],
      "metadata": {
        "id": "HVgt5h-7Rx5X"
      },
      "execution_count": null,
      "outputs": []
    },
    {
      "cell_type": "markdown",
      "source": [
        "##### drop()"
      ],
      "metadata": {
        "id": "72bT1EVETdzN"
      }
    },
    {
      "cell_type": "markdown",
      "source": [
        "para elimina columna/s del DF"
      ],
      "metadata": {
        "id": "CNDYW7oPUa9r"
      }
    },
    {
      "cell_type": "code",
      "source": [
        "df_tarjeta_credito_info = df_tarjeta_credito_info.drop(\"estado civil\",\"meses\")"
      ],
      "metadata": {
        "id": "hkrZEjpGWPNo"
      },
      "execution_count": null,
      "outputs": []
    },
    {
      "cell_type": "markdown",
      "metadata": {
        "id": "6TB0iVH6xVfS"
      },
      "source": [
        "##### withColumn(nombre_col,col)"
      ]
    },
    {
      "cell_type": "markdown",
      "metadata": {
        "id": "4-t64QCsb0sH"
      },
      "source": [
        "  Permite añadir una columna a nuestro dataframe o modificar una existente. \n",
        "\n",
        "  Este método nos devuelve un nuevo dataframe, **NO MODIFICA EL ORIGINAL**, si queremos guardar los cambios tenemos que reasignarle el df resultante."
      ]
    },
    {
      "cell_type": "code",
      "execution_count": null,
      "metadata": {
        "id": "Z6DlUDaWYJdA"
      },
      "outputs": [],
      "source": [
        "df_tarjeta_credito_info = df_tarjeta_credito_info\\\n",
        "                                                .withColumn('mayor de edad', F.col('edad')>=18)\n"
      ]
    },
    {
      "cell_type": "code",
      "execution_count": null,
      "metadata": {
        "id": "4kwi9Vc2dGcQ"
      },
      "outputs": [],
      "source": [
        "df_tarjeta_credito_info = df_tarjeta_credito_info\\\n",
        "                                                  .withColumn('mayor de edad',(F.col('edad')>=18) & (F.col('sueldo')=='$120K +'))"
      ]
    },
    {
      "cell_type": "code",
      "source": [
        "df_tarjeta_credito_info = df_tarjeta_credito_info.drop('mayor de edad')"
      ],
      "metadata": {
        "id": "bLwl6by87lDa"
      },
      "execution_count": null,
      "outputs": []
    },
    {
      "cell_type": "markdown",
      "source": [
        "algo un poco más complejo"
      ],
      "metadata": {
        "id": "CQfzZNPNdDD8"
      }
    },
    {
      "cell_type": "code",
      "source": [
        "df_tarjeta_credito_info.select('sueldo').distinct().show()"
      ],
      "metadata": {
        "colab": {
          "base_uri": "https://localhost:8080/"
        },
        "id": "8TpeJTBAgebs",
        "outputId": "a191a8c8-6181-448e-87b8-e73da0fa05f9"
      },
      "execution_count": null,
      "outputs": [
        {
          "output_type": "stream",
          "name": "stdout",
          "text": [
            "+--------------+\n",
            "|        sueldo|\n",
            "+--------------+\n",
            "|       $120K +|\n",
            "|   $60K - $80K|\n",
            "|          null|\n",
            "|  $80K - $120K|\n",
            "|   $40K - $60K|\n",
            "|Less than $40K|\n",
            "+--------------+\n",
            "\n"
          ]
        }
      ]
    },
    {
      "cell_type": "code",
      "source": [
        "df_categorias = df_tarjeta_credito_info.select('sueldo').distinct()\n",
        "df_categorias.show()"
      ],
      "metadata": {
        "colab": {
          "base_uri": "https://localhost:8080/"
        },
        "id": "-PhrpPgug95w",
        "outputId": "9aa0d6ab-7957-4716-9430-22071224e890"
      },
      "execution_count": null,
      "outputs": [
        {
          "output_type": "stream",
          "name": "stdout",
          "text": [
            "+--------------+\n",
            "|        sueldo|\n",
            "+--------------+\n",
            "|       $120K +|\n",
            "|   $60K - $80K|\n",
            "|          null|\n",
            "|  $80K - $120K|\n",
            "|   $40K - $60K|\n",
            "|Less than $40K|\n",
            "+--------------+\n",
            "\n"
          ]
        }
      ]
    },
    {
      "cell_type": "code",
      "source": [
        "df_categorias = df_categorias.withColumn(\\\n",
        "                                          'categoria del cliente',\\\n",
        "                                          F.when( F.col('sueldo').isin('$120K +','$80K - $120K'),'oro')\\\n",
        "                                          .when(F.col('sueldo').isin('$60K - $80K','$40K - $60K'),'plata')\\\n",
        "                                          .when(F.col('sueldo').isin('Less than $40K'),'bronce')\\\n",
        "                                          .otherwise('desconocido')\\\n",
        "                                          )"
      ],
      "metadata": {
        "id": "s_jwTlWhanAh"
      },
      "execution_count": null,
      "outputs": []
    },
    {
      "cell_type": "code",
      "source": [
        "df_categorias.show()"
      ],
      "metadata": {
        "colab": {
          "base_uri": "https://localhost:8080/"
        },
        "id": "M0BLb5o0ieS3",
        "outputId": "633941fb-c1b0-4815-870c-11fbdd0002d2"
      },
      "execution_count": null,
      "outputs": [
        {
          "output_type": "stream",
          "name": "stdout",
          "text": [
            "+--------------+---------------------+\n",
            "|        sueldo|categoria del cliente|\n",
            "+--------------+---------------------+\n",
            "|       $120K +|                  oro|\n",
            "|   $60K - $80K|                plata|\n",
            "|          null|          desconocido|\n",
            "|  $80K - $120K|                  oro|\n",
            "|   $40K - $60K|                plata|\n",
            "|Less than $40K|               bronce|\n",
            "+--------------+---------------------+\n",
            "\n"
          ]
        }
      ]
    },
    {
      "cell_type": "markdown",
      "metadata": {
        "id": "hfcCxuobl52n"
      },
      "source": [
        "#### Detectar valores missing/nulos"
      ]
    },
    {
      "cell_type": "markdown",
      "source": [
        "##### isNull()"
      ],
      "metadata": {
        "id": "38r0j2kuqlYf"
      }
    },
    {
      "cell_type": "code",
      "source": [
        "df_tarjeta_credito_info.filter((F.col('edad').isNull()) | (F.col('sueldo').isNull()) ).show()"
      ],
      "metadata": {
        "colab": {
          "base_uri": "https://localhost:8080/"
        },
        "id": "VyxqocAjxIU3",
        "outputId": "5d9a365a-5034-4cff-bf27-be220b458c37"
      },
      "execution_count": null,
      "outputs": [
        {
          "output_type": "stream",
          "name": "stdout",
          "text": [
            "+---------+----+------+--------------+-----------------+\n",
            "|  cliente|edad|genero|        sueldo|limite de credito|\n",
            "+---------+----+------+--------------+-----------------+\n",
            "|709106358|null|     M|   $60K - $80K|           4716.0|\n",
            "|710930508|  37|     M|          null|          22352.0|\n",
            "|718813833|null|  null|          null|          10100.0|\n",
            "|708790833|null|     M|       $120K +|           6748.0|\n",
            "|816082233|null|     M|          null|           8547.0|\n",
            "|712396908|null|     F|Less than $40K|           2436.0|\n",
            "|714885258|null|     M|  $80K - $120K|           4234.0|\n",
            "|709327383|  45|     F|          null|          14470.0|\n",
            "|708300483|  66|     F|          null|           7882.0|\n",
            "|758551608|null|     M|   $40K - $60K|           6205.0|\n",
            "|720572508|  38|     F|          null|           9830.0|\n",
            "|711427458|  44|     F|          null|           6273.0|\n",
            "|755420433|  59|     F|          null|          10133.0|\n",
            "|715550508|  45|     F|          null|           2535.0|\n",
            "|714778833|  49|     F|          null|          23032.0|\n",
            "|713843283|  41|     F|          null|          34516.0|\n",
            "|711112683|  63|     F|          null|           3967.0|\n",
            "|772288758|  47|     F|          null|           5349.0|\n",
            "|712720158|  68|     M|          null|          13860.0|\n",
            "|718759833|  44|     F|          null|          32643.0|\n",
            "+---------+----+------+--------------+-----------------+\n",
            "only showing top 20 rows\n",
            "\n"
          ]
        }
      ]
    },
    {
      "cell_type": "code",
      "source": [
        "df_nulls = df_tarjeta_credito_info.limit(20)\n",
        "df_nulls.show()"
      ],
      "metadata": {
        "colab": {
          "base_uri": "https://localhost:8080/"
        },
        "id": "64rWLSfD0BIG",
        "outputId": "37ec276d-e9e8-4e1f-80c5-fbf407aab451"
      },
      "execution_count": null,
      "outputs": [
        {
          "output_type": "stream",
          "name": "stdout",
          "text": [
            "+---------+----+------+--------------+-----------------+\n",
            "|  cliente|edad|genero|        sueldo|limite de credito|\n",
            "+---------+----+------+--------------+-----------------+\n",
            "|768805383|  45|     M|   $60K - $80K|          12691.0|\n",
            "|818770008|  49|     F|Less than $40K|           8256.0|\n",
            "|713982108|  51|     M|  $80K - $120K|           3418.0|\n",
            "|769911858|  40|     F|Less than $40K|           3313.0|\n",
            "|709106358|null|     M|   $60K - $80K|           4716.0|\n",
            "|713061558|  44|     M|   $40K - $60K|           4010.0|\n",
            "|810347208|  51|     M|       $120K +|          34516.0|\n",
            "|818906208|  32|     M|   $60K - $80K|          29081.0|\n",
            "|710930508|  37|     M|          null|          22352.0|\n",
            "|719661558|  48|     M|  $80K - $120K|          11656.0|\n",
            "|718813833|null|  null|          null|          10100.0|\n",
            "|708790833|null|     M|       $120K +|           6748.0|\n",
            "|710821833|  65|     M|   $40K - $60K|           9095.0|\n",
            "|710599683|  56|     M|  $80K - $120K|          11751.0|\n",
            "|816082233|null|     M|          null|           8547.0|\n",
            "|712396908|null|     F|Less than $40K|           2436.0|\n",
            "|714885258|null|     M|  $80K - $120K|           4234.0|\n",
            "|709967358|  48|     M|  $80K - $120K|          30367.0|\n",
            "|753327333|  41|     M|  $80K - $120K|          13535.0|\n",
            "|806160108|  61|     M|   $40K - $60K|           3193.0|\n",
            "+---------+----+------+--------------+-----------------+\n",
            "\n"
          ]
        }
      ]
    },
    {
      "cell_type": "markdown",
      "source": [
        "##### na"
      ],
      "metadata": {
        "id": "exU4BmdJ0Za0"
      }
    },
    {
      "cell_type": "markdown",
      "source": [
        "Con la función `na` (not available) podemos detectar valores missing/nulls en nuestros datos y decidir qué hacer con ellos:  \n",
        "1. eliminarlos   -> drop()\n",
        "2. reemplazarlos -> fill()"
      ],
      "metadata": {
        "id": "nd2nmsRXjfet"
      }
    },
    {
      "cell_type": "markdown",
      "metadata": {
        "id": "1up-ubhInLIl"
      },
      "source": [
        "###### na.drop()"
      ]
    },
    {
      "cell_type": "markdown",
      "source": [
        "Este método acepta los parámetros:  \n",
        "    - how    -> any | all  \n",
        "    - thresh ->  int  \n",
        "    - subset ->  [lis_of_columns]"
      ],
      "metadata": {
        "id": "-pkt0gM0j5l_"
      }
    },
    {
      "cell_type": "markdown",
      "source": [
        "- **how** Por defecto how='any' esto elimna todos los registros que contengan en alguno de sus campos un valor null.   \n",
        "Si pusiéramos how='all' solo eliminearia el registro si todos sus campos fueran null"
      ],
      "metadata": {
        "id": "9ixDpy_u1y9v"
      }
    },
    {
      "cell_type": "code",
      "execution_count": null,
      "metadata": {
        "colab": {
          "base_uri": "https://localhost:8080/"
        },
        "id": "bDKt95uhlreO",
        "outputId": "02eeb0ac-167c-44a2-be9e-45c004a96d52"
      },
      "outputs": [
        {
          "output_type": "stream",
          "name": "stdout",
          "text": [
            "+---------+----+------+--------------+-----------------+\n",
            "|  cliente|edad|genero|        sueldo|limite de credito|\n",
            "+---------+----+------+--------------+-----------------+\n",
            "|768805383|  45|     M|   $60K - $80K|          12691.0|\n",
            "|818770008|  49|     F|Less than $40K|           8256.0|\n",
            "|713982108|  51|     M|  $80K - $120K|           3418.0|\n",
            "|769911858|  40|     F|Less than $40K|           3313.0|\n",
            "|713061558|  44|     M|   $40K - $60K|           4010.0|\n",
            "|810347208|  51|     M|       $120K +|          34516.0|\n",
            "|818906208|  32|     M|   $60K - $80K|          29081.0|\n",
            "|719661558|  48|     M|  $80K - $120K|          11656.0|\n",
            "|710821833|  65|     M|   $40K - $60K|           9095.0|\n",
            "|710599683|  56|     M|  $80K - $120K|          11751.0|\n",
            "|709967358|  48|     M|  $80K - $120K|          30367.0|\n",
            "|753327333|  41|     M|  $80K - $120K|          13535.0|\n",
            "|806160108|  61|     M|   $40K - $60K|           3193.0|\n",
            "+---------+----+------+--------------+-----------------+\n",
            "\n"
          ]
        }
      ],
      "source": [
        "df_nulls.na.drop().show()"
      ]
    },
    {
      "cell_type": "markdown",
      "source": [
        "- **thresh** permite establecer un límite mínimo de campos con valores no-null, un thresh=3 significa q el registro no se borrará si tiene al menos 3 campos con valores no-null "
      ],
      "metadata": {
        "id": "TzhCLSAT2BsS"
      }
    },
    {
      "cell_type": "code",
      "execution_count": null,
      "metadata": {
        "colab": {
          "base_uri": "https://localhost:8080/"
        },
        "id": "iltVYbLpmuK5",
        "outputId": "32633525-fe42-4a23-be59-a95f3fb10d09"
      },
      "outputs": [
        {
          "output_type": "stream",
          "name": "stdout",
          "text": [
            "+---------+----+------+--------------+-----------------+\n",
            "|  cliente|edad|genero|        sueldo|limite de credito|\n",
            "+---------+----+------+--------------+-----------------+\n",
            "|768805383|  45|     M|   $60K - $80K|          12691.0|\n",
            "|818770008|  49|     F|Less than $40K|           8256.0|\n",
            "|713982108|  51|     M|  $80K - $120K|           3418.0|\n",
            "|769911858|  40|     F|Less than $40K|           3313.0|\n",
            "|709106358|null|     M|   $60K - $80K|           4716.0|\n",
            "|713061558|  44|     M|   $40K - $60K|           4010.0|\n",
            "|810347208|  51|     M|       $120K +|          34516.0|\n",
            "|818906208|  32|     M|   $60K - $80K|          29081.0|\n",
            "|710930508|  37|     M|          null|          22352.0|\n",
            "|719661558|  48|     M|  $80K - $120K|          11656.0|\n",
            "|708790833|null|     M|       $120K +|           6748.0|\n",
            "|710821833|  65|     M|   $40K - $60K|           9095.0|\n",
            "|710599683|  56|     M|  $80K - $120K|          11751.0|\n",
            "|816082233|null|     M|          null|           8547.0|\n",
            "|712396908|null|     F|Less than $40K|           2436.0|\n",
            "|714885258|null|     M|  $80K - $120K|           4234.0|\n",
            "|709967358|  48|     M|  $80K - $120K|          30367.0|\n",
            "|753327333|  41|     M|  $80K - $120K|          13535.0|\n",
            "|806160108|  61|     M|   $40K - $60K|           3193.0|\n",
            "+---------+----+------+--------------+-----------------+\n",
            "\n"
          ]
        }
      ],
      "source": [
        "df_nulls.na.drop(thresh=3).show()"
      ]
    },
    {
      "cell_type": "markdown",
      "source": [
        "\n",
        "- **subset** le pasamos una lista con las columnas a evaluar, si en ese campo el registro tiene un valor null se eliminará el registro por completo."
      ],
      "metadata": {
        "id": "SuWqw34h200C"
      }
    },
    {
      "cell_type": "code",
      "execution_count": null,
      "metadata": {
        "colab": {
          "base_uri": "https://localhost:8080/"
        },
        "id": "2ldHYpMYwuPK",
        "outputId": "5f4a7ea5-e4cf-4dc8-bc8f-87b26fbbcb99"
      },
      "outputs": [
        {
          "output_type": "stream",
          "name": "stdout",
          "text": [
            "+---------+----+------+--------------+-----------------+\n",
            "|  cliente|edad|genero|        sueldo|limite de credito|\n",
            "+---------+----+------+--------------+-----------------+\n",
            "|768805383|  45|     M|   $60K - $80K|          12691.0|\n",
            "|818770008|  49|     F|Less than $40K|           8256.0|\n",
            "|713982108|  51|     M|  $80K - $120K|           3418.0|\n",
            "|769911858|  40|     F|Less than $40K|           3313.0|\n",
            "|709106358|null|     M|   $60K - $80K|           4716.0|\n",
            "|713061558|  44|     M|   $40K - $60K|           4010.0|\n",
            "|810347208|  51|     M|       $120K +|          34516.0|\n",
            "|818906208|  32|     M|   $60K - $80K|          29081.0|\n",
            "|719661558|  48|     M|  $80K - $120K|          11656.0|\n",
            "|708790833|null|     M|       $120K +|           6748.0|\n",
            "|710821833|  65|     M|   $40K - $60K|           9095.0|\n",
            "|710599683|  56|     M|  $80K - $120K|          11751.0|\n",
            "|712396908|null|     F|Less than $40K|           2436.0|\n",
            "|714885258|null|     M|  $80K - $120K|           4234.0|\n",
            "|709967358|  48|     M|  $80K - $120K|          30367.0|\n",
            "|753327333|  41|     M|  $80K - $120K|          13535.0|\n",
            "|806160108|  61|     M|   $40K - $60K|           3193.0|\n",
            "+---------+----+------+--------------+-----------------+\n",
            "\n"
          ]
        }
      ],
      "source": [
        "df_nulls.na.drop(subset=['sueldo']).show()"
      ]
    },
    {
      "cell_type": "markdown",
      "metadata": {
        "id": "ADP9WTbGE8T-"
      },
      "source": [
        "###### na.fill()"
      ]
    },
    {
      "cell_type": "markdown",
      "source": [
        "permite sustituir los valores null por un valor que nosotros le pasemos.\n",
        "\n",
        " Si pasamos un string solo sustituirá los nulls de los campos del tipo string si pasamos un entero por ejemplo solo los campos de tipo numérico."
      ],
      "metadata": {
        "id": "AXckq8UE3NdL"
      }
    },
    {
      "cell_type": "code",
      "execution_count": null,
      "metadata": {
        "colab": {
          "base_uri": "https://localhost:8080/"
        },
        "id": "6m2MNFCRF79-",
        "outputId": "08993de0-88bd-4ed7-8755-e6d9a773912d"
      },
      "outputs": [
        {
          "output_type": "stream",
          "name": "stdout",
          "text": [
            "+---------+----+------+--------------+-----------------+\n",
            "|  cliente|edad|genero|        sueldo|limite de credito|\n",
            "+---------+----+------+--------------+-----------------+\n",
            "|768805383|  45|     M|   $60K - $80K|          12691.0|\n",
            "|818770008|  49|     F|Less than $40K|           8256.0|\n",
            "|713982108|  51|     M|  $80K - $120K|           3418.0|\n",
            "|769911858|  40|     F|Less than $40K|           3313.0|\n",
            "|709106358|null|     M|   $60K - $80K|           4716.0|\n",
            "|713061558|  44|     M|   $40K - $60K|           4010.0|\n",
            "|810347208|  51|     M|       $120K +|          34516.0|\n",
            "|818906208|  32|     M|   $60K - $80K|          29081.0|\n",
            "|710930508|  37|     M|          null|          22352.0|\n",
            "|719661558|  48|     M|  $80K - $120K|          11656.0|\n",
            "|718813833|null|  null|          null|          10100.0|\n",
            "|708790833|null|     M|       $120K +|           6748.0|\n",
            "|710821833|  65|     M|   $40K - $60K|           9095.0|\n",
            "|710599683|  56|     M|  $80K - $120K|          11751.0|\n",
            "|816082233|null|     M|          null|           8547.0|\n",
            "|712396908|null|     F|Less than $40K|           2436.0|\n",
            "|714885258|null|     M|  $80K - $120K|           4234.0|\n",
            "|709967358|  48|     M|  $80K - $120K|          30367.0|\n",
            "|753327333|  41|     M|  $80K - $120K|          13535.0|\n",
            "|806160108|  61|     M|   $40K - $60K|           3193.0|\n",
            "+---------+----+------+--------------+-----------------+\n",
            "\n"
          ]
        }
      ],
      "source": [
        "df_nulls.show()"
      ]
    },
    {
      "cell_type": "code",
      "execution_count": null,
      "metadata": {
        "colab": {
          "base_uri": "https://localhost:8080/"
        },
        "id": "3hxabKaZE_kg",
        "outputId": "2ec67042-0248-4c0c-f86b-9e2b190a3c5b"
      },
      "outputs": [
        {
          "output_type": "stream",
          "name": "stdout",
          "text": [
            "+---------+----+------+--------------+-----------------+\n",
            "|  cliente|edad|genero|        sueldo|limite de credito|\n",
            "+---------+----+------+--------------+-----------------+\n",
            "|768805383|  45|     M|   $60K - $80K|          12691.0|\n",
            "|818770008|  49|     F|Less than $40K|           8256.0|\n",
            "|713982108|  51|     M|  $80K - $120K|           3418.0|\n",
            "|769911858|  40|     F|Less than $40K|           3313.0|\n",
            "|709106358|   0|     M|   $60K - $80K|           4716.0|\n",
            "|713061558|  44|     M|   $40K - $60K|           4010.0|\n",
            "|810347208|  51|     M|       $120K +|          34516.0|\n",
            "|818906208|  32|     M|   $60K - $80K|          29081.0|\n",
            "|710930508|  37|     M|          null|          22352.0|\n",
            "|719661558|  48|     M|  $80K - $120K|          11656.0|\n",
            "|718813833|   0|  null|          null|          10100.0|\n",
            "|708790833|   0|     M|       $120K +|           6748.0|\n",
            "|710821833|  65|     M|   $40K - $60K|           9095.0|\n",
            "|710599683|  56|     M|  $80K - $120K|          11751.0|\n",
            "|816082233|   0|     M|          null|           8547.0|\n",
            "|712396908|   0|     F|Less than $40K|           2436.0|\n",
            "|714885258|   0|     M|  $80K - $120K|           4234.0|\n",
            "|709967358|  48|     M|  $80K - $120K|          30367.0|\n",
            "|753327333|  41|     M|  $80K - $120K|          13535.0|\n",
            "|806160108|  61|     M|   $40K - $60K|           3193.0|\n",
            "+---------+----+------+--------------+-----------------+\n",
            "\n"
          ]
        }
      ],
      "source": [
        "df_nulls.na.fill(value=0).show()"
      ]
    },
    {
      "cell_type": "code",
      "execution_count": null,
      "metadata": {
        "colab": {
          "base_uri": "https://localhost:8080/"
        },
        "id": "NtkXc21wFKD-",
        "outputId": "68468cac-f37b-457d-ce21-4820493ee30b"
      },
      "outputs": [
        {
          "output_type": "stream",
          "name": "stdout",
          "text": [
            "+---------+----+-------------+--------------+-----------------+\n",
            "|  cliente|edad|       genero|        sueldo|limite de credito|\n",
            "+---------+----+-------------+--------------+-----------------+\n",
            "|768805383|  45|            M|   $60K - $80K|          12691.0|\n",
            "|818770008|  49|            F|Less than $40K|           8256.0|\n",
            "|713982108|  51|            M|  $80K - $120K|           3418.0|\n",
            "|769911858|  40|            F|Less than $40K|           3313.0|\n",
            "|709106358|null|            M|   $60K - $80K|           4716.0|\n",
            "|713061558|  44|            M|   $40K - $60K|           4010.0|\n",
            "|810347208|  51|            M|       $120K +|          34516.0|\n",
            "|818906208|  32|            M|   $60K - $80K|          29081.0|\n",
            "|710930508|  37|            M| missing value|          22352.0|\n",
            "|719661558|  48|            M|  $80K - $120K|          11656.0|\n",
            "|718813833|null|missing value| missing value|          10100.0|\n",
            "|708790833|null|            M|       $120K +|           6748.0|\n",
            "|710821833|  65|            M|   $40K - $60K|           9095.0|\n",
            "|710599683|  56|            M|  $80K - $120K|          11751.0|\n",
            "|816082233|null|            M| missing value|           8547.0|\n",
            "|712396908|null|            F|Less than $40K|           2436.0|\n",
            "|714885258|null|            M|  $80K - $120K|           4234.0|\n",
            "|709967358|  48|            M|  $80K - $120K|          30367.0|\n",
            "|753327333|  41|            M|  $80K - $120K|          13535.0|\n",
            "|806160108|  61|            M|   $40K - $60K|           3193.0|\n",
            "+---------+----+-------------+--------------+-----------------+\n",
            "\n"
          ]
        }
      ],
      "source": [
        "df_nulls.na.fill('missing value').show()"
      ]
    },
    {
      "cell_type": "code",
      "execution_count": null,
      "metadata": {
        "colab": {
          "base_uri": "https://localhost:8080/"
        },
        "id": "5sgUgBCKF5SL",
        "outputId": "dda680df-14cc-4fce-e306-3c671e120fad"
      },
      "outputs": [
        {
          "output_type": "stream",
          "name": "stdout",
          "text": [
            "+---------+----+-------+--------------+-----------------+\n",
            "|  cliente|edad| genero|        sueldo|limite de credito|\n",
            "+---------+----+-------+--------------+-----------------+\n",
            "|768805383|  45|      M|   $60K - $80K|          12691.0|\n",
            "|818770008|  49|      F|Less than $40K|           8256.0|\n",
            "|713982108|  51|      M|  $80K - $120K|           3418.0|\n",
            "|769911858|  40|      F|Less than $40K|           3313.0|\n",
            "|709106358|   0|      M|   $60K - $80K|           4716.0|\n",
            "|713061558|  44|      M|   $40K - $60K|           4010.0|\n",
            "|810347208|  51|      M|       $120K +|          34516.0|\n",
            "|818906208|  32|      M|   $60K - $80K|          29081.0|\n",
            "|710930508|  37|      M|   Desconocido|          22352.0|\n",
            "|719661558|  48|      M|  $80K - $120K|          11656.0|\n",
            "|718813833|   0|missing|   Desconocido|          10100.0|\n",
            "|708790833|   0|      M|       $120K +|           6748.0|\n",
            "|710821833|  65|      M|   $40K - $60K|           9095.0|\n",
            "|710599683|  56|      M|  $80K - $120K|          11751.0|\n",
            "|816082233|   0|      M|   Desconocido|           8547.0|\n",
            "|712396908|   0|      F|Less than $40K|           2436.0|\n",
            "|714885258|   0|      M|  $80K - $120K|           4234.0|\n",
            "|709967358|  48|      M|  $80K - $120K|          30367.0|\n",
            "|753327333|  41|      M|  $80K - $120K|          13535.0|\n",
            "|806160108|  61|      M|   $40K - $60K|           3193.0|\n",
            "+---------+----+-------+--------------+-----------------+\n",
            "\n"
          ]
        }
      ],
      "source": [
        "df_nulls.na.fill({'edad':0,'genero':'missing','sueldo':'Desconocido'}).show()"
      ]
    },
    {
      "cell_type": "markdown",
      "metadata": {
        "id": "TzNW6r45tTDn"
      },
      "source": [
        "### operaciones de filtrado de datos"
      ]
    },
    {
      "cell_type": "markdown",
      "source": [
        "Utilizando la función **filter(condición)** recuperaremos aquellos registros que resuelvan la condición como **True**"
      ],
      "metadata": {
        "id": "mbOiyu-WF196"
      }
    },
    {
      "cell_type": "code",
      "source": [
        "df_tarjeta_credito_info.show()"
      ],
      "metadata": {
        "colab": {
          "base_uri": "https://localhost:8080/"
        },
        "id": "Q53P9BHOGEyK",
        "outputId": "2248b9a0-557e-4a29-81db-1bc825cdfba6"
      },
      "execution_count": null,
      "outputs": [
        {
          "output_type": "stream",
          "name": "stdout",
          "text": [
            "+---------+----+------+--------------+-----------------+\n",
            "|  cliente|edad|genero|        sueldo|limite de credito|\n",
            "+---------+----+------+--------------+-----------------+\n",
            "|768805383|  45|     M|   $60K - $80K|          12691.0|\n",
            "|818770008|  49|     F|Less than $40K|           8256.0|\n",
            "|713982108|  51|     M|  $80K - $120K|           3418.0|\n",
            "|769911858|  40|     F|Less than $40K|           3313.0|\n",
            "|709106358|null|     M|   $60K - $80K|           4716.0|\n",
            "|713061558|  44|     M|   $40K - $60K|           4010.0|\n",
            "|810347208|  51|     M|       $120K +|          34516.0|\n",
            "|818906208|  32|     M|   $60K - $80K|          29081.0|\n",
            "|710930508|  37|     M|          null|          22352.0|\n",
            "|719661558|  48|     M|  $80K - $120K|          11656.0|\n",
            "|718813833|null|  null|          null|          10100.0|\n",
            "|708790833|null|     M|       $120K +|           6748.0|\n",
            "|710821833|  65|     M|   $40K - $60K|           9095.0|\n",
            "|710599683|  56|     M|  $80K - $120K|          11751.0|\n",
            "|816082233|null|     M|          null|           8547.0|\n",
            "|712396908|null|     F|Less than $40K|           2436.0|\n",
            "|714885258|null|     M|  $80K - $120K|           4234.0|\n",
            "|709967358|  48|     M|  $80K - $120K|          30367.0|\n",
            "|753327333|  41|     M|  $80K - $120K|          13535.0|\n",
            "|806160108|  61|     M|   $40K - $60K|           3193.0|\n",
            "+---------+----+------+--------------+-----------------+\n",
            "only showing top 20 rows\n",
            "\n"
          ]
        }
      ]
    },
    {
      "cell_type": "code",
      "execution_count": null,
      "metadata": {
        "colab": {
          "base_uri": "https://localhost:8080/"
        },
        "id": "64yCRUYyTBvM",
        "outputId": "7e6b7324-9c98-4b07-fec3-32e34ce2bfc8"
      },
      "outputs": [
        {
          "output_type": "stream",
          "name": "stdout",
          "text": [
            "+---------+----+------+--------------+-----------------+\n",
            "|  cliente|edad|genero|        sueldo|limite de credito|\n",
            "+---------+----+------+--------------+-----------------+\n",
            "|768805383|  45|     M|   $60K - $80K|          12691.0|\n",
            "|810347208|  51|     M|       $120K +|          34516.0|\n",
            "|818906208|  32|     M|   $60K - $80K|          29081.0|\n",
            "|710930508|  37|     M|          null|          22352.0|\n",
            "|719661558|  48|     M|  $80K - $120K|          11656.0|\n",
            "|718813833|null|  null|          null|          10100.0|\n",
            "|710599683|  56|     M|  $80K - $120K|          11751.0|\n",
            "|709967358|  48|     M|  $80K - $120K|          30367.0|\n",
            "|753327333|  41|     M|  $80K - $120K|          13535.0|\n",
            "|709327383|  45|     F|          null|          14470.0|\n",
            "|806165208|  47|     M|   $60K - $80K|          20979.0|\n",
            "|789124683|  54|     M|  $80K - $120K|          12217.0|\n",
            "|720466383|  59|     M|   $40K - $60K|          14784.0|\n",
            "|804424383|  63|     M|   $60K - $80K|          10215.0|\n",
            "|787937058|  58|     M|  $80K - $120K|          12555.0|\n",
            "|785432733|  42|     F|Less than $40K|          15433.0|\n",
            "|827111283|  45|     M|  $80K - $120K|          32426.0|\n",
            "|773146383|  50|     F|   $40K - $60K|          17304.0|\n",
            "|712661433|  49|     M|  $80K - $120K|          34516.0|\n",
            "|799723908|  46|     M|  $80K - $120K|          19458.0|\n",
            "+---------+----+------+--------------+-----------------+\n",
            "only showing top 20 rows\n",
            "\n"
          ]
        }
      ],
      "source": [
        "df_tarjeta_credito_info.filter(F.col('limite de credito')>10000).show()"
      ]
    },
    {
      "cell_type": "code",
      "execution_count": null,
      "metadata": {
        "colab": {
          "base_uri": "https://localhost:8080/"
        },
        "id": "PDfwCkwhT-Mj",
        "outputId": "06d0bc45-0cf5-4dc3-ffef-1f587b47627c"
      },
      "outputs": [
        {
          "output_type": "stream",
          "name": "stdout",
          "text": [
            "+---------+----+------+--------------+-----------------+\n",
            "|  cliente|edad|genero|        sueldo|limite de credito|\n",
            "+---------+----+------+--------------+-----------------+\n",
            "|768805383|  45|     M|   $60K - $80K|          12691.0|\n",
            "|719661558|  48|     M|  $80K - $120K|          11656.0|\n",
            "|718813833|null|  null|          null|          10100.0|\n",
            "|710599683|  56|     M|  $80K - $120K|          11751.0|\n",
            "|753327333|  41|     M|  $80K - $120K|          13535.0|\n",
            "|709327383|  45|     F|          null|          14470.0|\n",
            "|789124683|  54|     M|  $80K - $120K|          12217.0|\n",
            "|720466383|  59|     M|   $40K - $60K|          14784.0|\n",
            "|804424383|  63|     M|   $60K - $80K|          10215.0|\n",
            "|787937058|  58|     M|  $80K - $120K|          12555.0|\n",
            "|708155733|  53|     M|       $120K +|          14734.0|\n",
            "|755420433|  59|     F|          null|          10133.0|\n",
            "|719720058|  44|     M|   $60K - $80K|          12756.0|\n",
            "|717929133|  44|     M|   $60K - $80K|          14450.0|\n",
            "|711844758|  48|     M|  $80K - $120K|          13551.0|\n",
            "|826762908|  52|     M|  $80K - $120K|          11976.0|\n",
            "|714877233|  53|     M|  $80K - $120K|          12262.0|\n",
            "|720201033|  53|     M|  $80K - $120K|          11669.0|\n",
            "|718039683|  52|     M|   $40K - $60K|          13532.0|\n",
            "|710806083|  50|     F|Less than $40K|          11888.0|\n",
            "+---------+----+------+--------------+-----------------+\n",
            "only showing top 20 rows\n",
            "\n"
          ]
        }
      ],
      "source": [
        "df_tarjeta_credito_info.filter(F.col('limite de credito').between(10000,15000)).show()"
      ]
    },
    {
      "cell_type": "markdown",
      "metadata": {
        "id": "ZhvOuVY0bU9z"
      },
      "source": [
        "Podemos filtrar por múltiples condiciones, cada una de las condicones tiene que estar dentro de paréntesis y utilizar un operador lógico (&, '|', '~') para concatenarlas."
      ]
    },
    {
      "cell_type": "code",
      "execution_count": null,
      "metadata": {
        "colab": {
          "base_uri": "https://localhost:8080/"
        },
        "id": "tPhbMwA5bFtU",
        "outputId": "f9190750-e908-4f2f-a2a3-e89f001a8ca9"
      },
      "outputs": [
        {
          "output_type": "stream",
          "name": "stdout",
          "text": [
            "+---------+----+------+--------------+-----------------+\n",
            "|  cliente|edad|genero|        sueldo|limite de credito|\n",
            "+---------+----+------+--------------+-----------------+\n",
            "|709327383|  45|     F|          null|          14470.0|\n",
            "|785432733|  42|     F|Less than $40K|          15433.0|\n",
            "|773146383|  50|     F|   $40K - $60K|          17304.0|\n",
            "|755420433|  59|     F|          null|          10133.0|\n",
            "|714778833|  49|     F|          null|          23032.0|\n",
            "|713843283|  41|     F|          null|          34516.0|\n",
            "|710806083|  50|     F|Less than $40K|          11888.0|\n",
            "|708296883|  44|     F|   $40K - $60K|          11749.0|\n",
            "|712215258|  50|     F|   $40K - $60K|          18386.0|\n",
            "|718759833|  44|     F|          null|          32643.0|\n",
            "|716493408|  45|     F|          null|          15875.0|\n",
            "|714964758|  45|     F|   $40K - $60K|          10400.0|\n",
            "|712977183|  57|     F|   $40K - $60K|          19482.0|\n",
            "|721148358|  49|     F|          null|          12860.0|\n",
            "|779956608|  41|     F|          null|          20758.0|\n",
            "|711441333|  43|     F|Less than $40K|          10514.0|\n",
            "|803043933|  44|     F|Less than $40K|          11127.0|\n",
            "|711297483|  47|     F|Less than $40K|          13878.0|\n",
            "|710572458|  36|     F|          null|          15439.0|\n",
            "|714426783|  38|     F|          null|          14041.0|\n",
            "+---------+----+------+--------------+-----------------+\n",
            "only showing top 20 rows\n",
            "\n"
          ]
        }
      ],
      "source": [
        "df_tarjeta_credito_info.filter( (F.col('limite de credito')>10000) & (F.col('genero')=='F')).show()"
      ]
    },
    {
      "cell_type": "code",
      "execution_count": null,
      "metadata": {
        "colab": {
          "base_uri": "https://localhost:8080/"
        },
        "id": "pxc8Ljcdlnez",
        "outputId": "d632ea84-cb65-444c-f7c3-ab2e2096c185"
      },
      "outputs": [
        {
          "output_type": "stream",
          "name": "stdout",
          "text": [
            "+---------+--------------+\n",
            "|  cliente|        sueldo|\n",
            "+---------+--------------+\n",
            "|785432733|Less than $40K|\n",
            "|773146383|   $40K - $60K|\n",
            "|710806083|Less than $40K|\n",
            "|708296883|   $40K - $60K|\n",
            "|712215258|   $40K - $60K|\n",
            "|714964758|   $40K - $60K|\n",
            "|712977183|   $40K - $60K|\n",
            "|711441333|Less than $40K|\n",
            "|803043933|Less than $40K|\n",
            "|711297483|Less than $40K|\n",
            "|716455683|Less than $40K|\n",
            "|710865633|Less than $40K|\n",
            "|712981383|Less than $40K|\n",
            "|716302383|   $40K - $60K|\n",
            "|714513033|   $40K - $60K|\n",
            "|717956283|   $40K - $60K|\n",
            "|708177333|Less than $40K|\n",
            "|718206783|Less than $40K|\n",
            "|713378133|Less than $40K|\n",
            "|720650208|   $40K - $60K|\n",
            "+---------+--------------+\n",
            "only showing top 20 rows\n",
            "\n"
          ]
        }
      ],
      "source": [
        "df_tarjeta_credito_info\\\n",
        "                        .filter( (F.col('limite de credito')>10000) & (F.col('genero')=='F'))\\\n",
        "                        .select('cliente','sueldo')\\\n",
        "                        .na.drop()\\\n",
        "                        .show()"
      ]
    },
    {
      "cell_type": "markdown",
      "metadata": {
        "id": "nabLkMmLtVl-"
      },
      "source": [
        "### Agrupación y funciones de agregación"
      ]
    },
    {
      "cell_type": "markdown",
      "metadata": {
        "id": "jk9v7RZzm17k"
      },
      "source": [
        "El groupBy y las funciones de agregación funcionan juntas.\n",
        "\n",
        "Las funciones de agregación básicas son:\n",
        "\n",
        "- sum\n",
        "- mean\n",
        "- count\n",
        "- min\n",
        "- max\n",
        "\n"
      ]
    },
    {
      "cell_type": "code",
      "execution_count": null,
      "metadata": {
        "colab": {
          "base_uri": "https://localhost:8080/"
        },
        "id": "_IiWJ4oqQXCR",
        "outputId": "33750c8e-7dfb-4bbb-cb41-c2a823a73056"
      },
      "outputs": [
        {
          "output_type": "stream",
          "name": "stdout",
          "text": [
            "+---------+----+------+--------------+-----------------+\n",
            "|  cliente|edad|genero|        sueldo|limite de credito|\n",
            "+---------+----+------+--------------+-----------------+\n",
            "|768805383|  45|     M|   $60K - $80K|          12691.0|\n",
            "|818770008|  49|     F|Less than $40K|           8256.0|\n",
            "|713982108|  51|     M|  $80K - $120K|           3418.0|\n",
            "|769911858|  40|     F|Less than $40K|           3313.0|\n",
            "|709106358|null|     M|   $60K - $80K|           4716.0|\n",
            "|713061558|  44|     M|   $40K - $60K|           4010.0|\n",
            "|810347208|  51|     M|       $120K +|          34516.0|\n",
            "|818906208|  32|     M|   $60K - $80K|          29081.0|\n",
            "|710930508|  37|     M|          null|          22352.0|\n",
            "|719661558|  48|     M|  $80K - $120K|          11656.0|\n",
            "|718813833|null|  null|          null|          10100.0|\n",
            "|708790833|null|     M|       $120K +|           6748.0|\n",
            "|710821833|  65|     M|   $40K - $60K|           9095.0|\n",
            "|710599683|  56|     M|  $80K - $120K|          11751.0|\n",
            "|816082233|null|     M|          null|           8547.0|\n",
            "|712396908|null|     F|Less than $40K|           2436.0|\n",
            "|714885258|null|     M|  $80K - $120K|           4234.0|\n",
            "|709967358|  48|     M|  $80K - $120K|          30367.0|\n",
            "|753327333|  41|     M|  $80K - $120K|          13535.0|\n",
            "|806160108|  61|     M|   $40K - $60K|           3193.0|\n",
            "+---------+----+------+--------------+-----------------+\n",
            "only showing top 20 rows\n",
            "\n"
          ]
        }
      ],
      "source": [
        "df_tarjeta_credito_info.show()"
      ]
    },
    {
      "cell_type": "markdown",
      "metadata": {
        "id": "6HpzRY0GpDyf"
      },
      "source": [
        "#### sum()   \n",
        "\n",
        "Podemos especificar un campo en el sum pero si no lo hacemos hará el sumatorio de todos los campos numéricos"
      ]
    },
    {
      "cell_type": "code",
      "execution_count": null,
      "metadata": {
        "colab": {
          "base_uri": "https://localhost:8080/"
        },
        "id": "UTqDTPv1oxuK",
        "outputId": "012173ec-ee1c-4ca9-9be3-1782998e8223"
      },
      "outputs": [
        {
          "output_type": "stream",
          "name": "stdout",
          "text": [
            "+------+-------------+---------+----------------------+\n",
            "|genero| sum(cliente)|sum(edad)|sum(limite de credito)|\n",
            "+------+-------------+---------+----------------------+\n",
            "|     M|3527394286161|   219915|  6.0473500899999894E7|\n",
            "|     F|3956028957831|   248815|   2.690771120000024E7|\n",
            "|  null|    718813833|     null|               10100.0|\n",
            "+------+-------------+---------+----------------------+\n",
            "\n"
          ]
        }
      ],
      "source": [
        "df_tarjeta_credito_info.groupBy('genero').sum().orderBy('sum(limite de credito)', ascending=False).show()"
      ]
    },
    {
      "cell_type": "code",
      "execution_count": null,
      "metadata": {
        "colab": {
          "base_uri": "https://localhost:8080/"
        },
        "id": "403qeWUyq6-Z",
        "outputId": "81d42d14-5251-4ef7-f2f9-9b581ba9014f"
      },
      "outputs": [
        {
          "output_type": "stream",
          "name": "stdout",
          "text": [
            "+------+----------------------+\n",
            "|genero|sum(limite de credito)|\n",
            "+------+----------------------+\n",
            "|     M|  6.0473500899999894E7|\n",
            "|     F|   2.690771120000024E7|\n",
            "|  null|               10100.0|\n",
            "+------+----------------------+\n",
            "\n"
          ]
        }
      ],
      "source": [
        "df_tarjeta_credito_info.groupBy('genero').sum('limite de credito').orderBy('sum(limite de credito)', ascending=False).show()"
      ]
    },
    {
      "cell_type": "markdown",
      "metadata": {
        "id": "vOUPYUn5t13k"
      },
      "source": [
        "#### mean()\n",
        "\n",
        "Nos da el valor medio de un campo"
      ]
    },
    {
      "cell_type": "code",
      "execution_count": null,
      "metadata": {
        "colab": {
          "base_uri": "https://localhost:8080/"
        },
        "id": "WW9r19EutTp7",
        "outputId": "7d4f0916-247a-4b7b-f54d-191cac2ecbb1"
      },
      "outputs": [
        {
          "output_type": "stream",
          "name": "stdout",
          "text": [
            "+------+----------------------+\n",
            "|genero|avg(limite de credito)|\n",
            "+------+----------------------+\n",
            "|     M|     12685.86131739037|\n",
            "|  null|               10100.0|\n",
            "|     F|     5022.906701512085|\n",
            "+------+----------------------+\n",
            "\n"
          ]
        }
      ],
      "source": [
        "df_tarjeta_credito_info.groupBy('genero').mean('limite de credito').orderBy('avg(limite de credito)', ascending=False).show()"
      ]
    },
    {
      "cell_type": "markdown",
      "metadata": {
        "id": "M6t6gtOrq1uL"
      },
      "source": [
        "#### count()"
      ]
    },
    {
      "cell_type": "code",
      "execution_count": null,
      "metadata": {
        "colab": {
          "base_uri": "https://localhost:8080/"
        },
        "id": "QG4Od59Tq3lH",
        "outputId": "12975e23-a847-4b14-be78-1ca170e88c1c"
      },
      "outputs": [
        {
          "output_type": "stream",
          "name": "stdout",
          "text": [
            "+------+-----+\n",
            "|genero|count|\n",
            "+------+-----+\n",
            "|     F| 5357|\n",
            "|     M| 4767|\n",
            "|  null|    1|\n",
            "+------+-----+\n",
            "\n"
          ]
        }
      ],
      "source": [
        "df_tarjeta_credito_info.groupBy('genero').count().orderBy('count', ascending=False).show()"
      ]
    },
    {
      "cell_type": "markdown",
      "metadata": {
        "id": "qatQZNi75ONf"
      },
      "source": [
        "#### max() / min()"
      ]
    },
    {
      "cell_type": "markdown",
      "source": [
        "Nos devuelvo el valor máximo de todos los campos numéricos del DF"
      ],
      "metadata": {
        "id": "S-w3SaJOKgd3"
      }
    },
    {
      "cell_type": "code",
      "execution_count": null,
      "metadata": {
        "colab": {
          "base_uri": "https://localhost:8080/"
        },
        "id": "6XY5mEiN5bLU",
        "outputId": "fa8e6553-4fb3-4611-d540-fbdc731c1803"
      },
      "outputs": [
        {
          "output_type": "stream",
          "name": "stdout",
          "text": [
            "+------+------------+---------+----------------------+\n",
            "|genero|max(cliente)|max(edad)|max(limite de credito)|\n",
            "+------+------------+---------+----------------------+\n",
            "|     M|   828298908|       73|               34516.0|\n",
            "|     F|   828343083|       67|               34516.0|\n",
            "|  null|   718813833|     null|               10100.0|\n",
            "+------+------------+---------+----------------------+\n",
            "\n"
          ]
        }
      ],
      "source": [
        "df_tarjeta_credito_info.groupBy('genero').max().orderBy('max(limite de credito)', ascending=False).show()"
      ]
    },
    {
      "cell_type": "code",
      "execution_count": null,
      "metadata": {
        "colab": {
          "base_uri": "https://localhost:8080/"
        },
        "id": "2qZ1CVPm5SJB",
        "outputId": "a53b7660-11bb-4238-91fc-3de31b5321c6"
      },
      "outputs": [
        {
          "output_type": "stream",
          "name": "stdout",
          "text": [
            "+------+------------+---------+----------------------+\n",
            "|genero|min(cliente)|min(edad)|min(limite de credito)|\n",
            "+------+------------+---------+----------------------+\n",
            "|  null|   718813833|     null|               10100.0|\n",
            "|     F|   708082083|       26|                1438.3|\n",
            "|     M|   708083283|       26|                1438.3|\n",
            "+------+------------+---------+----------------------+\n",
            "\n"
          ]
        }
      ],
      "source": [
        "df_tarjeta_credito_info.groupBy('genero').min().orderBy('min(limite de credito)', ascending=False).show()"
      ]
    },
    {
      "cell_type": "markdown",
      "metadata": {
        "id": "K-SZOd_4zd2C"
      },
      "source": [
        "#### agg()\n",
        "\n",
        "Nos permite usar funciones de agregación directamente sin usar previamente un groupBy()"
      ]
    },
    {
      "cell_type": "code",
      "execution_count": null,
      "metadata": {
        "colab": {
          "base_uri": "https://localhost:8080/"
        },
        "id": "N4muFo4Vzd2D",
        "outputId": "becfd120-579c-45cd-8596-028af71a8a3f"
      },
      "outputs": [
        {
          "output_type": "stream",
          "name": "stdout",
          "text": [
            "+------+------------------+---------------------+---------------------+-----------------+\n",
            "|genero|numero de clientes|límite de crédito max|límite de crédito min| media de crédito|\n",
            "+------+------------------+---------------------+---------------------+-----------------+\n",
            "|     M|              4767|              34516.0|               1438.3|12685.86131739037|\n",
            "|  null|                 0|              10100.0|              10100.0|          10100.0|\n",
            "|     F|              5357|              34516.0|               1438.3|5022.906701512085|\n",
            "+------+------------------+---------------------+---------------------+-----------------+\n",
            "\n"
          ]
        }
      ],
      "source": [
        "df_tarjeta_credito_info\\\n",
        "                      .groupBy('genero')\\\n",
        "                      .agg(\\\n",
        "                          F.count('genero').alias('numero de clientes'),\\\n",
        "                          F.max('limite de credito').alias('límite de crédito max'),\\\n",
        "                          F.min('limite de credito').alias('límite de crédito min'),\\\n",
        "                          F.avg('limite de credito').alias('media de crédito')\\\n",
        "                          )\\\n",
        "                          .orderBy('media de crédito', ascending=False)\\\n",
        "                          .show()"
      ]
    },
    {
      "cell_type": "code",
      "execution_count": null,
      "metadata": {
        "colab": {
          "base_uri": "https://localhost:8080/"
        },
        "id": "YVI8jZrczd2E",
        "outputId": "b4e225cd-578d-49d2-a378-6490728c3932"
      },
      "outputs": [
        {
          "output_type": "stream",
          "name": "stdout",
          "text": [
            "+------+--------------+---------+----------------------+\n",
            "|genero|count(cliente)|min(edad)|max(limite de credito)|\n",
            "+------+--------------+---------+----------------------+\n",
            "|     F|          5357|       26|               34516.0|\n",
            "|  null|             1|     null|               10100.0|\n",
            "|     M|          4767|       26|               34516.0|\n",
            "+------+--------------+---------+----------------------+\n",
            "\n"
          ]
        }
      ],
      "source": [
        "df_tarjeta_credito_info\\\n",
        "                        .groupBy('genero')\\\n",
        "                        .agg({\\\n",
        "                              'limite de credito':'max',\\\n",
        "                              'edad':'min',\\\n",
        "                              'cliente':'count'\\\n",
        "                              })\\\n",
        "                        .show()"
      ]
    },
    {
      "cell_type": "markdown",
      "metadata": {
        "id": "ZRjAyQ1M5Mvf"
      },
      "source": [
        "---"
      ]
    },
    {
      "cell_type": "code",
      "execution_count": null,
      "metadata": {
        "colab": {
          "base_uri": "https://localhost:8080/"
        },
        "id": "s45X8m6XvX9_",
        "outputId": "863a4128-05cb-441b-f1a3-420cf5e5360f"
      },
      "outputs": [
        {
          "output_type": "stream",
          "name": "stdout",
          "text": [
            "+------+------------+---------------------+\n",
            "|genero|num clientes|límite de crédito max|\n",
            "+------+------------+---------------------+\n",
            "|     F|          40|              34516.0|\n",
            "|     M|         468|              34516.0|\n",
            "+------+------------+---------------------+\n",
            "\n"
          ]
        }
      ],
      "source": [
        "max_limit = df_tarjeta_credito_info.agg({'limite de credito':'max'}).collect()[0]['max(limite de credito)']\n",
        "\n",
        "\n",
        "df_tarjeta_credito_info\\\n",
        "                        .filter(F.col('limite de credito')==max_limit)\\\n",
        "                        .groupBy(F.col('genero'))\\\n",
        "                        .agg(\\\n",
        "                              F.count('genero').alias('num clientes'),\\\n",
        "                              F.max('limite de credito').alias('límite de crédito max')\\\n",
        "                              ).show()\n"
      ]
    },
    {
      "cell_type": "code",
      "source": [
        "df_tarjeta_credito_info\\\n",
        "                        .withColumn(\\\n",
        "                                    'ratio credito', \\\n",
        "                                    (F.col('limite de credito')/df_tarjeta_credito_info.agg({'limite de credito':'max'}).collect()[0]['max(limite de credito)'])*100\\\n",
        "                                    ).show()"
      ],
      "metadata": {
        "id": "i1wqOzvifWHs",
        "colab": {
          "base_uri": "https://localhost:8080/"
        },
        "outputId": "af433c89-cd31-4ae4-c38e-7699538740ad"
      },
      "execution_count": null,
      "outputs": [
        {
          "output_type": "stream",
          "name": "stdout",
          "text": [
            "+---------+----+------+--------------+-----------------+------------------+\n",
            "|  cliente|edad|genero|        sueldo|limite de credito|     ratio credito|\n",
            "+---------+----+------+--------------+-----------------+------------------+\n",
            "|768805383|  45|     M|   $60K - $80K|          12691.0|36.768455209178356|\n",
            "|818770008|  49|     F|Less than $40K|           8256.0|23.919341754548615|\n",
            "|713982108|  51|     M|  $80K - $120K|           3418.0| 9.902653841696605|\n",
            "|769911858|  40|     F|Less than $40K|           3313.0| 9.598447096998493|\n",
            "|709106358|null|     M|   $60K - $80K|           4716.0| 13.66322864758373|\n",
            "|713061558|  44|     M|   $40K - $60K|           4010.0|11.617800440375477|\n",
            "|810347208|  51|     M|       $120K +|          34516.0|             100.0|\n",
            "|818906208|  32|     M|   $60K - $80K|          29081.0| 84.25367945300731|\n",
            "|710930508|  37|     M|          null|          22352.0| 64.75837292849693|\n",
            "|719661558|  48|     M|  $80K - $120K|          11656.0|33.769845868582685|\n",
            "|718813833|null|  null|          null|          10100.0| 29.26179163286592|\n",
            "|708790833|null|     M|       $120K +|           6748.0|19.550353459265267|\n",
            "|710821833|  65|     M|   $40K - $60K|           9095.0|26.350098505041142|\n",
            "|710599683|  56|     M|  $80K - $120K|          11751.0| 34.04508054235717|\n",
            "|816082233|null|     M|          null|           8547.0| 24.76242901842624|\n",
            "|712396908|null|     F|Less than $40K|           2436.0| 7.057596476996175|\n",
            "|714885258|null|     M|  $80K - $120K|           4234.0|12.266774829064781|\n",
            "|709967358|  48|     M|  $80K - $120K|          30367.0| 87.97948777378608|\n",
            "|753327333|  41|     M|  $80K - $120K|          13535.0| 39.21369799513269|\n",
            "|806160108|  61|     M|   $40K - $60K|           3193.0| 9.250782245914937|\n",
            "+---------+----+------+--------------+-----------------+------------------+\n",
            "only showing top 20 rows\n",
            "\n"
          ]
        }
      ]
    },
    {
      "cell_type": "markdown",
      "metadata": {
        "id": "yJWNhwuCtx4K"
      },
      "source": [
        "### Cruzando Dataframes\n"
      ]
    },
    {
      "cell_type": "markdown",
      "metadata": {
        "id": "DZSToRHqaOau"
      },
      "source": [
        "#### joins\n",
        "\n"
      ]
    },
    {
      "cell_type": "code",
      "execution_count": null,
      "metadata": {
        "colab": {
          "base_uri": "https://localhost:8080/"
        },
        "id": "mBCm-ggcaWQ6",
        "outputId": "57613a1f-b944-4d99-b472-913b15b5869e"
      },
      "outputs": [
        {
          "output_type": "stream",
          "name": "stdout",
          "text": [
            "+---------+----+------+--------------+-----------------+\n",
            "|  cliente|edad|genero|        sueldo|limite de credito|\n",
            "+---------+----+------+--------------+-----------------+\n",
            "|768805383|  45|     M|   $60K - $80K|          12691.0|\n",
            "|818770008|  49|     F|Less than $40K|           8256.0|\n",
            "|713982108|  51|     M|  $80K - $120K|           3418.0|\n",
            "|769911858|  40|     F|Less than $40K|           3313.0|\n",
            "|709106358|null|     M|   $60K - $80K|           4716.0|\n",
            "|713061558|  44|     M|   $40K - $60K|           4010.0|\n",
            "|810347208|  51|     M|       $120K +|          34516.0|\n",
            "|818906208|  32|     M|   $60K - $80K|          29081.0|\n",
            "|710930508|  37|     M|          null|          22352.0|\n",
            "|719661558|  48|     M|  $80K - $120K|          11656.0|\n",
            "|718813833|null|  null|          null|          10100.0|\n",
            "|708790833|null|     M|       $120K +|           6748.0|\n",
            "|710821833|  65|     M|   $40K - $60K|           9095.0|\n",
            "|710599683|  56|     M|  $80K - $120K|          11751.0|\n",
            "|816082233|null|     M|          null|           8547.0|\n",
            "|712396908|null|     F|Less than $40K|           2436.0|\n",
            "|714885258|null|     M|  $80K - $120K|           4234.0|\n",
            "|709967358|  48|     M|  $80K - $120K|          30367.0|\n",
            "|753327333|  41|     M|  $80K - $120K|          13535.0|\n",
            "|806160108|  61|     M|   $40K - $60K|           3193.0|\n",
            "+---------+----+------+--------------+-----------------+\n",
            "only showing top 20 rows\n",
            "\n",
            "+---------+---------------+\n",
            "|CLIENTNUM|Education_Level|\n",
            "+---------+---------------+\n",
            "|768805383|    High School|\n",
            "|818770008|       Graduate|\n",
            "|713982108|       Graduate|\n",
            "|769911858|    High School|\n",
            "|709106358|     Uneducated|\n",
            "|713061558|       Graduate|\n",
            "|810347208|           null|\n",
            "|818906208|    High School|\n",
            "|710930508|     Uneducated|\n",
            "|719661558|       Graduate|\n",
            "|708790833|     Uneducated|\n",
            "|710821833|           null|\n",
            "|710599683|        College|\n",
            "|816082233|       Graduate|\n",
            "|712396908|       Graduate|\n",
            "|714885258|           null|\n",
            "|709967358|  Post-Graduate|\n",
            "|753327333|           null|\n",
            "|806160108|    High School|\n",
            "|709327383|       Graduate|\n",
            "+---------+---------------+\n",
            "only showing top 20 rows\n",
            "\n"
          ]
        }
      ],
      "source": [
        "df_tarjeta_credito_info.show()\n",
        "df_tarjeta_credito_estudios.show()"
      ]
    },
    {
      "cell_type": "code",
      "execution_count": null,
      "metadata": {
        "colab": {
          "base_uri": "https://localhost:8080/"
        },
        "id": "jGyzpTfco29k",
        "outputId": "8ea55fe3-e132-46c8-a368-e8b2ca6ff64b"
      },
      "outputs": [
        {
          "output_type": "stream",
          "name": "stdout",
          "text": [
            "+---------+----+------+--------------+-----------------+---------+---------------+\n",
            "|  cliente|edad|genero|        sueldo|limite de credito|CLIENTNUM|Education_Level|\n",
            "+---------+----+------+--------------+-----------------+---------+---------------+\n",
            "|768805383|  45|     M|   $60K - $80K|          12691.0|768805383|    High School|\n",
            "|818770008|  49|     F|Less than $40K|           8256.0|818770008|       Graduate|\n",
            "|713982108|  51|     M|  $80K - $120K|           3418.0|713982108|       Graduate|\n",
            "|769911858|  40|     F|Less than $40K|           3313.0|769911858|    High School|\n",
            "|709106358|null|     M|   $60K - $80K|           4716.0|709106358|     Uneducated|\n",
            "+---------+----+------+--------------+-----------------+---------+---------------+\n",
            "only showing top 5 rows\n",
            "\n"
          ]
        }
      ],
      "source": [
        "# inner join\n",
        "\n",
        "df_tarjeta_credito_info.join(df_tarjeta_credito_estudios,\\\n",
        "                                                        on=[df_tarjeta_credito_info.cliente==df_tarjeta_credito_estudios.CLIENTNUM],\\\n",
        "                                                        how='inner')\\\n",
        "                                                        .select('*').show(5)"
      ]
    },
    {
      "cell_type": "code",
      "execution_count": null,
      "metadata": {
        "colab": {
          "base_uri": "https://localhost:8080/"
        },
        "id": "RkrzFrpqi_hZ",
        "outputId": "f9820949-2142-4884-ef6e-e957ec89c8bf"
      },
      "outputs": [
        {
          "output_type": "stream",
          "name": "stdout",
          "text": [
            "+---------+----+------+------------+-----------------+\n",
            "|  cliente|edad|genero|      sueldo|limite de credito|\n",
            "+---------+----+------+------------+-----------------+\n",
            "|778348233|  53|     M|$80K - $120K|           2753.0|\n",
            "|771490833|  52|     M|$80K - $120K|           4745.0|\n",
            "+---------+----+------+------------+-----------------+\n",
            "\n"
          ]
        }
      ],
      "source": [
        "# leftanti -> nos devuelve los registros de la tabla de la izq q NO hacen match (solo campos de la tabla de la izq)\n",
        "\n",
        "df_tarjeta_credito_info.join(df_tarjeta_credito_estudios,\\\n",
        "                                                        on=[df_tarjeta_credito_info.cliente==df_tarjeta_credito_estudios.CLIENTNUM],\\\n",
        "                                                        how='leftanti').show()"
      ]
    }
  ],
  "metadata": {
    "colab": {
      "provenance": [],
      "toc_visible": true
    },
    "kernelspec": {
      "display_name": "Python 3",
      "name": "python3"
    },
    "language_info": {
      "name": "python"
    }
  },
  "nbformat": 4,
  "nbformat_minor": 0
}