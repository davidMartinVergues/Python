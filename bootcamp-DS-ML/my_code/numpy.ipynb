{
 "cells": [
  {
   "cell_type": "markdown",
   "metadata": {},
   "source": [
    "# numpy library\n",
    "\n",
    "Numpy es una librería para python de algebra lineal. Esta librería suele ser la base sobre la que se construye el resto de librerías para el análisis de datos.\n",
    "\n",
    "## Arrays \n",
    "\n",
    "La principal estructura de datos que usaremos con numpy son los arrays. Éstas pueden tener dos implementaciones:\n",
    "\n",
    "- vectores -> array de 1 dimensión\n",
    "- matrices -> array de 2 dimensiones\n",
    "\n",
    "PAra crear un array de numpy partimos del objeto `list`  de python. "
   ]
  },
  {
   "cell_type": "markdown",
   "metadata": {},
   "source": [
    "### Cómo creamos arrays (1D 2D) en numpy\n",
    "\n",
    "tenemos varias maneras de hacer esto:"
   ]
  },
  {
   "cell_type": "markdown",
   "metadata": {},
   "source": [
    "1. A partir de un  objeto list de python"
   ]
  },
  {
   "cell_type": "code",
   "execution_count": 5,
   "metadata": {},
   "outputs": [
    {
     "data": {
      "text/plain": [
       "[1, 2, 3]"
      ]
     },
     "execution_count": 5,
     "metadata": {},
     "output_type": "execute_result"
    }
   ],
   "source": [
    "my_list = [1,2,3]\n",
    "my_list"
   ]
  },
  {
   "cell_type": "code",
   "execution_count": 3,
   "metadata": {},
   "outputs": [],
   "source": [
    "import numpy as np"
   ]
  },
  {
   "cell_type": "markdown",
   "metadata": {},
   "source": [
    "- 1D array"
   ]
  },
  {
   "cell_type": "code",
   "execution_count": null,
   "metadata": {},
   "outputs": [
    {
     "data": {
      "text/plain": [
       "array(['a', 'b', 'c'], dtype='<U1')"
      ]
     },
     "metadata": {},
     "output_type": "display_data"
    }
   ],
   "source": [
    "np_array = np.array(['a','b','c'])\n",
    "np_array"
   ]
  },
  {
   "cell_type": "markdown",
   "metadata": {},
   "source": [
    "* 2D array o Matrices"
   ]
  },
  {
   "cell_type": "code",
   "execution_count": null,
   "metadata": {},
   "outputs": [
    {
     "data": {
      "text/plain": [
       "array([['a', 'b', 'c'],\n",
       "       ['d', 'e', 'f']], dtype='<U1')"
      ]
     },
     "metadata": {},
     "output_type": "display_data"
    }
   ],
   "source": [
    "np_matrix = np.array([\n",
    "    ['a','b','c'],\n",
    "    ['d','e','f']\n",
    "    ])\n",
    "\n",
    "np_matrix"
   ]
  },
  {
   "cell_type": "markdown",
   "metadata": {},
   "source": [
    "Cuando construimos un array 2D internamente esos valores crean un bloque en memoria con los valores consecutivos"
   ]
  },
  {
   "cell_type": "code",
   "execution_count": 72,
   "metadata": {},
   "outputs": [
    {
     "data": {
      "text/plain": [
       "array([[ 5, 10, 15, 20],\n",
       "       [25, 30, 35, 40],\n",
       "       [45, 50, 55, 60]])"
      ]
     },
     "execution_count": 72,
     "metadata": {},
     "output_type": "execute_result"
    }
   ],
   "source": [
    "np_matrix = np.array([\n",
    "    [5,10,15,20],\n",
    "    [25,30,35,40],\n",
    "    [45,50,55,60]\n",
    "    ])\n",
    "\n",
    "np_matrix"
   ]
  },
  {
   "cell_type": "markdown",
   "metadata": {},
   "source": [
    "como es un array BIDIMENSIONAL numpy crea dos ejes (`axis 0` y `axis 1`)\n",
    "\n",
    "![not found](../../img/10.png)\n",
    "\n",
    "![not found](../../img/11.png)"
   ]
  },
  {
   "cell_type": "markdown",
   "metadata": {},
   "source": [
    "por eso cuando queremos acceder usando los dobles corchetes lo q hacemos es indicar primero la posición en el axis 0 y después del eje 1"
   ]
  },
  {
   "cell_type": "code",
   "execution_count": 73,
   "metadata": {},
   "outputs": [
    {
     "data": {
      "text/plain": [
       "25"
      ]
     },
     "execution_count": 73,
     "metadata": {},
     "output_type": "execute_result"
    }
   ],
   "source": [
    "np_matrix[1][0]"
   ]
  },
  {
   "cell_type": "code",
   "execution_count": 74,
   "metadata": {},
   "outputs": [
    {
     "data": {
      "text/plain": [
       "25"
      ]
     },
     "execution_count": 74,
     "metadata": {},
     "output_type": "execute_result"
    }
   ],
   "source": [
    "np_matrix[1,0]"
   ]
  },
  {
   "cell_type": "markdown",
   "metadata": {},
   "source": [
    "Cuando utilizamos la función `sum()`  de los arrays de numpy al pasarle el argumento `axis` lo tenemos que ver sobre qué eje colapsará la matriz, si ponemos axis=0 colapsarán las filas unas encima de otras por lo q los valores de cada columna se sumarán."
   ]
  },
  {
   "cell_type": "code",
   "execution_count": 86,
   "metadata": {},
   "outputs": [
    {
     "data": {
      "text/plain": [
       "array([[ 5, 10, 15, 20],\n",
       "       [25, 30, 35, 40],\n",
       "       [45, 50, 55, 60]])"
      ]
     },
     "execution_count": 86,
     "metadata": {},
     "output_type": "execute_result"
    }
   ],
   "source": [
    "np_matrix"
   ]
  },
  {
   "cell_type": "code",
   "execution_count": 87,
   "metadata": {},
   "outputs": [
    {
     "name": "stdout",
     "output_type": "stream",
     "text": [
      " colapsamos a lo largo del axis0 : [ 75  90 105 120]\n",
      " colapsamos a lo largo del axis0 : [ 50 130 210]\n"
     ]
    }
   ],
   "source": [
    "print(f' colapsamos a lo largo del axis0 : {np.sum(np_matrix,axis=0)}')\n",
    "print(f' colapsamos a lo largo del axis0 : {np.sum(np_matrix,axis=1)}')"
   ]
  },
  {
   "cell_type": "code",
   "execution_count": 89,
   "metadata": {},
   "outputs": [
    {
     "data": {
      "text/plain": [
       "array([[ 0, 10, 15, 20],\n",
       "       [25,  0, 35, 40],\n",
       "       [45, 50,  0, 60]])"
      ]
     },
     "execution_count": 89,
     "metadata": {},
     "output_type": "execute_result"
    }
   ],
   "source": [
    "np_matrix[ [0,1,2], [0,1,2]] = 0\n",
    "np_matrix\n"
   ]
  },
  {
   "cell_type": "markdown",
   "metadata": {},
   "source": [
    "* 3D array"
   ]
  },
  {
   "cell_type": "code",
   "execution_count": 92,
   "metadata": {},
   "outputs": [
    {
     "data": {
      "text/plain": [
       "array([[[10, 20],\n",
       "        [30, 40],\n",
       "        [50, 60]],\n",
       "\n",
       "       [[11, 12],\n",
       "        [13, 14],\n",
       "        [15, 16]]])"
      ]
     },
     "execution_count": 92,
     "metadata": {},
     "output_type": "execute_result"
    }
   ],
   "source": [
    "np_3D = np.array(\n",
    "[\n",
    "    [\n",
    "        [10,20],\n",
    "        [30,40],\n",
    "        [50,60]\n",
    "        \n",
    "    ],\n",
    "    [\n",
    "        [11,12],\n",
    "        [13,14],\n",
    "        [15,16]\n",
    "    ]\n",
    "]\n",
    ")\n",
    "\n",
    "np_3D"
   ]
  },
  {
   "cell_type": "markdown",
   "metadata": {},
   "source": [
    "Para imaginarnos una matriz de `3 dimensiones` podemos utilizar la imagen de una row de matrices 2D  \n",
    "\n",
    "![not found](../../img/12.png)"
   ]
  },
  {
   "cell_type": "code",
   "execution_count": 91,
   "metadata": {},
   "outputs": [
    {
     "data": {
      "text/plain": [
       "array([[[ 1,  5],\n",
       "        [ 3,  5],\n",
       "        [ 5,  5]],\n",
       "\n",
       "       [[10, 20],\n",
       "        [30, 40],\n",
       "        [50, 60]]])"
      ]
     },
     "execution_count": 91,
     "metadata": {},
     "output_type": "execute_result"
    }
   ],
   "source": [
    "np_3D[0,:,1]= 5\n",
    "\n",
    "np_3D"
   ]
  },
  {
   "cell_type": "markdown",
   "metadata": {},
   "source": [
    "[0, : , 1 ]   \n",
    "            => (0) cogemos la primera matriz  \n",
    "            => (:) cogemos todas las filas  \n",
    "            => (1) cogemos la columna con índice 1  \n",
    "\n",
    "\n",
    "![not found](../../img/14.png)"
   ]
  },
  {
   "cell_type": "markdown",
   "metadata": {},
   "source": [
    "si tuviera 4D sería matriz de filas de matrices\n",
    "\n",
    "![not found](../../img/13.png)"
   ]
  },
  {
   "cell_type": "markdown",
   "metadata": {},
   "source": [
    "---\n",
    "2. Generar array de una secuencia con `arange(strat,stop,step)`\n",
    "\n",
    "arange == array range, implementación del range de python pero devolviendo un objeto array\n",
    "\n",
    "start -> inclusive   \n",
    "stop  -> exclusive\n",
    "\n",
    "Por defecto starts at 0 y el step es 1"
   ]
  },
  {
   "cell_type": "code",
   "execution_count": 20,
   "metadata": {},
   "outputs": [
    {
     "data": {
      "text/plain": [
       "array([0, 1, 2, 3, 4, 5, 6, 7, 8, 9])"
      ]
     },
     "execution_count": 20,
     "metadata": {},
     "output_type": "execute_result"
    }
   ],
   "source": [
    "# arange(start,end,step)\n",
    "my_numpy_array = np.arange(10)\n",
    "\n",
    "my_numpy_array"
   ]
  },
  {
   "cell_type": "code",
   "execution_count": 28,
   "metadata": {},
   "outputs": [
    {
     "data": {
      "text/plain": [
       "array([0, 2, 4, 6, 8])"
      ]
     },
     "execution_count": 28,
     "metadata": {},
     "output_type": "execute_result"
    }
   ],
   "source": [
    "my_numpy_array_pares = np.arange(0,10,2)\n",
    "\n",
    "my_numpy_array_pares"
   ]
  },
  {
   "cell_type": "markdown",
   "metadata": {},
   "source": [
    "---\n",
    "3. `zeros()` method de numpy\n",
    "\n",
    "Nos generará un array de 0s. Esta función solo tiene un atributo obligatorio y es el `shape` del array resultante que lo pasamos como una tupla."
   ]
  },
  {
   "cell_type": "code",
   "execution_count": 21,
   "metadata": {},
   "outputs": [
    {
     "data": {
      "text/plain": [
       "array([0., 0., 0., 0., 0., 0., 0., 0., 0., 0.])"
      ]
     },
     "execution_count": 21,
     "metadata": {},
     "output_type": "execute_result"
    }
   ],
   "source": [
    "my_numpy_array_all_zeros = np.zeros(10)\n",
    "my_numpy_array_all_zeros\n"
   ]
  },
  {
   "cell_type": "code",
   "execution_count": 27,
   "metadata": {},
   "outputs": [
    {
     "data": {
      "text/plain": [
       "array([[0., 0., 0., 0., 0., 0., 0., 0., 0., 0.],\n",
       "       [0., 0., 0., 0., 0., 0., 0., 0., 0., 0.],\n",
       "       [0., 0., 0., 0., 0., 0., 0., 0., 0., 0.],\n",
       "       [0., 0., 0., 0., 0., 0., 0., 0., 0., 0.],\n",
       "       [0., 0., 0., 0., 0., 0., 0., 0., 0., 0.],\n",
       "       [0., 0., 0., 0., 0., 0., 0., 0., 0., 0.],\n",
       "       [0., 0., 0., 0., 0., 0., 0., 0., 0., 0.],\n",
       "       [0., 0., 0., 0., 0., 0., 0., 0., 0., 0.],\n",
       "       [0., 0., 0., 0., 0., 0., 0., 0., 0., 0.],\n",
       "       [0., 0., 0., 0., 0., 0., 0., 0., 0., 0.]])"
      ]
     },
     "execution_count": 27,
     "metadata": {},
     "output_type": "execute_result"
    }
   ],
   "source": [
    "# le podemos pasar una tupla para generar una matriz de zeros con tantas filas y columnas indique la tupla\n",
    "my_numpy_matrix_all_zeros = np.zeros( (10,10))\n",
    "my_numpy_matrix_all_zeros"
   ]
  },
  {
   "cell_type": "markdown",
   "metadata": {},
   "source": [
    "Si nos fijamos devuelve 0 en formato float (por defecto ) si necesitamos enteros podemos especificarlo con `dtype=\"int64\" `"
   ]
  },
  {
   "cell_type": "code",
   "execution_count": 53,
   "metadata": {},
   "outputs": [
    {
     "data": {
      "text/plain": [
       "array([[0, 0, 0],\n",
       "       [0, 0, 0],\n",
       "       [0, 0, 0]])"
      ]
     },
     "execution_count": 53,
     "metadata": {},
     "output_type": "execute_result"
    }
   ],
   "source": [
    "np.zeros( shape=(3,3), dtype='int64')"
   ]
  },
  {
   "cell_type": "markdown",
   "metadata": {},
   "source": [
    "---\n",
    "4. `ones()` method de numpy"
   ]
  },
  {
   "cell_type": "code",
   "execution_count": 26,
   "metadata": {},
   "outputs": [
    {
     "data": {
      "text/plain": [
       "array([[1., 1., 1., 1., 1., 1., 1., 1., 1., 1.],\n",
       "       [1., 1., 1., 1., 1., 1., 1., 1., 1., 1.],\n",
       "       [1., 1., 1., 1., 1., 1., 1., 1., 1., 1.],\n",
       "       [1., 1., 1., 1., 1., 1., 1., 1., 1., 1.],\n",
       "       [1., 1., 1., 1., 1., 1., 1., 1., 1., 1.],\n",
       "       [1., 1., 1., 1., 1., 1., 1., 1., 1., 1.],\n",
       "       [1., 1., 1., 1., 1., 1., 1., 1., 1., 1.],\n",
       "       [1., 1., 1., 1., 1., 1., 1., 1., 1., 1.],\n",
       "       [1., 1., 1., 1., 1., 1., 1., 1., 1., 1.],\n",
       "       [1., 1., 1., 1., 1., 1., 1., 1., 1., 1.]])"
      ]
     },
     "execution_count": 26,
     "metadata": {},
     "output_type": "execute_result"
    }
   ],
   "source": [
    "# tenemos el mismo método pero para generar 1s\n",
    "\n",
    "my_numpy_matrix_all_ones = np.ones( (10,10))\n",
    "my_numpy_matrix_all_ones"
   ]
  },
  {
   "cell_type": "markdown",
   "metadata": {},
   "source": [
    "---\n",
    "2. `full()` Generar array que contenga un mismo valor\n",
    "\n",
    "muy similar a la anterior pero pasamos el valor que contendrá el array"
   ]
  },
  {
   "cell_type": "code",
   "execution_count": null,
   "metadata": {},
   "outputs": [
    {
     "data": {
      "text/plain": [
       "array([['cat', 'cat', 'cat', 'cat', 'cat'],\n",
       "       ['cat', 'cat', 'cat', 'cat', 'cat'],\n",
       "       ['cat', 'cat', 'cat', 'cat', 'cat']], dtype='<U3')"
      ]
     },
     "metadata": {},
     "output_type": "display_data"
    }
   ],
   "source": [
    "np.full( shape=(3,5), fill_value=\"cat\" )"
   ]
  },
  {
   "attachments": {},
   "cell_type": "markdown",
   "metadata": {},
   "source": [
    "---\n",
    "5. `linspace(start,stop,num)` method de numpy\n",
    "\n",
    "Con este método obtenemos un **VECTOR** con tantos floats como le indiquemos dentro de un rango especificado, es muy parecido a arange pero este método no acepta el argumento step en su lugar lo calcula por nosotros para devolvernos una sucesión de tantos números como le indiquemos separados entre sí por la misma distancia."
   ]
  },
  {
   "cell_type": "code",
   "execution_count": 61,
   "metadata": {},
   "outputs": [
    {
     "data": {
      "text/plain": [
       "array([ 0.        ,  5.55555556, 11.11111111, 16.66666667, 22.22222222,\n",
       "       27.77777778, 33.33333333, 38.88888889, 44.44444444, 50.        ])"
      ]
     },
     "execution_count": 61,
     "metadata": {},
     "output_type": "execute_result"
    }
   ],
   "source": [
    "# linspace(start,stop, items)\n",
    "my_numpy_array_with_floats = np.linspace(0,50,10)\n",
    "my_numpy_array_with_floats"
   ]
  },
  {
   "cell_type": "code",
   "execution_count": 19,
   "metadata": {},
   "outputs": [
    {
     "data": {
      "text/plain": [
       "array([2.        , 2.21428571, 2.42857143, 2.64285714, 2.85714286,\n",
       "       3.07142857, 3.28571429, 3.5       , 3.71428571, 3.92857143,\n",
       "       4.14285714, 4.35714286, 4.57142857, 4.78571429, 5.        ])"
      ]
     },
     "execution_count": 19,
     "metadata": {},
     "output_type": "execute_result"
    }
   ],
   "source": [
    "np.linspace(2,5,15)"
   ]
  },
  {
   "cell_type": "code",
   "execution_count": 20,
   "metadata": {},
   "outputs": [
    {
     "data": {
      "text/plain": [
       "[2.0,\n",
       " 2.2142857142857144,\n",
       " 2.4285714285714284,\n",
       " 2.642857142857143,\n",
       " 2.857142857142857,\n",
       " 3.071428571428571,\n",
       " 3.2857142857142856,\n",
       " 3.5,\n",
       " 3.7142857142857144,\n",
       " 3.9285714285714284,\n",
       " 4.142857142857142,\n",
       " 4.357142857142858,\n",
       " 4.571428571428571,\n",
       " 4.785714285714286,\n",
       " 5.0]"
      ]
     },
     "execution_count": 20,
     "metadata": {},
     "output_type": "execute_result"
    }
   ],
   "source": [
    "step = (5-2) / 14  # Divide the range into 14 intervals\n",
    "[2 + step*interval for interval in range(15)]\n"
   ]
  },
  {
   "attachments": {},
   "cell_type": "markdown",
   "metadata": {},
   "source": [
    "esta función puede acceptar como start y stop un array, estos arrays deben tener siempre la misma longitud, de tal forma que devolverá una matriz en la q cada columna será la distancia entre el item correspondiente del array de inicio con el item del array de stop \n",
    "\n",
    "en esta función existe un tercer argumentos `axis` que nos permite orientar esta matriz en el eje 0 o 1 (por defecto es axis=0) "
   ]
  },
  {
   "cell_type": "code",
   "execution_count": 28,
   "metadata": {},
   "outputs": [
    {
     "data": {
      "text/plain": [
       "array([[ 0. ,  5. , 10. ],\n",
       "       [ 2.5,  7.5, 12.5],\n",
       "       [ 5. , 10. , 15. ],\n",
       "       [ 7.5, 12.5, 17.5],\n",
       "       [10. , 15. , 20. ]])"
      ]
     },
     "execution_count": 28,
     "metadata": {},
     "output_type": "execute_result"
    }
   ],
   "source": [
    "np.linspace(start=[0,5,10],stop=[10,15,20], num= 5)"
   ]
  },
  {
   "cell_type": "code",
   "execution_count": 29,
   "metadata": {},
   "outputs": [
    {
     "data": {
      "text/plain": [
       "array([[ 0. ,  2.5,  5. ,  7.5, 10. ],\n",
       "       [ 5. ,  7.5, 10. , 12.5, 15. ],\n",
       "       [10. , 12.5, 15. , 17.5, 20. ]])"
      ]
     },
     "execution_count": 29,
     "metadata": {},
     "output_type": "execute_result"
    }
   ],
   "source": [
    "np.linspace(start=[0,5,10],stop=[10,15,20], num= 5, axis= 1)"
   ]
  },
  {
   "cell_type": "markdown",
   "metadata": {},
   "source": [
    "---\n",
    "6. `eye()` method de numpy\n",
    "\n",
    "Con este método obtenemos una **MATRIZ** cuadrada (mismo número de filas q de columnas) con una diagonal de 1s y el resto 0s. La longitud de esa diagonal dependerá del argumento que le pasemos."
   ]
  },
  {
   "cell_type": "code",
   "execution_count": 34,
   "metadata": {},
   "outputs": [
    {
     "data": {
      "text/plain": [
       "array([[1., 0., 0., 0.],\n",
       "       [0., 1., 0., 0.],\n",
       "       [0., 0., 1., 0.],\n",
       "       [0., 0., 0., 1.]])"
      ]
     },
     "execution_count": 34,
     "metadata": {},
     "output_type": "execute_result"
    }
   ],
   "source": [
    "np.eye(4)"
   ]
  },
  {
   "cell_type": "markdown",
   "metadata": {},
   "source": [
    "---\n",
    "5. `random` librería de numpy\n",
    "   \n",
    "\n",
    "Con este método obtenemos un **VECTOR** de números aleatorios. Hay muchos métodos asociados a random"
   ]
  },
  {
   "cell_type": "markdown",
   "metadata": {},
   "source": [
    "1. `random.rand()`\n",
    "\n",
    "Crea un array con números aleatorios siguiendo una distribución uniforme continua entre 0 y 1. Esto son valores que son igualmente probables."
   ]
  },
  {
   "cell_type": "code",
   "execution_count": 35,
   "metadata": {},
   "outputs": [
    {
     "data": {
      "text/plain": [
       "array([0.6889802 , 0.1076583 , 0.01718556, 0.38687735, 0.8048123 ])"
      ]
     },
     "execution_count": 35,
     "metadata": {},
     "output_type": "execute_result"
    }
   ],
   "source": [
    "np.random.rand(5)"
   ]
  },
  {
   "cell_type": "markdown",
   "metadata": {},
   "source": [
    " Si le pasamos dos argumentos obtendremos una matriz de tantas filas y columnas como indiquemos."
   ]
  },
  {
   "cell_type": "code",
   "execution_count": 36,
   "metadata": {},
   "outputs": [
    {
     "data": {
      "text/plain": [
       "array([[0.25623533, 0.6856197 , 0.27062885, 0.91208668, 0.26693637],\n",
       "       [0.53304596, 0.30156866, 0.20066465, 0.18936629, 0.93109745],\n",
       "       [0.51361192, 0.00563403, 0.94819684, 0.15939958, 0.45942   ],\n",
       "       [0.67201294, 0.75736582, 0.54632939, 0.86049626, 0.67303527],\n",
       "       [0.21972332, 0.88573755, 0.35405025, 0.18458412, 0.85303295]])"
      ]
     },
     "execution_count": 36,
     "metadata": {},
     "output_type": "execute_result"
    }
   ],
   "source": [
    "np.random.rand(5,5)"
   ]
  },
  {
   "cell_type": "markdown",
   "metadata": {},
   "source": [
    "2. `random.randn()`\n",
    "\n",
    "En este caso nos devolverá un vector o una matriz de números aleatorios entre 0 y 1 pero siguiendo una distribución normal o de GAUSSIAN"
   ]
  },
  {
   "cell_type": "code",
   "execution_count": 37,
   "metadata": {},
   "outputs": [
    {
     "data": {
      "text/plain": [
       "array([ 0.23038071, -1.56075398,  0.71175868, -1.9609358 ,  1.89424902])"
      ]
     },
     "execution_count": 37,
     "metadata": {},
     "output_type": "execute_result"
    }
   ],
   "source": [
    "np.random.randn(5)"
   ]
  },
  {
   "cell_type": "code",
   "execution_count": 40,
   "metadata": {},
   "outputs": [
    {
     "data": {
      "text/plain": [
       "array([[ 0.25483774, -0.38069919, -0.14975704, -0.29213181, -0.0577875 ],\n",
       "       [ 0.26414598,  1.44585143, -0.2644027 ,  0.37485831,  2.95136954],\n",
       "       [-0.81439929,  0.92320972, -0.31951123, -0.47036418, -0.27572224],\n",
       "       [ 0.38879302,  0.01038197, -0.36875331,  1.70112662, -1.25496152],\n",
       "       [-1.44063941, -1.2862593 , -0.15482413, -2.73514673, -0.36912146]])"
      ]
     },
     "execution_count": 40,
     "metadata": {},
     "output_type": "execute_result"
    }
   ],
   "source": [
    "np.random.randn(5,5)"
   ]
  },
  {
   "cell_type": "markdown",
   "metadata": {},
   "source": [
    "3. `random.randint(low,high,size)`\n",
    "\n",
    "Nos devuelve un/varios **INTEGER** aleatorio/s contenido en un intervalo donde el límite inferior está incluido y el mayor excluido. Podemos pasar un tercer argumento q es el número de integers devueltos."
   ]
  },
  {
   "cell_type": "code",
   "execution_count": 43,
   "metadata": {},
   "outputs": [
    {
     "data": {
      "text/plain": [
       "array([29, 45, 65,  2, 39, 47, 45, 11, 14,  8])"
      ]
     },
     "execution_count": 43,
     "metadata": {},
     "output_type": "execute_result"
    }
   ],
   "source": [
    "# [start,end,items)\n",
    "# [  -> means inclusive interval\n",
    "# ( -> means exclusive interval\n",
    "\n",
    "np.random.randint(1,100,10)"
   ]
  },
  {
   "cell_type": "code",
   "execution_count": 49,
   "metadata": {},
   "outputs": [
    {
     "data": {
      "text/plain": [
       "array([[10, 11, 14],\n",
       "       [10, 12, 17]])"
      ]
     },
     "execution_count": 49,
     "metadata": {},
     "output_type": "execute_result"
    }
   ],
   "source": [
    "np.random.randint(low=10,high=20,size=(2,3))"
   ]
  },
  {
   "attachments": {},
   "cell_type": "markdown",
   "metadata": {},
   "source": [
    "### Usando NaN para representa valores missings o valores no válidos\n",
    "\n",
    "El valor NaN es un tipo de dato especial en numpy ya que está implementado como un constante númerica tipo float pero es tratado por np de manera diferente, hasta el punto q si hacemos np.nan == np.nan es False.\n",
    "\n",
    "Como nan es un tipo de float solo puede existir en matrices del tipo float.\n",
    "\n"
   ]
  },
  {
   "cell_type": "code",
   "execution_count": 49,
   "metadata": {},
   "outputs": [
    {
     "data": {
      "text/plain": [
       "False"
      ]
     },
     "execution_count": 49,
     "metadata": {},
     "output_type": "execute_result"
    }
   ],
   "source": [
    "np.nan == np.nan"
   ]
  },
  {
   "attachments": {},
   "cell_type": "markdown",
   "metadata": {},
   "source": [
    "Así para evaluar si en nuestros datos tenemos valores `nan` debemos usar la función `np.isnan`"
   ]
  },
  {
   "cell_type": "code",
   "execution_count": 50,
   "metadata": {},
   "outputs": [
    {
     "data": {
      "text/plain": [
       "array([[ 1., nan,  1.,  1.],\n",
       "       [ 1.,  1.,  1.,  1.],\n",
       "       [ 1.,  1., nan,  1.]])"
      ]
     },
     "execution_count": 50,
     "metadata": {},
     "output_type": "execute_result"
    }
   ],
   "source": [
    "bot = np.ones(shape=(3,4))\n",
    "bot[ [0,2], [1,2]] = np.nan\n",
    "bot"
   ]
  },
  {
   "cell_type": "code",
   "execution_count": 55,
   "metadata": {},
   "outputs": [
    {
     "data": {
      "text/plain": [
       "array([[False,  True, False, False],\n",
       "       [False, False, False, False],\n",
       "       [False, False,  True, False]])"
      ]
     },
     "execution_count": 55,
     "metadata": {},
     "output_type": "execute_result"
    }
   ],
   "source": [
    "np.isnan(bot)\n",
    "\n"
   ]
  },
  {
   "attachments": {},
   "cell_type": "markdown",
   "metadata": {},
   "source": [
    "### Representar valores infinitos en numpy\n",
    "\n",
    "Como el caso de los valores nan los valores infinito y infinito negativo son representados como constantes floats que son tratados de manera especial por numpy.\n",
    "\n",
    "\n",
    "\n"
   ]
  },
  {
   "cell_type": "code",
   "execution_count": 56,
   "metadata": {},
   "outputs": [
    {
     "data": {
      "text/plain": [
       "array([ inf, -inf])"
      ]
     },
     "execution_count": 56,
     "metadata": {},
     "output_type": "execute_result"
    }
   ],
   "source": [
    "np.array([np.inf, np.NINF])"
   ]
  },
  {
   "cell_type": "markdown",
   "metadata": {},
   "source": [
    "## Métodos de los arrays"
   ]
  },
  {
   "attachments": {},
   "cell_type": "markdown",
   "metadata": {},
   "source": [
    "1. `reshape()`\n",
    "\n",
    "Nos permite modificar un array d 1D y convertirlo en una matriz de tantas filas y columnas como le pasemos pero siempre respetando la longitud del array original, Es decir si partpo de un array de 25 posiciones y hago un reshape tiene q tener un número de filas y columnas compatible con 25 posiciones. Reshape devuelve una copia del array original **NO** modifica el array original!!\n",
    "\n",
    "teniendo en cuenta q rechape no modifica el original si quisieramos modificarlo en luegar de reasignar usando reshape"
   ]
  },
  {
   "cell_type": "code",
   "execution_count": 81,
   "metadata": {},
   "outputs": [
    {
     "data": {
      "text/plain": [
       "array([[0, 1, 2, 3],\n",
       "       [4, 5, 6, 7]])"
      ]
     },
     "execution_count": 81,
     "metadata": {},
     "output_type": "execute_result"
    }
   ],
   "source": [
    "foo = np.arange(8)\n",
    "\n",
    "foo = foo.reshape(2,4)\n",
    "foo"
   ]
  },
  {
   "attachments": {},
   "cell_type": "markdown",
   "metadata": {},
   "source": [
    "podemos usar el atributo `shape` de los arrays y así modificamos directamente"
   ]
  },
  {
   "cell_type": "code",
   "execution_count": 83,
   "metadata": {},
   "outputs": [
    {
     "data": {
      "text/plain": [
       "array([[0, 1, 2, 3],\n",
       "       [4, 5, 6, 7]])"
      ]
     },
     "execution_count": 83,
     "metadata": {},
     "output_type": "execute_result"
    }
   ],
   "source": [
    "foo = np.arange(8)\n",
    "\n",
    "foo.shape = (2,4)\n",
    "foo"
   ]
  },
  {
   "cell_type": "code",
   "execution_count": 58,
   "metadata": {},
   "outputs": [],
   "source": [
    "numpy_arr_1      = np.arange(30)\n",
    "numpy_arr_random = np.random.randint(0,50,10)"
   ]
  },
  {
   "cell_type": "code",
   "execution_count": 59,
   "metadata": {},
   "outputs": [
    {
     "data": {
      "text/plain": [
       "array([[ 0,  1,  2,  3,  4,  5],\n",
       "       [ 6,  7,  8,  9, 10, 11],\n",
       "       [12, 13, 14, 15, 16, 17],\n",
       "       [18, 19, 20, 21, 22, 23],\n",
       "       [24, 25, 26, 27, 28, 29]])"
      ]
     },
     "execution_count": 59,
     "metadata": {},
     "output_type": "execute_result"
    }
   ],
   "source": [
    "# reshape(rows, columns) \n",
    "numpy_arr_1.reshape(5,6)"
   ]
  },
  {
   "cell_type": "code",
   "execution_count": 53,
   "metadata": {},
   "outputs": [
    {
     "data": {
      "text/plain": [
       "array([1, 2, 3, 4, 5, 6, 7, 8])"
      ]
     },
     "execution_count": 53,
     "metadata": {},
     "output_type": "execute_result"
    }
   ],
   "source": [
    "foo = np.arange(start=1, stop=9)\n",
    "foo"
   ]
  },
  {
   "attachments": {},
   "cell_type": "markdown",
   "metadata": {},
   "source": [
    "Podemos convertir foo en una matriz de 2 X 4 usando el método reshape, podemos usar dos interfaces, directamente sobre el array 1D o bien usar el método sobre numpy. Son dos interfaces pero con la misma implementación."
   ]
  },
  {
   "cell_type": "code",
   "execution_count": 54,
   "metadata": {},
   "outputs": [
    {
     "data": {
      "text/plain": [
       "array([[1, 2, 3, 4],\n",
       "       [5, 6, 7, 8]])"
      ]
     },
     "execution_count": 54,
     "metadata": {},
     "output_type": "execute_result"
    }
   ],
   "source": [
    "foo.reshape(2,4)"
   ]
  },
  {
   "cell_type": "code",
   "execution_count": 57,
   "metadata": {},
   "outputs": [
    {
     "data": {
      "text/plain": [
       "array([[1, 2, 3, 4],\n",
       "       [5, 6, 7, 8]])"
      ]
     },
     "execution_count": 57,
     "metadata": {},
     "output_type": "execute_result"
    }
   ],
   "source": [
    "np.reshape(a = foo, newshape= (2,4))"
   ]
  },
  {
   "attachments": {},
   "cell_type": "markdown",
   "metadata": {},
   "source": [
    "Este reshape puede hacerse con diferente orden: C == Row major order (por defecto) o F (column order major)"
   ]
  },
  {
   "attachments": {},
   "cell_type": "markdown",
   "metadata": {},
   "source": [
    "lo que hace el orden C es q desde nuestro array 1D [1, 2, 3, 4, 5, 6, 7, 8] lo transforma a 2D => 4 (filas) x 2(columnas) empieza a tomar los números hasta comletar una primera fila (como el 2D resultante tiene dos columnas) toma los primeros 2 número y genera una fila con ellos para obtener dos columnas\n",
    "\n",
    "![not found](../../img/27.png)"
   ]
  },
  {
   "cell_type": "code",
   "execution_count": 86,
   "metadata": {},
   "outputs": [
    {
     "data": {
      "text/plain": [
       "array([[0, 1],\n",
       "       [2, 3],\n",
       "       [4, 5],\n",
       "       [6, 7]])"
      ]
     },
     "execution_count": 86,
     "metadata": {},
     "output_type": "execute_result"
    }
   ],
   "source": [
    "foo.reshape( (4,2), order='C')"
   ]
  },
  {
   "attachments": {},
   "cell_type": "markdown",
   "metadata": {},
   "source": [
    "Si obtamos por el orden F lo q rellena primero son las columnas, si tenemos el array [1, 2, 3, 4, 5, 6, 7, 8]  los 4 primeros números forman las columnas en posición 0 y los últimos 4 números la columna 1"
   ]
  },
  {
   "cell_type": "code",
   "execution_count": 65,
   "metadata": {},
   "outputs": [
    {
     "data": {
      "text/plain": [
       "array([[1, 5],\n",
       "       [2, 6],\n",
       "       [3, 7],\n",
       "       [4, 8]])"
      ]
     },
     "execution_count": 65,
     "metadata": {},
     "output_type": "execute_result"
    }
   ],
   "source": [
    "foo.reshape( (4,2), order='F')"
   ]
  },
  {
   "attachments": {},
   "cell_type": "markdown",
   "metadata": {},
   "source": [
    "Ahora bien qué sucede si en lugar de partir de un array 1D partimos ya de una matriz, por ejemplo:"
   ]
  },
  {
   "cell_type": "code",
   "execution_count": 71,
   "metadata": {},
   "outputs": [
    {
     "data": {
      "text/plain": [
       "array([[1, 2, 3, 4],\n",
       "       [5, 6, 7, 8]])"
      ]
     },
     "execution_count": 71,
     "metadata": {},
     "output_type": "execute_result"
    }
   ],
   "source": [
    "bar = foo.reshape(2,4)\n",
    "bar"
   ]
  },
  {
   "attachments": {},
   "cell_type": "markdown",
   "metadata": {},
   "source": [
    "En el caso de orden C no cambia xq empieza por el índice 0,0 y va comletando el nuevo array"
   ]
  },
  {
   "cell_type": "code",
   "execution_count": 72,
   "metadata": {},
   "outputs": [
    {
     "data": {
      "text/plain": [
       "array([[1, 2],\n",
       "       [3, 4],\n",
       "       [5, 6],\n",
       "       [7, 8]])"
      ]
     },
     "execution_count": 72,
     "metadata": {},
     "output_type": "execute_result"
    }
   ],
   "source": [
    "bar.reshape( (4,2), order='C' )"
   ]
  },
  {
   "attachments": {},
   "cell_type": "markdown",
   "metadata": {},
   "source": [
    "Pero si aplicamos el orden F genera primero las columnas y para ello va cogiendo los números de la columna con índice 0 en nuestro caso coge primero el 1 (0,0) y el 5 (1,0) como nos queda por completar sigue por la columna 1 q sería el 2 (0,1) y el 6 (1,1) y así iría completando"
   ]
  },
  {
   "cell_type": "code",
   "execution_count": 73,
   "metadata": {},
   "outputs": [
    {
     "data": {
      "text/plain": [
       "array([[1, 3],\n",
       "       [5, 7],\n",
       "       [2, 4],\n",
       "       [6, 8]])"
      ]
     },
     "execution_count": 73,
     "metadata": {},
     "output_type": "execute_result"
    }
   ],
   "source": [
    "bar.reshape( (4,2), order='F' )"
   ]
  },
  {
   "attachments": {},
   "cell_type": "markdown",
   "metadata": {},
   "source": [
    "**TIP**\n",
    "\n",
    "hay una manera para hacer un reshape fijando una de las dimensiones resultantes y dejar a numpy calcular la otra y es usando el `-1 ` "
   ]
  },
  {
   "cell_type": "code",
   "execution_count": 78,
   "metadata": {},
   "outputs": [
    {
     "data": {
      "text/plain": [
       "array([[1, 2],\n",
       "       [3, 4],\n",
       "       [5, 6],\n",
       "       [7, 8]])"
      ]
     },
     "execution_count": 78,
     "metadata": {},
     "output_type": "execute_result"
    }
   ],
   "source": [
    "bar.reshape(4,-1)"
   ]
  },
  {
   "attachments": {},
   "cell_type": "markdown",
   "metadata": {},
   "source": [
    "2. transponse()\n",
    "\n",
    "Solo funciona en arrays de 2D hacia adelante. Lo q hace en convinar, en el caso de un array 2D, todos los valores de la primera columna de las ditintas filas en una fila. Mirar el ejemplo:"
   ]
  },
  {
   "attachments": {},
   "cell_type": "markdown",
   "metadata": {},
   "source": [
    "![not found](../../img/28.png)"
   ]
  },
  {
   "cell_type": "code",
   "execution_count": 105,
   "metadata": {},
   "outputs": [
    {
     "data": {
      "text/plain": [
       "array([[1, 2, 3, 4],\n",
       "       [5, 6, 7, 8]])"
      ]
     },
     "execution_count": 105,
     "metadata": {},
     "output_type": "execute_result"
    }
   ],
   "source": [
    "boo = np.arange(start=1, stop=9)\n",
    "boo.shape = (2,4)\n",
    "boo"
   ]
  },
  {
   "cell_type": "code",
   "execution_count": 106,
   "metadata": {},
   "outputs": [
    {
     "data": {
      "text/plain": [
       "array([[1, 5],\n",
       "       [2, 6],\n",
       "       [3, 7],\n",
       "       [4, 8]])"
      ]
     },
     "execution_count": 106,
     "metadata": {},
     "output_type": "execute_result"
    }
   ],
   "source": [
    "boo = boo.T\n",
    "boo"
   ]
  },
  {
   "cell_type": "code",
   "execution_count": 107,
   "metadata": {},
   "outputs": [
    {
     "data": {
      "text/plain": [
       "(4, 2)"
      ]
     },
     "execution_count": 107,
     "metadata": {},
     "output_type": "execute_result"
    }
   ],
   "source": [
    "boo.shape"
   ]
  },
  {
   "cell_type": "code",
   "execution_count": 17,
   "metadata": {},
   "outputs": [
    {
     "data": {
      "text/plain": [
       "array([['Dennis', 'Dee', 'Charlie', 'Mac', 'Frank'],\n",
       "       ['43', '44', '43', '42', '74'],\n",
       "       ['male', 'female', 'male', 'male', 'male']], dtype='<U21')"
      ]
     },
     "execution_count": 17,
     "metadata": {},
     "output_type": "execute_result"
    }
   ],
   "source": [
    "names = np.array([ \n",
    "    ['Dennis','Dee','Charlie','Mac','Frank'],\n",
    "    [43,44,43,42,74],\n",
    "    ['male','female','male','male','male']\n",
    "    ])\n",
    "names"
   ]
  },
  {
   "cell_type": "code",
   "execution_count": 18,
   "metadata": {},
   "outputs": [
    {
     "data": {
      "text/plain": [
       "array([['Dennis', '43', 'male'],\n",
       "       ['Dee', '44', 'female'],\n",
       "       ['Charlie', '43', 'male'],\n",
       "       ['Mac', '42', 'male'],\n",
       "       ['Frank', '74', 'male']], dtype='<U21')"
      ]
     },
     "execution_count": 18,
     "metadata": {},
     "output_type": "execute_result"
    }
   ],
   "source": [
    "names.transpose()"
   ]
  },
  {
   "cell_type": "markdown",
   "metadata": {},
   "source": [
    "2. `max() / min()`\n",
    "\n",
    "Nos devuelve el max y min valor dentro de un array (tanto de integers como floats)"
   ]
  },
  {
   "cell_type": "code",
   "execution_count": 64,
   "metadata": {},
   "outputs": [
    {
     "data": {
      "text/plain": [
       "44"
      ]
     },
     "execution_count": 64,
     "metadata": {},
     "output_type": "execute_result"
    }
   ],
   "source": [
    "numpy_arr_random.max()"
   ]
  },
  {
   "cell_type": "code",
   "execution_count": 65,
   "metadata": {},
   "outputs": [
    {
     "data": {
      "text/plain": [
       "1"
      ]
     },
     "execution_count": 65,
     "metadata": {},
     "output_type": "execute_result"
    }
   ],
   "source": [
    "numpy_arr_random.min()"
   ]
  },
  {
   "cell_type": "markdown",
   "metadata": {},
   "source": [
    "3. `argmax() / argmin()`\n",
    "\n",
    "Nos devuelve el ínidice dónde se encuentra el valor máximo y mínimo"
   ]
  },
  {
   "cell_type": "code",
   "execution_count": 68,
   "metadata": {},
   "outputs": [
    {
     "data": {
      "text/plain": [
       "2"
      ]
     },
     "execution_count": 68,
     "metadata": {},
     "output_type": "execute_result"
    }
   ],
   "source": [
    "numpy_arr_random.argmax()"
   ]
  },
  {
   "cell_type": "code",
   "execution_count": 67,
   "metadata": {},
   "outputs": [
    {
     "data": {
      "text/plain": [
       "0"
      ]
     },
     "execution_count": 67,
     "metadata": {},
     "output_type": "execute_result"
    }
   ],
   "source": [
    "numpy_arr_random.argmin()"
   ]
  },
  {
   "cell_type": "markdown",
   "metadata": {},
   "source": [
    "3. `shape` atributo\n",
    "\n",
    "nos devuelve una tupla con la estructura del array. Si es:\n",
    "- 1D nos devuelve el número de items (25,)\n",
    "- 2D matriz nos devolvería (5,5) == (filas, columnas)"
   ]
  },
  {
   "cell_type": "code",
   "execution_count": 69,
   "metadata": {},
   "outputs": [
    {
     "data": {
      "text/plain": [
       "(10,)"
      ]
     },
     "execution_count": 69,
     "metadata": {},
     "output_type": "execute_result"
    }
   ],
   "source": [
    "numpy_arr_random.shape"
   ]
  },
  {
   "cell_type": "code",
   "execution_count": 70,
   "metadata": {},
   "outputs": [
    {
     "data": {
      "text/plain": [
       "(10, 10)"
      ]
     },
     "execution_count": 70,
     "metadata": {},
     "output_type": "execute_result"
    }
   ],
   "source": [
    "my_numpy_matrix_all_ones.shape"
   ]
  },
  {
   "cell_type": "markdown",
   "metadata": {},
   "source": [
    "4. `dtype` atributo\n",
    "\n",
    "Nos devuelve el tipo de datos que contiene el array siempre y cuando ese array contenga un único tipo de dato."
   ]
  },
  {
   "cell_type": "code",
   "execution_count": 58,
   "metadata": {},
   "outputs": [
    {
     "data": {
      "text/plain": [
       "dtype('int64')"
      ]
     },
     "execution_count": 58,
     "metadata": {},
     "output_type": "execute_result"
    }
   ],
   "source": [
    "my = [1,2,3]\n",
    "my_numpy = np.array(my)\n",
    "\n",
    "my_numpy.dtype"
   ]
  },
  {
   "cell_type": "markdown",
   "metadata": {},
   "source": [
    "5. `ndim` nos devuelve la dimensión del array"
   ]
  },
  {
   "cell_type": "code",
   "execution_count": 60,
   "metadata": {},
   "outputs": [
    {
     "data": {
      "text/plain": [
       "1"
      ]
     },
     "execution_count": 60,
     "metadata": {},
     "output_type": "execute_result"
    }
   ],
   "source": [
    "my_numpy.ndim"
   ]
  },
  {
   "cell_type": "markdown",
   "metadata": {},
   "source": [
    "6. `len` vs `size`\n",
    "\n",
    "Si miramos la longitud del array 2D nos dará el número de elementos contenidos en el primer array, es decir 2, si hacemos size de un 2D nos dará el total de elementos contenidos en el array"
   ]
  },
  {
   "cell_type": "code",
   "execution_count": 62,
   "metadata": {},
   "outputs": [
    {
     "name": "stdout",
     "output_type": "stream",
     "text": [
      "len() del 2D => 2\n",
      "size del 2D => 10\n"
     ]
    }
   ],
   "source": [
    "my_2d_arr = np.array([\n",
    "    [1,2,3,4,5],\n",
    "    [6,7,8,9,10]\n",
    "])\n",
    "\n",
    "print(f'len() del 2D => {len(my_2d_arr)}')\n",
    "print(f'size del 2D => {my_2d_arr.size}')"
   ]
  },
  {
   "cell_type": "markdown",
   "metadata": {},
   "source": [
    "## Numpy indexing and selection"
   ]
  },
  {
   "cell_type": "markdown",
   "metadata": {},
   "source": [
    "Para acceder a los elementos de un array de numpy es igual q las listas de python"
   ]
  },
  {
   "cell_type": "code",
   "execution_count": 64,
   "metadata": {},
   "outputs": [
    {
     "data": {
      "text/plain": [
       "10"
      ]
     },
     "execution_count": 64,
     "metadata": {},
     "output_type": "execute_result"
    }
   ],
   "source": [
    "foo = np.array([10,20,30,40,50])\n",
    "\n",
    "foo[0]"
   ]
  },
  {
   "cell_type": "markdown",
   "metadata": {},
   "source": [
    "También podemos pasar un array con los índices q necesitamos, incluso podemos repetir índices "
   ]
  },
  {
   "cell_type": "code",
   "execution_count": null,
   "metadata": {},
   "outputs": [
    {
     "data": {
      "text/plain": [
       "array([10, 10, 20])"
      ]
     },
     "metadata": {},
     "output_type": "display_data"
    }
   ],
   "source": [
    "\n",
    "\n",
    "foo[ [0,0,1] ]"
   ]
  },
  {
   "cell_type": "markdown",
   "metadata": {},
   "source": [
    "siguiendo esta sintaxis tb podemos modificar varios elementos a la vez, pero la list q le pasemos tiene q tener la misma longitud q el número de elementos a cambiar"
   ]
  },
  {
   "cell_type": "code",
   "execution_count": 70,
   "metadata": {},
   "outputs": [
    {
     "data": {
      "text/plain": [
       "array([99, 20, 30, 88, 77])"
      ]
     },
     "execution_count": 70,
     "metadata": {},
     "output_type": "execute_result"
    }
   ],
   "source": [
    "foo[ [0,3,4] ]  = [99, 88 ,77]\n",
    "\n",
    "foo"
   ]
  },
  {
   "cell_type": "markdown",
   "metadata": {},
   "source": [
    "Podemos modificar varios elementos a un mismo valor"
   ]
  },
  {
   "cell_type": "code",
   "execution_count": 71,
   "metadata": {},
   "outputs": [
    {
     "data": {
      "text/plain": [
       "array([66, 20, 30, 66, 66])"
      ]
     },
     "execution_count": 71,
     "metadata": {},
     "output_type": "execute_result"
    }
   ],
   "source": [
    "foo[ [0,3,4] ]  = 66\n",
    "\n",
    "foo"
   ]
  },
  {
   "cell_type": "markdown",
   "metadata": {},
   "source": [
    "#### 1. Slicing \n",
    "\n",
    "A diferencia que en python cuando hacemos un slicing en numpy no hacemos una copia del array original y ambos son independientes, sino que en numpy un slincing es más bien una **VISTA** del array original. NUMPY FUNCIONA ASÍ PARA EVITAR PROBLEMAS DE MEMORIA EN ARRAYS MUY GRANDES. \n",
    "\n",
    "El problea de esto es que si cambiamos el subarray resultante de splicing tb modificamos el array original"
   ]
  },
  {
   "cell_type": "code",
   "execution_count": 69,
   "metadata": {},
   "outputs": [
    {
     "name": "stdout",
     "output_type": "stream",
     "text": [
      "array original :        [100  20  30  40  50]\n",
      "subarray con splicing : [100  20  30]\n"
     ]
    }
   ],
   "source": [
    "foo2 = np.array([10,20,30,40,50])\n",
    "\n",
    "foo3 = foo2[:3]\n",
    "\n",
    "foo3[0] = 100\n",
    "\n",
    "print(f'array original :        {foo2}')\n",
    "print(f'subarray con splicing : {foo3}')"
   ]
  },
  {
   "cell_type": "markdown",
   "metadata": {},
   "source": [
    "Este es el comportamiento por defecto pero si realemte queremos hacer una copia con el slincing tenemos que primero hacer una copia con el método `copy()`"
   ]
  },
  {
   "cell_type": "code",
   "execution_count": 63,
   "metadata": {},
   "outputs": [
    {
     "name": "stdout",
     "output_type": "stream",
     "text": [
      "int64\n",
      "[ 0  1  2  3  4  5  6  7  8  9 10] <class 'numpy.ndarray'>\n",
      "[100   1   2] <class 'numpy.ndarray'>\n"
     ]
    }
   ],
   "source": [
    "arr = np.arange(11)\n",
    "\n",
    "arr2 = arr.copy()[:3]\n",
    "\n",
    "\n",
    "arr2[0] = 100\n",
    "print(arr2.dtype )\n",
    "print(arr,type(arr))\n",
    "print(arr2,type(arr2))\n"
   ]
  },
  {
   "cell_type": "code",
   "execution_count": 95,
   "metadata": {},
   "outputs": [
    {
     "name": "stdout",
     "output_type": "stream",
     "text": [
      "[0]   -> 0\n",
      "[1:5] -> [1 2 3 4]\n",
      "[0:5] -> [0 1 2 3 4]\n",
      "[:5]  -> [0 1 2 3 4]\n",
      "[5:]  -> [ 5  6  7  8  9 10]\n"
     ]
    }
   ],
   "source": [
    "print(f'[0]   -> {arr[0]}')    # getting first element\n",
    "print(f'[1:5] -> {arr[1:5]}')  # elementos entre posición 1 (incluido) y posición 5 (NO incluido)\n",
    "print(f'[0:5] -> {arr[0:5]}')\n",
    "print(f'[:5]  -> {arr[:5]}')   # elementos entre la primera posición (incluido) hasta la posición 5 (NO incluido)\n",
    "print(f'[5:]  -> {arr[5:]}')   # elementos desde posición  (NO incluido) hasta el final"
   ]
  },
  {
   "attachments": {},
   "cell_type": "markdown",
   "metadata": {},
   "source": [
    "#### 2. Broadcast\n",
    "\n",
    "El broadcasting en numpy es cuando aplicamos un valor a todos los elementos de un array o bien cuando operamos entre arrays de la misma longitud cada elementos de un array opera con el elemento correspondiente del otroa array"
   ]
  },
  {
   "cell_type": "code",
   "execution_count": 34,
   "metadata": {},
   "outputs": [
    {
     "data": {
      "text/plain": [
       "array([11, 12, 13])"
      ]
     },
     "execution_count": 34,
     "metadata": {},
     "output_type": "execute_result"
    }
   ],
   "source": [
    "np.array([1,2,3]) + 10 "
   ]
  },
  {
   "cell_type": "code",
   "execution_count": 35,
   "metadata": {},
   "outputs": [
    {
     "data": {
      "text/plain": [
       "array([11, 22, 33])"
      ]
     },
     "execution_count": 35,
     "metadata": {},
     "output_type": "execute_result"
    }
   ],
   "source": [
    "np.array([1,2,3]) + np.array([10,20,30])"
   ]
  },
  {
   "attachments": {},
   "cell_type": "markdown",
   "metadata": {},
   "source": [
    "![not found](../../img/17.png)"
   ]
  },
  {
   "attachments": {},
   "cell_type": "markdown",
   "metadata": {},
   "source": [
    "Si intentamos sumar una matriz (2D-array) con 1D-array, siempre y cuando tengan el mismo número de \" columnas \" numpy no da error "
   ]
  },
  {
   "attachments": {},
   "cell_type": "markdown",
   "metadata": {},
   "source": [
    "![not found](../../img/18.png)"
   ]
  },
  {
   "attachments": {},
   "cell_type": "markdown",
   "metadata": {},
   "source": [
    "si `boo ` tuviera una longitud mayor o menor no podríamos hacer broadcast. Nos daría error"
   ]
  },
  {
   "attachments": {},
   "cell_type": "markdown",
   "metadata": {},
   "source": [
    "![not found](../../img/19.png)"
   ]
  },
  {
   "attachments": {},
   "cell_type": "markdown",
   "metadata": {},
   "source": [
    "* Reglas del brodcasting\n",
    "\n",
    "Si tenemos un array A y un array B...\n",
    "\n",
    "1. Se comprueba que cada dimensión de cada array son compatibles\n",
    "2. Dos dimensiones son compatibles si tienen la misma longitud o una de ellas es 1\n",
    "\n",
    "Para comparar dimensiones empezamos por el final!!\n",
    "\n",
    "Si tenemos los arrays A y B\n",
    "\n",
    "![not found](../../img/20.png)\n"
   ]
  },
  {
   "attachments": {},
   "cell_type": "markdown",
   "metadata": {},
   "source": [
    "como la útima dimensión de B es 1 y la primera dimensión es 3 y 2 son arrays compatibles para el broadcast"
   ]
  },
  {
   "attachments": {},
   "cell_type": "markdown",
   "metadata": {},
   "source": [
    "el siguiente ejemplo no permite el broadcast pq la primera dimensión no es compatible.\n",
    "\n",
    "![not found](../../img/21.png)"
   ]
  },
  {
   "attachments": {},
   "cell_type": "markdown",
   "metadata": {},
   "source": [
    "Como último ejemplo tenemos lo siguiente:\n",
    "\n",
    "![not found](../../img/22.png)"
   ]
  },
  {
   "attachments": {},
   "cell_type": "markdown",
   "metadata": {},
   "source": [
    "en este caso podemos ir adaptando las dimensiones de cada array para q puedan cuadrar y así poder operar. En array B falta la primera dimensión en su defecto se adapta a la de A\n",
    "\n",
    "![not found](../../img/23.png)"
   ]
  },
  {
   "attachments": {},
   "cell_type": "markdown",
   "metadata": {},
   "source": [
    "Entender esto es útil porque por ejemplo si yo tengo dos arrays A y B y quiero restar cada elemento de B a cada elemento de A\n",
    "\n",
    "![not found](../../img/24.png)\n",
    "\n",
    "\n",
    "Esto nos dara error pero si somos capaces de modificar el `shape` del array podremos obtener lo q buscamos aprovechando el broadcasting.\n",
    "\n",
    "Transformamos los array 1D en matrices \n",
    "\n",
    "![not found](../../img/25.png)\n",
    "\n",
    "\n",
    "teniendo esto podemos aplicar broadcasting y sería como realizar la siguiente oiperación\n",
    "\n",
    "![not found](../../img/26.png)"
   ]
  },
  {
   "attachments": {},
   "cell_type": "markdown",
   "metadata": {},
   "source": [
    "Para combertir el 1D-array A  en una matriz (4,1) hacemos `A[:,np.newaxis]` "
   ]
  },
  {
   "cell_type": "code",
   "execution_count": 45,
   "metadata": {},
   "outputs": [
    {
     "data": {
      "text/plain": [
       "array([[ 3],\n",
       "       [11],\n",
       "       [ 4],\n",
       "       [ 5]])"
      ]
     },
     "execution_count": 45,
     "metadata": {},
     "output_type": "execute_result"
    }
   ],
   "source": [
    "A=np.array([ 3, 11, 4, 5])\n",
    "\n",
    "\n",
    "# (4,1)\n",
    "A = A[:,np.newaxis]\n",
    "A"
   ]
  },
  {
   "cell_type": "code",
   "execution_count": 51,
   "metadata": {},
   "outputs": [
    {
     "data": {
      "text/plain": [
       "array([[5, 0, 3]])"
      ]
     },
     "execution_count": 51,
     "metadata": {},
     "output_type": "execute_result"
    }
   ],
   "source": [
    "B=np.array([ 5, 0, 3])\n",
    "\n",
    "\n",
    "# (1,3)\n",
    "B = B[np.newaxis,:]\n",
    "B"
   ]
  },
  {
   "attachments": {},
   "cell_type": "markdown",
   "metadata": {},
   "source": [
    "Una vez hecha esta transformación ya podemos aplicar la operación"
   ]
  },
  {
   "cell_type": "code",
   "execution_count": 49,
   "metadata": {},
   "outputs": [
    {
     "data": {
      "text/plain": [
       "array([[-2,  3,  0],\n",
       "       [ 6, 11,  8],\n",
       "       [-1,  4,  1],\n",
       "       [ 0,  5,  2]])"
      ]
     },
     "execution_count": 49,
     "metadata": {},
     "output_type": "execute_result"
    }
   ],
   "source": [
    "A - B"
   ]
  },
  {
   "attachments": {},
   "cell_type": "markdown",
   "metadata": {},
   "source": [
    "\n",
    "Broadcast junto con slicing nos permite sustituir los elementos del sub-array x el valor facilitado. "
   ]
  },
  {
   "cell_type": "code",
   "execution_count": 113,
   "metadata": {},
   "outputs": [
    {
     "data": {
      "text/plain": [
       "array([ 0,  1,  2,  3,  4,  5,  6,  7,  8,  9, 10])"
      ]
     },
     "execution_count": 113,
     "metadata": {},
     "output_type": "execute_result"
    }
   ],
   "source": [
    "arr = np.arange(0,11)\n",
    "\n",
    "arr"
   ]
  },
  {
   "cell_type": "code",
   "execution_count": 116,
   "metadata": {},
   "outputs": [],
   "source": [
    "arr2 = arr[:5] \n",
    "arr2[:]=99"
   ]
  },
  {
   "cell_type": "code",
   "execution_count": 117,
   "metadata": {},
   "outputs": [
    {
     "data": {
      "text/plain": [
       "array([99, 99, 99, 99, 99])"
      ]
     },
     "execution_count": 117,
     "metadata": {},
     "output_type": "execute_result"
    }
   ],
   "source": [
    "arr2"
   ]
  },
  {
   "cell_type": "code",
   "execution_count": 118,
   "metadata": {},
   "outputs": [
    {
     "data": {
      "text/plain": [
       "array([99, 99, 99, 99, 99,  5,  6,  7,  8,  9, 10])"
      ]
     },
     "execution_count": 118,
     "metadata": {},
     "output_type": "execute_result"
    }
   ],
   "source": [
    "arr"
   ]
  },
  {
   "cell_type": "code",
   "execution_count": 119,
   "metadata": {},
   "outputs": [],
   "source": [
    "numpy_arr1 = np.array([1,2,3,4,5,6,7,8,9,10])\n",
    "\n",
    "numpy_arr2 = numpy_arr1[:3]"
   ]
  },
  {
   "cell_type": "code",
   "execution_count": 120,
   "metadata": {},
   "outputs": [],
   "source": [
    "numpy_arr2[:] = 99"
   ]
  },
  {
   "cell_type": "code",
   "execution_count": 121,
   "metadata": {},
   "outputs": [
    {
     "data": {
      "text/plain": [
       "(array([99, 99, 99,  4,  5,  6,  7,  8,  9, 10]), array([99, 99, 99]))"
      ]
     },
     "execution_count": 121,
     "metadata": {},
     "output_type": "execute_result"
    }
   ],
   "source": [
    "# AQUÍ VEMOS COMO CAMBIA TANTO EL ARRAY ORIGINAL COMO EL DEL SPLICING\n",
    "# NUMPY FUNCIONA ASÍ PARA EVITAR PROBLEMAS DE MEMORIA EN ARRAYS MUY GRANDES\n",
    "\n",
    "numpy_arr1,numpy_arr2"
   ]
  },
  {
   "cell_type": "code",
   "execution_count": 122,
   "metadata": {},
   "outputs": [],
   "source": [
    "# SI REALMENTE QUEREMOS HACER UNA COPIA TENDREMOS QUE ESPECIFICARLO\n",
    "\n",
    "numpy_arr1 = np.array([1,2,3,4,5,6,7,8,9,10])\n",
    "\n",
    "numpy_arr2 = numpy_arr1.copy()[:3]"
   ]
  },
  {
   "cell_type": "code",
   "execution_count": 124,
   "metadata": {},
   "outputs": [],
   "source": [
    "numpy_arr2[:] = 99"
   ]
  },
  {
   "cell_type": "code",
   "execution_count": 125,
   "metadata": {},
   "outputs": [
    {
     "data": {
      "text/plain": [
       "(array([ 1,  2,  3,  4,  5,  6,  7,  8,  9, 10]), array([99, 99, 99]))"
      ]
     },
     "execution_count": 125,
     "metadata": {},
     "output_type": "execute_result"
    }
   ],
   "source": [
    "numpy_arr1,numpy_arr2"
   ]
  },
  {
   "cell_type": "markdown",
   "metadata": {},
   "source": [
    "### indexing en una matriz (array 2D)\n",
    "\n",
    "Tenemos dos notaciones:\n",
    "\n",
    "- doble corchete\n",
    "- un corchete con coma"
   ]
  },
  {
   "cell_type": "code",
   "execution_count": 130,
   "metadata": {},
   "outputs": [],
   "source": [
    "arr_2d = np.array([\n",
    "    [1,2,3],\n",
    "    [4,5,6],\n",
    "    [7,8,9]\n",
    "])"
   ]
  },
  {
   "cell_type": "code",
   "execution_count": 132,
   "metadata": {},
   "outputs": [
    {
     "data": {
      "text/plain": [
       "1"
      ]
     },
     "execution_count": 132,
     "metadata": {},
     "output_type": "execute_result"
    }
   ],
   "source": [
    "arr_2d[0][0]"
   ]
  },
  {
   "cell_type": "code",
   "execution_count": 133,
   "metadata": {},
   "outputs": [
    {
     "data": {
      "text/plain": [
       "1"
      ]
     },
     "execution_count": 133,
     "metadata": {},
     "output_type": "execute_result"
    }
   ],
   "source": [
    "#   fila, columna\n",
    "arr_2d[0,0]"
   ]
  },
  {
   "attachments": {},
   "cell_type": "markdown",
   "metadata": {},
   "source": [
    "Ahora podemos usar esta matriz booleana para realizar una acción sobre la matriz original, por ejemplo todos los items==3 convertirlos en 0"
   ]
  },
  {
   "cell_type": "markdown",
   "metadata": {},
   "source": [
    "#### slicing con la notación de la coma"
   ]
  },
  {
   "cell_type": "code",
   "execution_count": 137,
   "metadata": {},
   "outputs": [
    {
     "data": {
      "text/plain": [
       "array([[2, 3],\n",
       "       [5, 6]])"
      ]
     },
     "execution_count": 137,
     "metadata": {},
     "output_type": "execute_result"
    }
   ],
   "source": [
    "#      fila,columna\n",
    "arr_2d[:2,1:]"
   ]
  },
  {
   "cell_type": "code",
   "execution_count": 143,
   "metadata": {},
   "outputs": [
    {
     "data": {
      "text/plain": [
       "array([[99, 99, 99],\n",
       "       [99, 99, 99]])"
      ]
     },
     "execution_count": 143,
     "metadata": {},
     "output_type": "execute_result"
    }
   ],
   "source": [
    "t = arr_2d[:2]\n",
    "\n",
    "t[:] = 99\n",
    "\n",
    "t"
   ]
  },
  {
   "cell_type": "code",
   "execution_count": 144,
   "metadata": {},
   "outputs": [
    {
     "data": {
      "text/plain": [
       "array([[99, 99, 99],\n",
       "       [99, 99, 99],\n",
       "       [ 7,  8,  9]])"
      ]
     },
     "execution_count": 144,
     "metadata": {},
     "output_type": "execute_result"
    }
   ],
   "source": [
    "# SUCEDE LO MISMO Q CON EL ARRAY 1D EL SLICING EN MATRICES TB ES UNA VISTA DE LA MATRIZ ORIGINAL ASÍ \n",
    "#  SI LA MODIFICAMOS TB LO HACEMOS SOBRE LA MATRIZ ORIGINAL\n",
    "\n",
    "arr_2d"
   ]
  },
  {
   "attachments": {},
   "cell_type": "markdown",
   "metadata": {},
   "source": [
    "#### Seleccion condicional o Boolean indexing\n",
    "\n",
    "Partiendo de nuestro array podemos creae su equivalente en booleanos, es decir evaluar cada elemento del array según una ocndición"
   ]
  },
  {
   "cell_type": "code",
   "execution_count": 148,
   "metadata": {},
   "outputs": [
    {
     "data": {
      "text/plain": [
       "array([ 0,  1,  2,  3,  4,  5,  6,  7,  8,  9, 10])"
      ]
     },
     "execution_count": 148,
     "metadata": {},
     "output_type": "execute_result"
    }
   ],
   "source": [
    "arr = np.arange(11)\n",
    "arr"
   ]
  },
  {
   "cell_type": "code",
   "execution_count": 149,
   "metadata": {},
   "outputs": [
    {
     "data": {
      "text/plain": [
       "array([False, False, False, False, False, False,  True,  True,  True,\n",
       "        True,  True])"
      ]
     },
     "execution_count": 149,
     "metadata": {},
     "output_type": "execute_result"
    }
   ],
   "source": [
    "\n",
    "bool_arr = arr > 5\n",
    "\n",
    "bool_arr"
   ]
  },
  {
   "cell_type": "code",
   "execution_count": 150,
   "metadata": {},
   "outputs": [
    {
     "data": {
      "text/plain": [
       "array([ 6,  7,  8,  9, 10])"
      ]
     },
     "execution_count": 150,
     "metadata": {},
     "output_type": "execute_result"
    }
   ],
   "source": [
    "arr[bool_arr]"
   ]
  },
  {
   "cell_type": "markdown",
   "metadata": {},
   "source": [
    "* podemos hacer esto en un mismo paso"
   ]
  },
  {
   "cell_type": "code",
   "execution_count": 154,
   "metadata": {},
   "outputs": [
    {
     "data": {
      "text/plain": [
       "array([ 6,  7,  8,  9, 10])"
      ]
     },
     "execution_count": 154,
     "metadata": {},
     "output_type": "execute_result"
    }
   ],
   "source": [
    "arr[arr>5]"
   ]
  },
  {
   "cell_type": "markdown",
   "metadata": {},
   "source": [
    "podemos evaluar cualquier condición"
   ]
  },
  {
   "cell_type": "code",
   "execution_count": 155,
   "metadata": {},
   "outputs": [
    {
     "data": {
      "text/plain": [
       "array([ 0,  2,  4,  6,  8, 10])"
      ]
     },
     "execution_count": 155,
     "metadata": {},
     "output_type": "execute_result"
    }
   ],
   "source": [
    "arr[arr % 2 == 0] # pares"
   ]
  },
  {
   "cell_type": "code",
   "execution_count": 156,
   "metadata": {},
   "outputs": [
    {
     "data": {
      "text/plain": [
       "array([[ 0,  1,  2,  3,  4,  5,  6,  7,  8,  9],\n",
       "       [10, 11, 12, 13, 14, 15, 16, 17, 18, 19],\n",
       "       [20, 21, 22, 23, 24, 25, 26, 27, 28, 29],\n",
       "       [30, 31, 32, 33, 34, 35, 36, 37, 38, 39],\n",
       "       [40, 41, 42, 43, 44, 45, 46, 47, 48, 49]])"
      ]
     },
     "execution_count": 156,
     "metadata": {},
     "output_type": "execute_result"
    }
   ],
   "source": [
    "arr2 = np.arange(50).reshape(5,10)\n",
    "\n",
    "arr2"
   ]
  },
  {
   "cell_type": "code",
   "execution_count": 157,
   "metadata": {},
   "outputs": [
    {
     "data": {
      "text/plain": [
       "array([23, 24, 25, 26, 27])"
      ]
     },
     "execution_count": 157,
     "metadata": {},
     "output_type": "execute_result"
    }
   ],
   "source": [
    "arr2[2,3:8]"
   ]
  },
  {
   "attachments": {},
   "cell_type": "markdown",
   "metadata": {},
   "source": [
    "otro ejemplo de boolean indexing"
   ]
  },
  {
   "cell_type": "code",
   "execution_count": null,
   "metadata": {},
   "outputs": [
    {
     "data": {
      "text/plain": [
       "array([[3, 9, 7],\n",
       "       [2, 0, 3],\n",
       "       [3, 3, 1]])"
      ]
     },
     "metadata": {},
     "output_type": "display_data"
    }
   ],
   "source": [
    "foo = np.array([\n",
    "    [3,9,7],\n",
    "    [2,0,3],\n",
    "    [3,3,1]\n",
    "])\n",
    "\n",
    "foo"
   ]
  },
  {
   "cell_type": "code",
   "execution_count": null,
   "metadata": {},
   "outputs": [
    {
     "data": {
      "text/plain": [
       "array([[ True, False, False],\n",
       "       [False, False,  True],\n",
       "       [ True,  True, False]])"
      ]
     },
     "metadata": {},
     "output_type": "display_data"
    }
   ],
   "source": [
    "mask = foo == 3\n",
    "mask"
   ]
  },
  {
   "attachments": {},
   "cell_type": "markdown",
   "metadata": {},
   "source": [
    "Ahora podemos usar esta matriz booleana para realizar una acción sobre la matriz original, por ejemplo todos los items==3 convertirlos en 0"
   ]
  },
  {
   "cell_type": "code",
   "execution_count": null,
   "metadata": {},
   "outputs": [
    {
     "data": {
      "text/plain": [
       "array([[0, 9, 7],\n",
       "       [2, 0, 0],\n",
       "       [0, 0, 1]])"
      ]
     },
     "metadata": {},
     "output_type": "display_data"
    }
   ],
   "source": [
    "foo[mask]=0\n",
    "\n",
    "foo"
   ]
  },
  {
   "cell_type": "code",
   "execution_count": 36,
   "metadata": {},
   "outputs": [],
   "source": [
    "names = np.array(['Dennis','Dee','Charlie','Mac','Frank'])\n",
    "ages = np.array( [43,44,43,42,74])\n",
    "genders = np.array( ['male','female','male','male','male'])\n"
   ]
  },
  {
   "attachments": {},
   "cell_type": "markdown",
   "metadata": {},
   "source": [
    "Quien es mayor de 44?"
   ]
  },
  {
   "cell_type": "code",
   "execution_count": 33,
   "metadata": {},
   "outputs": [
    {
     "data": {
      "text/plain": [
       "array([False,  True, False, False,  True])"
      ]
     },
     "execution_count": 33,
     "metadata": {},
     "output_type": "execute_result"
    }
   ],
   "source": [
    "ages>=44"
   ]
  },
  {
   "cell_type": "code",
   "execution_count": 32,
   "metadata": {},
   "outputs": [
    {
     "data": {
      "text/plain": [
       "array(['Dee', 'Frank'], dtype='<U7')"
      ]
     },
     "execution_count": 32,
     "metadata": {},
     "output_type": "execute_result"
    }
   ],
   "source": [
    "names[ages>=44]"
   ]
  },
  {
   "attachments": {},
   "cell_type": "markdown",
   "metadata": {},
   "source": [
    "hombres mayors de 42"
   ]
  },
  {
   "cell_type": "code",
   "execution_count": 37,
   "metadata": {},
   "outputs": [
    {
     "data": {
      "text/plain": [
       "array(['Dennis', 'Charlie', 'Frank'], dtype='<U7')"
      ]
     },
     "execution_count": 37,
     "metadata": {},
     "output_type": "execute_result"
    }
   ],
   "source": [
    "names[ (ages>42) & (genders=='male')]"
   ]
  },
  {
   "attachments": {},
   "cell_type": "markdown",
   "metadata": {},
   "source": [
    "Quien no es hombre o is menor de 43"
   ]
  },
  {
   "cell_type": "code",
   "execution_count": 38,
   "metadata": {},
   "outputs": [
    {
     "data": {
      "text/plain": [
       "array(['Dee', 'Mac'], dtype='<U7')"
      ]
     },
     "execution_count": 38,
     "metadata": {},
     "output_type": "execute_result"
    }
   ],
   "source": [
    "names[ (ages<43) | ~(genders=='male')]"
   ]
  },
  {
   "cell_type": "markdown",
   "metadata": {},
   "source": [
    "## Operaciones matemáticas con arrays"
   ]
  },
  {
   "cell_type": "code",
   "execution_count": 9,
   "metadata": {},
   "outputs": [],
   "source": [
    "arr3 = np.arange(11)\n",
    "arr4 = np.arange(11)\n",
    "\n",
    "foo = np.array([ [4,3], [1,0]  ])\n",
    "bar = np.array([ [1,2], [3,4]  ])"
   ]
  },
  {
   "cell_type": "markdown",
   "metadata": {},
   "source": [
    "Si sumo dos matrices, sucede lo siguiente:\n",
    "\n",
    "![not found](../../img/15.png)\n",
    "\n",
    "y esto para cada operación, siempre se sumará el valor de la posición [0,0] de la matriz A con el valor de la posición [0,0] de la matriz B y así con todas las posiciones."
   ]
  },
  {
   "cell_type": "code",
   "execution_count": 15,
   "metadata": {},
   "outputs": [
    {
     "data": {
      "text/plain": [
       "array([[4, 3],\n",
       "       [1, 0]])"
      ]
     },
     "execution_count": 15,
     "metadata": {},
     "output_type": "execute_result"
    }
   ],
   "source": [
    "foo\n"
   ]
  },
  {
   "cell_type": "code",
   "execution_count": 16,
   "metadata": {},
   "outputs": [
    {
     "data": {
      "text/plain": [
       "array([[1, 2],\n",
       "       [3, 4]])"
      ]
     },
     "execution_count": 16,
     "metadata": {},
     "output_type": "execute_result"
    }
   ],
   "source": [
    "bar"
   ]
  },
  {
   "cell_type": "code",
   "execution_count": 12,
   "metadata": {},
   "outputs": [
    {
     "data": {
      "text/plain": [
       "array([[5, 5],\n",
       "       [4, 4]])"
      ]
     },
     "execution_count": 12,
     "metadata": {},
     "output_type": "execute_result"
    }
   ],
   "source": [
    "foo + bar"
   ]
  },
  {
   "cell_type": "code",
   "execution_count": 18,
   "metadata": {},
   "outputs": [
    {
     "data": {
      "text/plain": [
       "array([[ 3,  1],\n",
       "       [-2, -4]])"
      ]
     },
     "execution_count": 18,
     "metadata": {},
     "output_type": "execute_result"
    }
   ],
   "source": [
    "foo - bar"
   ]
  },
  {
   "cell_type": "code",
   "execution_count": 19,
   "metadata": {},
   "outputs": [
    {
     "data": {
      "text/plain": [
       "array([[4, 6],\n",
       "       [3, 0]])"
      ]
     },
     "execution_count": 19,
     "metadata": {},
     "output_type": "execute_result"
    }
   ],
   "source": [
    "foo * bar"
   ]
  },
  {
   "cell_type": "code",
   "execution_count": 20,
   "metadata": {},
   "outputs": [
    {
     "data": {
      "text/plain": [
       "array([[4.        , 1.5       ],\n",
       "       [0.33333333, 0.        ]])"
      ]
     },
     "execution_count": 20,
     "metadata": {},
     "output_type": "execute_result"
    }
   ],
   "source": [
    "foo / bar"
   ]
  },
  {
   "cell_type": "markdown",
   "metadata": {},
   "source": [
    "Cuando queremos sacar el `producto matricial` de dos matrices usamos el operador `@` de numpy. Para poder multiplicar dos matrices A y B el número de columnas de A debe coincide con el número de filas de B.\n",
    "\n",
    "![not found](../../img/16.png)"
   ]
  },
  {
   "cell_type": "code",
   "execution_count": 22,
   "metadata": {},
   "outputs": [],
   "source": [
    "foo = np.array([ [2,0], [1,9]  ])\n",
    "bar = np.array([ [3,9], [4,7]  ])"
   ]
  },
  {
   "cell_type": "code",
   "execution_count": 23,
   "metadata": {},
   "outputs": [
    {
     "data": {
      "text/plain": [
       "array([[ 6, 18],\n",
       "       [39, 72]])"
      ]
     },
     "execution_count": 23,
     "metadata": {},
     "output_type": "execute_result"
    }
   ],
   "source": [
    "foo @ bar"
   ]
  },
  {
   "cell_type": "markdown",
   "metadata": {},
   "source": [
    "Si sumo vecores (1D-arrays) ES NECESARIO QUE TENGAN LA MISMA LONGITUD"
   ]
  },
  {
   "cell_type": "code",
   "execution_count": 24,
   "metadata": {},
   "outputs": [
    {
     "data": {
      "text/plain": [
       "array([ 0,  2,  4,  6,  8, 10, 12, 14, 16, 18, 20])"
      ]
     },
     "execution_count": 24,
     "metadata": {},
     "output_type": "execute_result"
    }
   ],
   "source": [
    "arr5 =arr3 + arr4\n",
    "arr5"
   ]
  },
  {
   "cell_type": "code",
   "execution_count": 188,
   "metadata": {},
   "outputs": [
    {
     "data": {
      "text/plain": [
       "array([100, 102, 104, 106, 108, 110, 112, 114, 116, 118, 120])"
      ]
     },
     "execution_count": 188,
     "metadata": {},
     "output_type": "execute_result"
    }
   ],
   "source": [
    "arr5 + 100"
   ]
  },
  {
   "cell_type": "code",
   "execution_count": 187,
   "metadata": {},
   "outputs": [
    {
     "data": {
      "text/plain": [
       "array([ 0,  4,  8, 12, 16, 20, 24, 28, 32, 36, 40])"
      ]
     },
     "execution_count": 187,
     "metadata": {},
     "output_type": "execute_result"
    }
   ],
   "source": [
    "arr5*2"
   ]
  },
  {
   "cell_type": "code",
   "execution_count": 185,
   "metadata": {},
   "outputs": [
    {
     "data": {
      "text/plain": [
       "array([0, 0, 0, 0, 0, 0, 0, 0, 0, 0, 0])"
      ]
     },
     "execution_count": 185,
     "metadata": {},
     "output_type": "execute_result"
    }
   ],
   "source": [
    "arr5 =arr3 - arr4\n",
    "arr5"
   ]
  },
  {
   "cell_type": "code",
   "execution_count": 18,
   "metadata": {},
   "outputs": [
    {
     "data": {
      "text/plain": [
       "[1, 2, 3, 1, 2]"
      ]
     },
     "execution_count": 18,
     "metadata": {},
     "output_type": "execute_result"
    }
   ],
   "source": [
    "# ESTO ES LO Q PASA CON LOS ARRAYS EN PYTHON, NO SE SUMAN SE CONCATENAN X LO Q PUEDEN TENER LONGITUDES DIFERENTES\n",
    "\n",
    "l = [1,2,3]\n",
    "l2= [1,2]\n",
    "\n",
    "l + l2"
   ]
  },
  {
   "cell_type": "code",
   "execution_count": 193,
   "metadata": {},
   "outputs": [
    {
     "data": {
      "text/plain": [
       "array([ 0,  2,  4,  6,  8, 10, 12, 14, 16, 18, 20])"
      ]
     },
     "execution_count": 193,
     "metadata": {},
     "output_type": "execute_result"
    }
   ],
   "source": [
    "arr5"
   ]
  },
  {
   "cell_type": "code",
   "execution_count": 192,
   "metadata": {},
   "outputs": [
    {
     "data": {
      "text/plain": [
       "array([  0,   4,  16,  36,  64, 100, 144, 196, 256, 324, 400])"
      ]
     },
     "execution_count": 192,
     "metadata": {},
     "output_type": "execute_result"
    }
   ],
   "source": [
    "arr5 ** 2"
   ]
  },
  {
   "cell_type": "code",
   "execution_count": 190,
   "metadata": {},
   "outputs": [
    {
     "name": "stdout",
     "output_type": "stream",
     "text": [
      "[ 0  2  4  6  8 10 12 14 16 18 20]\n"
     ]
    },
    {
     "name": "stderr",
     "output_type": "stream",
     "text": [
      "/tmp/ipykernel_7690/4288252157.py:4: RuntimeWarning: invalid value encountered in divide\n",
      "  arr5 / arr5\n"
     ]
    },
    {
     "data": {
      "text/plain": [
       "array([nan,  1.,  1.,  1.,  1.,  1.,  1.,  1.,  1.,  1.,  1.])"
      ]
     },
     "execution_count": 190,
     "metadata": {},
     "output_type": "execute_result"
    }
   ],
   "source": [
    "# UN COMPORTAMINETO DISTINTO DE LOS ARRAYS DE NUMPY ES Q SI SE ENCUENTRAN CON UNA OPERACIÓN QUE \n",
    "# NO TIENE SOLUCIÓN COMO DIVISIÓN ENTRE 0 NO PARA LA EJECUCIÓN\n",
    "print(arr5)\n",
    "arr5 / arr5"
   ]
  },
  {
   "cell_type": "code",
   "execution_count": 191,
   "metadata": {},
   "outputs": [
    {
     "name": "stderr",
     "output_type": "stream",
     "text": [
      "/tmp/ipykernel_7690/1138687670.py:1: RuntimeWarning: divide by zero encountered in divide\n",
      "  1 / arr5\n"
     ]
    },
    {
     "data": {
      "text/plain": [
       "array([       inf, 0.5       , 0.25      , 0.16666667, 0.125     ,\n",
       "       0.1       , 0.08333333, 0.07142857, 0.0625    , 0.05555556,\n",
       "       0.05      ])"
      ]
     },
     "execution_count": 191,
     "metadata": {},
     "output_type": "execute_result"
    }
   ],
   "source": [
    "1 / arr5"
   ]
  },
  {
   "cell_type": "code",
   "execution_count": 194,
   "metadata": {},
   "outputs": [
    {
     "data": {
      "text/plain": [
       "array([0.        , 1.        , 1.41421356, 1.73205081, 2.        ,\n",
       "       2.23606798, 2.44948974, 2.64575131, 2.82842712, 3.        ,\n",
       "       3.16227766])"
      ]
     },
     "execution_count": 194,
     "metadata": {},
     "output_type": "execute_result"
    }
   ],
   "source": [
    "np.sqrt(arr)"
   ]
  },
  {
   "cell_type": "code",
   "execution_count": 198,
   "metadata": {},
   "outputs": [
    {
     "data": {
      "text/plain": [
       "array([1.00000000e+00, 2.71828183e+00, 7.38905610e+00, 2.00855369e+01,\n",
       "       5.45981500e+01, 1.48413159e+02, 4.03428793e+02, 1.09663316e+03,\n",
       "       2.98095799e+03, 8.10308393e+03, 2.20264658e+04])"
      ]
     },
     "execution_count": 198,
     "metadata": {},
     "output_type": "execute_result"
    }
   ],
   "source": [
    "# CALCLA LA EXPONENCIAL DE CADA UNO DE LOS NÚMEROS DEL ARRAY, ESTO ES e elevado a cada número del array\n",
    "np.exp(arr3)"
   ]
  },
  {
   "cell_type": "code",
   "execution_count": 200,
   "metadata": {},
   "outputs": [
    {
     "data": {
      "text/plain": [
       "10"
      ]
     },
     "execution_count": 200,
     "metadata": {},
     "output_type": "execute_result"
    }
   ],
   "source": [
    "np.max(arr3)"
   ]
  },
  {
   "cell_type": "code",
   "execution_count": 202,
   "metadata": {},
   "outputs": [
    {
     "data": {
      "text/plain": [
       "0"
      ]
     },
     "execution_count": 202,
     "metadata": {},
     "output_type": "execute_result"
    }
   ],
   "source": [
    "np.min(arr3)"
   ]
  },
  {
   "cell_type": "code",
   "execution_count": 203,
   "metadata": {},
   "outputs": [
    {
     "data": {
      "text/plain": [
       "array([ 0.        ,  0.84147098,  0.90929743,  0.14112001, -0.7568025 ,\n",
       "       -0.95892427, -0.2794155 ,  0.6569866 ,  0.98935825,  0.41211849,\n",
       "       -0.54402111])"
      ]
     },
     "execution_count": 203,
     "metadata": {},
     "output_type": "execute_result"
    }
   ],
   "source": [
    "np.sin(arr3)"
   ]
  },
  {
   "cell_type": "code",
   "execution_count": 204,
   "metadata": {},
   "outputs": [
    {
     "name": "stderr",
     "output_type": "stream",
     "text": [
      "/tmp/ipykernel_7690/2430430252.py:1: RuntimeWarning: divide by zero encountered in log\n",
      "  np.log(arr3)\n"
     ]
    },
    {
     "data": {
      "text/plain": [
       "array([      -inf, 0.        , 0.69314718, 1.09861229, 1.38629436,\n",
       "       1.60943791, 1.79175947, 1.94591015, 2.07944154, 2.19722458,\n",
       "       2.30258509])"
      ]
     },
     "execution_count": 204,
     "metadata": {},
     "output_type": "execute_result"
    }
   ],
   "source": [
    "np.log(arr3)"
   ]
  },
  {
   "cell_type": "markdown",
   "metadata": {},
   "source": [
    "# Numpy curso de youtube\n",
    "\n",
    "[source](https://www.youtube.com/watch?v=eClQWW_gbFk)  \n",
    "[funciones-numpy](https://www.javatpoint.com/numpy-tutorial)\n",
    "\n",
    "## Arrays\n",
    "\n",
    "Los arrays n-dimensionales son la principal estructura de datos en numpy. Numpy surge ante la necesidad de gestionar de una manera más eficiente las listas de python, y poder realizar cálculos estadísticos sobre los valores que contiene.\n",
    "Lo mñas eficiente para trabajar con los arrays de numpy es q contengan el mismo tipo de dato, aunq se puedan almacenar distintos tipos a la vez pero no es recomendable.\n",
    "\n",
    "Ventajas de numpy:\n",
    "\n",
    "- muchos más rápido \n",
    "- sintaxis sencilla\n",
    "\n",
    "Uno de los motivos por los q arrays en numpy son más rápidos es pq cada elemento contenido en el array ocupa una misma longitud. Por ejemplo si guardamos integers estos ocupan 32  bits, por lo q si queremos el 3 elementos solo tiene q contar 32 + 32 +32 para llegar al elemento lo q lo hace muy rápido. Y así con todos los tipos de datos, guardemos lo q guardemos. "
   ]
  },
  {
   "cell_type": "markdown",
   "metadata": {},
   "source": [
    "![not found](../../img/7.png)"
   ]
  },
  {
   "cell_type": "markdown",
   "metadata": {},
   "source": [
    "Ahora bien las `lists` de python funcionan diferente, éstas guardan direcciones de memoria. Es como solucionan el problema de los strings.\n",
    "\n",
    "Ahora bien que sucede con los strings? pues que los strings tienen longitudes diferentes por lo q ocupan un espacio diferente en memoria o incluso si sustituimos un string corto por otro de mayor longitud por lo q no se puede aplicar lo anterior."
   ]
  },
  {
   "cell_type": "markdown",
   "metadata": {},
   "source": [
    "![not found](../../img/8.png)"
   ]
  },
  {
   "cell_type": "markdown",
   "metadata": {},
   "source": [
    "la solución fue almacenar en LA LISTA la dirección en momoria de esos objetos, esa dirección se puede representar como un int de 32 bits. ESTO SUCEDE EN LA IMPLEMENTACIÓN DE LAS `LIST` DE PYTHON. \n",
    "\n",
    "En `numpy` lo q hace es fijar un tamaño para cada elemento del array en función del string de mayor tamaño."
   ]
  },
  {
   "cell_type": "markdown",
   "metadata": {},
   "source": [
    "#### implementacion listas python"
   ]
  },
  {
   "cell_type": "markdown",
   "metadata": {},
   "source": [
    "![not found](../../img/9.png)"
   ]
  },
  {
   "cell_type": "code",
   "execution_count": 9,
   "metadata": {},
   "outputs": [],
   "source": [
    "# puedo crear un array de integers y strings, para respetar q todos los elemenmtos sean del mismo tipo numpy hace un cast de los int a str\n",
    "\n",
    "my_int_str_arr = np.array([1,'hello',2])"
   ]
  },
  {
   "cell_type": "markdown",
   "metadata": {},
   "source": [
    "PERO automáticamente nos fija un tamaño para todos los elementos en `<U21` es decir todos los elementos tendrán una longitud inferior a 21 carcateres. Así si sustituyo el `1`  por un string solo guardará los primeros 21 carcateres"
   ]
  },
  {
   "cell_type": "code",
   "execution_count": 11,
   "metadata": {},
   "outputs": [
    {
     "name": "stdout",
     "output_type": "stream",
     "text": [
      "1\n",
      "esto es un string muy\n"
     ]
    }
   ],
   "source": [
    "print(my_int_str_arr[0])\n",
    "my_int_str_arr[0] = 'esto es un string muy muy muy pero que muy largo'\n",
    "\n",
    "print(my_int_str_arr[0])"
   ]
  },
  {
   "cell_type": "markdown",
   "metadata": {},
   "source": [
    "vemos como el string se trunca pq numpy fija esa posición a 21 cracteres."
   ]
  },
  {
   "cell_type": "markdown",
   "metadata": {},
   "source": [
    "Si creamos directamente una array de strings cogerá el string de mayor tamaño y fijara la longitud máxima de los elementos de ese array a ese valor máximo."
   ]
  },
  {
   "cell_type": "code",
   "execution_count": 14,
   "metadata": {},
   "outputs": [
    {
     "data": {
      "text/plain": [
       "dtype('<U5')"
      ]
     },
     "execution_count": 14,
     "metadata": {},
     "output_type": "execute_result"
    }
   ],
   "source": [
    "my_str_arr = np.array(['hi','there'])\n",
    "\n",
    "my_str_arr.dtype\n"
   ]
  },
  {
   "cell_type": "markdown",
   "metadata": {},
   "source": [
    "En el ejemplo vemos que al array `my_str_arr` le fija un tamaño max por elemento de 5, si intento modificar el primer elemento lo truncará\n"
   ]
  },
  {
   "cell_type": "code",
   "execution_count": 16,
   "metadata": {},
   "outputs": [
    {
     "data": {
      "text/plain": [
       "array(['goodM', 'there'], dtype='<U5')"
      ]
     },
     "execution_count": 16,
     "metadata": {},
     "output_type": "execute_result"
    }
   ],
   "source": [
    "my_str_arr[0] = 'goodMorning'\n",
    "\n",
    "my_str_arr"
   ]
  },
  {
   "cell_type": "code",
   "execution_count": 76,
   "metadata": {},
   "outputs": [
    {
     "data": {
      "text/plain": [
       "array(['1', 'hello', '2'], dtype='<U21')"
      ]
     },
     "execution_count": 76,
     "metadata": {},
     "output_type": "execute_result"
    }
   ],
   "source": [
    "# puedo crear un array de integers y strings, para respetar q todos los elemenmtos sean del mismo tipo numpy hace un cast de los int a str\n",
    "\n",
    "np.array([1,'hello',2])"
   ]
  },
  {
   "cell_type": "markdown",
   "metadata": {},
   "source": [
    "Algo parecido sucede cuando tenemos `ints`  and `floats`, numpy los castea todos a floats"
   ]
  },
  {
   "cell_type": "code",
   "execution_count": 17,
   "metadata": {},
   "outputs": [
    {
     "data": {
      "text/plain": [
       "array([[1. , 2. , 3. ],\n",
       "       [5.5, 5.6, 5.7]])"
      ]
     },
     "execution_count": 17,
     "metadata": {},
     "output_type": "execute_result"
    }
   ],
   "source": [
    "np.array([\n",
    "    [1,2,3],\n",
    "    [5.5,5.6,5.7]\n",
    "])"
   ]
  },
  {
   "cell_type": "markdown",
   "metadata": {},
   "source": [
    "Ahora el principio de los arrays dice q tienen q ser cuadradas, mismo número de filas q de columnas, si no respetamos este principio numply aplica un `dtype=object` lo q se asemeja a la solución planteada en las implementacion listas python"
   ]
  },
  {
   "cell_type": "code",
   "execution_count": 19,
   "metadata": {},
   "outputs": [
    {
     "name": "stderr",
     "output_type": "stream",
     "text": [
      "/tmp/ipykernel_36791/1059078976.py:1: VisibleDeprecationWarning: Creating an ndarray from ragged nested sequences (which is a list-or-tuple of lists-or-tuples-or ndarrays with different lengths or shapes) is deprecated. If you meant to do this, you must specify 'dtype=object' when creating the ndarray.\n",
      "  np.array([\n"
     ]
    },
    {
     "data": {
      "text/plain": [
       "array([list([1, 2, 3]), list([5])], dtype=object)"
      ]
     },
     "execution_count": 19,
     "metadata": {},
     "output_type": "execute_result"
    }
   ],
   "source": [
    "np.array([\n",
    "    [1,2,3],\n",
    "    [5]\n",
    "])"
   ]
  },
  {
   "cell_type": "markdown",
   "metadata": {},
   "source": [
    "### Generar arrays en numpy"
   ]
  },
  {
   "cell_type": "markdown",
   "metadata": {},
   "source": [
    "1. Generar array a partir de una `list` de python"
   ]
  },
  {
   "cell_type": "markdown",
   "metadata": {},
   "source": [
    "- 1D array"
   ]
  },
  {
   "cell_type": "code",
   "execution_count": 22,
   "metadata": {},
   "outputs": [
    {
     "data": {
      "text/plain": [
       "array(['a', 'b', 'c'], dtype='<U1')"
      ]
     },
     "execution_count": 22,
     "metadata": {},
     "output_type": "execute_result"
    }
   ],
   "source": [
    "np_array = np.array(['a','b','c'])\n",
    "np_array"
   ]
  },
  {
   "cell_type": "markdown",
   "metadata": {},
   "source": [
    "* 2D array o Matrices"
   ]
  },
  {
   "cell_type": "code",
   "execution_count": 23,
   "metadata": {},
   "outputs": [
    {
     "data": {
      "text/plain": [
       "array([['a', 'b', 'c'],\n",
       "       ['d', 'e', 'f']], dtype='<U1')"
      ]
     },
     "execution_count": 23,
     "metadata": {},
     "output_type": "execute_result"
    }
   ],
   "source": [
    "np_matrix = np.array([\n",
    "    ['a','b','c'],\n",
    "    ['d','e','f']\n",
    "    ])\n",
    "\n",
    "np_matrix"
   ]
  },
  {
   "cell_type": "markdown",
   "metadata": {},
   "source": [
    "* 3D array"
   ]
  },
  {
   "cell_type": "code",
   "execution_count": 27,
   "metadata": {},
   "outputs": [
    {
     "data": {
      "text/plain": [
       "array([[['a', 'b', 'c']],\n",
       "\n",
       "       [['d', 'e', 'f']]], dtype='<U1')"
      ]
     },
     "execution_count": 27,
     "metadata": {},
     "output_type": "execute_result"
    }
   ],
   "source": [
    "np_3D = np.array(\n",
    "[\n",
    "    [\n",
    "        ['a','b','c']\n",
    "        \n",
    "    ],\n",
    "    [\n",
    "        ['d','e','f']\n",
    "    ]\n",
    "]\n",
    ")\n",
    "\n",
    "np_3D"
   ]
  },
  {
   "cell_type": "markdown",
   "metadata": {},
   "source": [
    "# Ejercicios"
   ]
  },
  {
   "cell_type": "markdown",
   "metadata": {},
   "source": [
    "1. Anotamos nuestro peso cada día durante 5 semanas, dado esos datos contruir un array con la media de los pesos por semana"
   ]
  },
  {
   "cell_type": "code",
   "execution_count": 25,
   "metadata": {},
   "outputs": [
    {
     "data": {
      "text/plain": [
       "array([185. , 184.8, 184.6, 184.4, 184.2, 184. , 183.8, 183.6, 183.4,\n",
       "       183.2, 183. , 182.8, 182.6, 182.4, 182.2, 182. , 181.8, 181.6,\n",
       "       181.4, 181.2, 181. , 180.8, 180.6, 180.4, 180.2, 180. , 179.8,\n",
       "       179.6, 179.4, 179.2, 179. , 178.8, 178.6, 178.4, 178.2])"
      ]
     },
     "execution_count": 25,
     "metadata": {},
     "output_type": "execute_result"
    }
   ],
   "source": [
    "dailywts = 185 - np.arange(5*7)/5\n",
    "dailywts"
   ]
  },
  {
   "cell_type": "code",
   "execution_count": 33,
   "metadata": {},
   "outputs": [
    {
     "data": {
      "text/plain": [
       "array([[185. , 184.8, 184.6, 184.4, 184.2, 184. , 183.8],\n",
       "       [183.6, 183.4, 183.2, 183. , 182.8, 182.6, 182.4],\n",
       "       [182.2, 182. , 181.8, 181.6, 181.4, 181.2, 181. ],\n",
       "       [180.8, 180.6, 180.4, 180.2, 180. , 179.8, 179.6],\n",
       "       [179.4, 179.2, 179. , 178.8, 178.6, 178.4, 178.2]])"
      ]
     },
     "execution_count": 33,
     "metadata": {},
     "output_type": "execute_result"
    }
   ],
   "source": [
    "dailywts.resize(5,7)\n",
    "dailywts\n"
   ]
  },
  {
   "cell_type": "code",
   "execution_count": 35,
   "metadata": {},
   "outputs": [
    {
     "data": {
      "text/plain": [
       "array([183.9, 182.5, 181.1, 179.7, 178.3])"
      ]
     },
     "execution_count": 35,
     "metadata": {},
     "output_type": "execute_result"
    }
   ],
   "source": [
    "dailywts[:,[-2,-1]].sum(axis=1)/2\n"
   ]
  },
  {
   "cell_type": "markdown",
   "metadata": {},
   "source": [
    "Otra solución podría ser, buscar la posición de todos los sábados ([5::7] esto es start(5):stop(by default -1):step(7))  y luego hacemos lo mismo con los domingos ([6::7] ) finalmente sumamos los vectores y dividimos entre 2"
   ]
  },
  {
   "cell_type": "code",
   "execution_count": 43,
   "metadata": {},
   "outputs": [
    {
     "data": {
      "text/plain": [
       "array([183.9, 182.5, 181.1, 179.7, 178.3])"
      ]
     },
     "execution_count": 43,
     "metadata": {},
     "output_type": "execute_result"
    }
   ],
   "source": [
    "dailywts2 = 185 - np.arange(5*7)/5\n",
    "dailywts2\n",
    "\n",
    "sabados =  dailywts2[5::7]\n",
    "domingos = dailywts2[6::7]\n",
    "\n",
    "pesos_medios = (sabados + domingos)/2\n",
    "\n",
    "pesos_medios"
   ]
  },
  {
   "cell_type": "markdown",
   "metadata": {},
   "source": [
    "2. Tenemos un matriz gold que representa un terreno dividido en cuadrícula de 7x7 y en cada posición se encuentra una cantidad de oro. Luego tenemos la matriz loc con localizaciones (fila,columna).\n",
    "\n",
    "Calcular cuanto oro hay por localización."
   ]
  },
  {
   "cell_type": "code",
   "execution_count": 4,
   "metadata": {},
   "outputs": [],
   "source": [
    "np.random.seed(5555) # es como un punto inicial paa el algoritmo q genera el número aleatorio, si lo fjamos el valor de los números aleatorios siempre será el mismo\n",
    "gold = np.random.randint(low=0,high=10,size=(7,7))\n",
    "locs = np.array([\n",
    "    [0,4],\n",
    "    [2,2],\n",
    "    [2,3],\n",
    "    [5,1],\n",
    "    [6,3],\n",
    "\n",
    "])"
   ]
  },
  {
   "cell_type": "code",
   "execution_count": 15,
   "metadata": {},
   "outputs": [
    {
     "data": {
      "text/plain": [
       "20"
      ]
     },
     "execution_count": 15,
     "metadata": {},
     "output_type": "execute_result"
    }
   ],
   "source": [
    "total_gold = 0\n",
    "\n",
    "for loc in locs:\n",
    "    row,col = loc\n",
    "    total_gold+=gold[row,col]\n",
    "\n",
    "total_gold"
   ]
  },
  {
   "attachments": {},
   "cell_type": "markdown",
   "metadata": {},
   "source": [
    "Otra solución  \n",
    "Funciona pq podemos pasar una array con todas las filas deseadas y otro array con su correspondiente columna"
   ]
  },
  {
   "cell_type": "code",
   "execution_count": 19,
   "metadata": {},
   "outputs": [
    {
     "data": {
      "text/plain": [
       "20"
      ]
     },
     "execution_count": 19,
     "metadata": {},
     "output_type": "execute_result"
    }
   ],
   "source": [
    "gold[locs[:,0],locs[:,1]].sum()"
   ]
  },
  {
   "attachments": {},
   "cell_type": "markdown",
   "metadata": {},
   "source": [
    "1. Decidimos poner unos letreros que anuncien nuestro restaurante que está en el kilometro 30. Exactamente podenomos 3 letreros del km 17 al 28 y otros 3 letreros del km 32 al 36. En total del km 17 al 36 nuestros letreros muestran las letras A B C C B A. Cada letrero se situa a una misma distancia unos de otros. \n",
    "\n",
    "\n",
    "Qué distancia hay desde los letreros C hasta nuestro restaurante?."
   ]
  },
  {
   "cell_type": "code",
   "execution_count": 24,
   "metadata": {},
   "outputs": [
    {
     "name": "stdout",
     "output_type": "stream",
     "text": [
      " distancia del primer C al resta 2.0 km\n"
     ]
    }
   ],
   "source": [
    "first_c = abs(30 - np.linspace(17,28,3)[-1])\n",
    "print(f' distancia del primer C al resta {first_c} km')"
   ]
  },
  {
   "cell_type": "code",
   "execution_count": 25,
   "metadata": {},
   "outputs": [
    {
     "name": "stdout",
     "output_type": "stream",
     "text": [
      " distancia del primer C al resta 2.0 km\n"
     ]
    }
   ],
   "source": [
    "\n",
    "second_c = abs(30 - np.linspace(32,36,3)[0])\n",
    "print(f' distancia del primer C al resta {second_c} km')"
   ]
  },
  {
   "attachments": {},
   "cell_type": "markdown",
   "metadata": {},
   "source": [
    "Otra manera de hacerlo sería:"
   ]
  },
  {
   "cell_type": "code",
   "execution_count": 33,
   "metadata": {},
   "outputs": [
    {
     "data": {
      "text/plain": [
       "array([2., 2.])"
      ]
     },
     "execution_count": 33,
     "metadata": {},
     "output_type": "execute_result"
    }
   ],
   "source": [
    "distancia = np.abs(np.linspace(start=[17,32], stop=[28,36], num= 3, axis = 1)-30)\n",
    "distancia[[0,1],[-1,0]]"
   ]
  },
  {
   "cell_type": "code",
   "execution_count": 1,
   "metadata": {},
   "outputs": [
    {
     "name": "stdout",
     "output_type": "stream",
     "text": [
      "2019/11/27 11:27:22\n"
     ]
    }
   ],
   "source": [
    "from datetime import datetime\n",
    "\n",
    " \n",
    "\n",
    "datetime = datetime(2019, 11, 27, 11, 27, 22)\n",
    "\n",
    "print(datetime.strftime('%Y/%m/%d %H:%M:%S'))"
   ]
  },
  {
   "cell_type": "code",
   "execution_count": 4,
   "metadata": {},
   "outputs": [
    {
     "name": "stdout",
     "output_type": "stream",
     "text": [
      "100 400\n"
     ]
    }
   ],
   "source": [
    "class Count:\n",
    "\n",
    "   def __init__(self, count=0):\n",
    "\n",
    "      self.__count=count\n",
    "\n",
    " \n",
    "\n",
    "a=Count(2)\n",
    "\n",
    "b=Count(2)\n",
    "\n",
    "print(id(a)==id(b), end = \"\")\n",
    "\n",
    " \n",
    "\n",
    "c= \"hellooooooooooooooooooooooooooooooooooooooooooooooooooooooooooooooo\"\n",
    "\n",
    "d= \"hellooooooooooooooooooooooooooooooooooooooooooooooooooooooooooooooo\"\n",
    "\n",
    "print(id(c)==id(d))"
   ]
  },
  {
   "cell_type": "code",
   "execution_count": 14,
   "metadata": {},
   "outputs": [
    {
     "name": "stdout",
     "output_type": "stream",
     "text": [
      "100 400\n"
     ]
    }
   ],
   "source": [
    "class P:\n",
    "\n",
    "   def __init__(self):\n",
    "\n",
    "      self.__x=100\n",
    "\n",
    "      self.y=200\n",
    "\n",
    "   def print(self):\n",
    "\n",
    "      print(self.__x, self.y) \n",
    "\n",
    "class C(P):\n",
    "\n",
    "   def __init__(self):\n",
    "\n",
    "      super().__init__()\n",
    "\n",
    "      self.__x=300\n",
    "\n",
    "      self.y=400 \n",
    "\n",
    "d = C()\n",
    "\n",
    "d.print()"
   ]
  },
  {
   "cell_type": "code",
   "execution_count": 13,
   "metadata": {},
   "outputs": [
    {
     "data": {
      "text/plain": [
       "False"
      ]
     },
     "execution_count": 13,
     "metadata": {},
     "output_type": "execute_result"
    }
   ],
   "source": [
    "z = 2\n",
    "\n",
    "y = 1\n",
    "\n",
    "#x = y < z or z > y and y > z or z < y\n",
    "x = True or (True and False or False)\n",
    "\n",
    "x"
   ]
  },
  {
   "cell_type": "code",
   "execution_count": 20,
   "metadata": {},
   "outputs": [
    {
     "name": "stdout",
     "output_type": "stream",
     "text": [
      "140404415172912\n",
      "140404415172912\n"
     ]
    }
   ],
   "source": [
    "x = 'mio'\n",
    "\n",
    "y = x\n",
    "\n",
    "print(id(x))\n",
    "print(id(y))"
   ]
  },
  {
   "attachments": {},
   "cell_type": "markdown",
   "metadata": {},
   "source": [
    "esteban.vazquez@teslatechnologies.com"
   ]
  },
  {
   "cell_type": "code",
   "execution_count": null,
   "metadata": {},
   "outputs": [],
   "source": []
  }
 ],
 "metadata": {
  "kernelspec": {
   "display_name": "Python 3.10.6 ('venv_310': venv)",
   "language": "python",
   "name": "python3"
  },
  "language_info": {
   "codemirror_mode": {
    "name": "ipython",
    "version": 3
   },
   "file_extension": ".py",
   "mimetype": "text/x-python",
   "name": "python",
   "nbconvert_exporter": "python",
   "pygments_lexer": "ipython3",
   "version": "3.10.6 (main, Nov 14 2022, 16:10:14) [GCC 11.3.0]"
  },
  "orig_nbformat": 4,
  "vscode": {
   "interpreter": {
    "hash": "460abb67a27c9f39f84c90f9076c9ed6bda8de479250cb2b07f4cd398554b58e"
   }
  }
 },
 "nbformat": 4,
 "nbformat_minor": 2
}
